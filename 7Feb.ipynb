{
 "cells": [
  {
   "cell_type": "code",
   "execution_count": 60,
   "id": "73acf979-1501-4131-b1ab-90f3e553c187",
   "metadata": {},
   "outputs": [
    {
     "name": "stdin",
     "output_type": "stream",
     "text": [
      "Enter a password :  Hello@W#$1\n"
     ]
    },
    {
     "name": "stdout",
     "output_type": "stream",
     "text": [
      "Valid Password\n"
     ]
    }
   ],
   "source": [
    "# answer 1\n",
    "# check for valid password\n",
    "def is_valid(s):\n",
    "    upper,lower,nums,special_char=0,0,0,0\n",
    "    length=len(s)\n",
    "    for i in s:\n",
    "        sp=ord(i)\n",
    "        if i.isupper():\n",
    "            upper+=1\n",
    "        if i.islower():\n",
    "            lower+=1\n",
    "#       check if ascii values are for the integers from 0 to 9\n",
    "        if sp-48>=0 and sp-48<=9:\n",
    "            nums+=1\n",
    "#       check the ascii value for special characters\n",
    "        if (sp>=123) or (sp<=64) or (sp>=91 and sp<=96):\n",
    "            special_char+=1\n",
    "    if upper>=2 and lower>=2 and nums>=1 and special_char>=3 and length==10:\n",
    "        return True\n",
    "    else:\n",
    "        return False\n",
    "\n",
    "input_pass=input(\"Enter a password : \")\n",
    "if(is_valid(input_pass)):\n",
    "    print(\"Valid Password\")\n",
    "else :\n",
    "    print(\"Invalid password\")"
   ]
  },
  {
   "cell_type": "code",
   "execution_count": 1,
   "id": "511d9a35-6e4c-4294-b06d-7e8ae01a3618",
   "metadata": {},
   "outputs": [
    {
     "name": "stdin",
     "output_type": "stream",
     "text": [
      "Enter the starting character:  m\n",
      "Enter the string:  masfdxf\n"
     ]
    },
    {
     "name": "stdout",
     "output_type": "stream",
     "text": [
      "True\n"
     ]
    }
   ],
   "source": [
    "# answer 2 a->\n",
    "# check if string starts with m using lambda function\n",
    "is_start = lambda x,y : x.startswith(y)\n",
    "\n",
    "start_char=input(\"Enter the starting character: \")\n",
    "input_str=input(\"Enter the string: \")\n",
    "print(is_start(input_str,start_char))"
   ]
  },
  {
   "cell_type": "code",
   "execution_count": 50,
   "id": "be10a886-73ea-4d3c-abb4-b4861e2ddb48",
   "metadata": {},
   "outputs": [
    {
     "name": "stdin",
     "output_type": "stream",
     "text": [
      "Enter the string:  9SADHB9\n"
     ]
    },
    {
     "name": "stdout",
     "output_type": "stream",
     "text": [
      "False\n"
     ]
    }
   ],
   "source": [
    "# answer 2 b->\n",
    "# Using lambda function\n",
    "is_numeric = lambda x : x.isnumeric()\n",
    "\n",
    "input_num=input(\"Enter the string: \")\n",
    "print(is_numeric(input_num))"
   ]
  },
  {
   "cell_type": "code",
   "execution_count": 64,
   "id": "7721a301-49bf-4ee6-991b-a5a574a46799",
   "metadata": {},
   "outputs": [
    {
     "name": "stdout",
     "output_type": "stream",
     "text": [
      "[('orange', 80), ('mango', 99), ('grapes', 1000)]\n"
     ]
    }
   ],
   "source": [
    "# answer 2 c->a\n",
    "# Using lambda function\n",
    "fruits = [(\"mango\",99),(\"orange\",80), (\"grapes\", 1000)]\n",
    "sorted_fruits = sorted(fruits, key=lambda x: x[1])\n",
    "print(sorted_fruits)"
   ]
  },
  {
   "cell_type": "code",
   "execution_count": 53,
   "id": "6cac1fba-9da1-4d93-9651-bfc3a39e12df",
   "metadata": {},
   "outputs": [
    {
     "name": "stdout",
     "output_type": "stream",
     "text": [
      "[1, 4, 9, 16, 25, 36, 49, 64, 81, 100]\n"
     ]
    }
   ],
   "source": [
    "# answer 2 d->\n",
    "# Using list comprehension\n",
    "squares = [i**2 for i in range(1,11)]\n",
    "print(squares)"
   ]
  },
  {
   "cell_type": "code",
   "execution_count": 74,
   "id": "03fcca58-dc3b-4c20-bc85-16980a372660",
   "metadata": {},
   "outputs": [
    {
     "name": "stdout",
     "output_type": "stream",
     "text": [
      "[1.0, 1.26, 1.44, 1.59, 1.71, 1.82, 1.91, 2.0, 2.08, 2.15]\n"
     ]
    }
   ],
   "source": [
    "# answer 2 e->\n",
    "# Using list comprehension without maths library\n",
    "cube_roots = [round(i**(1/3), 2) for i in range(1, 11)]\n",
    "print(cube_roots)"
   ]
  },
  {
   "cell_type": "code",
   "execution_count": 75,
   "id": "09974374-dbd4-42bd-a3f3-2332173cbaa7",
   "metadata": {},
   "outputs": [
    {
     "name": "stdout",
     "output_type": "stream",
     "text": [
      "[1.0, 1.26, 1.44, 1.59, 1.71, 1.82, 1.91, 2.0, 2.08, 2.15]\n"
     ]
    }
   ],
   "source": [
    "# answer 2 e->\n",
    "# Using list comprehension and math library power method\n",
    "import math\n",
    "cube_roots = [round(math.pow(i, 1/3), 2) for i in range(1, 11)]\n",
    "print(cube_roots)"
   ]
  },
  {
   "cell_type": "code",
   "execution_count": 68,
   "id": "5f079ce6-2d08-4871-9f2e-6257cb363fb2",
   "metadata": {},
   "outputs": [
    {
     "name": "stdin",
     "output_type": "stream",
     "text": [
      "Enter a number:  2143\n"
     ]
    },
    {
     "name": "stdout",
     "output_type": "stream",
     "text": [
      "False\n"
     ]
    }
   ],
   "source": [
    "# answer 2 f->\n",
    "# Using lambda function\n",
    "is_even = lambda x : True if x % 2 == 0 else False\n",
    "\n",
    "num=int(input(\"Enter a number: \"))\n",
    "print(is_even(num))"
   ]
  },
  {
   "cell_type": "code",
   "execution_count": 76,
   "id": "cdb6efa3-2a1f-44f3-a603-da9e7e54ab66",
   "metadata": {},
   "outputs": [
    {
     "name": "stdout",
     "output_type": "stream",
     "text": [
      "[1, 3, 5, 7, 9]\n"
     ]
    }
   ],
   "source": [
    "# answer 2 g->\n",
    "# Using filter function\n",
    "numbers = [1,2,3,4,5,6,7,8,9,10]\n",
    "odd_numbers = list(filter(lambda x: x % 2 != 0, numbers))\n",
    "print(odd_numbers)"
   ]
  },
  {
   "cell_type": "code",
   "execution_count": 77,
   "id": "819a6753-be78-4dd0-a18d-70ea57bd5fe1",
   "metadata": {},
   "outputs": [
    {
     "name": "stdout",
     "output_type": "stream",
     "text": [
      "Positive Numbers: [1, 2, 3, 4, 5, 6]\n",
      "Negative Numbers: [-1, -2, -3, -4, -5]\n"
     ]
    }
   ],
   "source": [
    "# answer 2 h->\n",
    "# Using filter function\n",
    "numbers = [1,2,3,4,5,6,-1,-2,-3,-4,-5,0]\n",
    "positive_numbers = list(filter(lambda x: x > 0, numbers))\n",
    "negative_numbers = list(filter(lambda x: x < 0, numbers))\n",
    "print(\"Positive Numbers:\", positive_numbers)\n",
    "print(\"Negative Numbers:\", negative_numbers)"
   ]
  }
 ],
 "metadata": {
  "kernelspec": {
   "display_name": "Python 3 (ipykernel)",
   "language": "python",
   "name": "python3"
  },
  "language_info": {
   "codemirror_mode": {
    "name": "ipython",
    "version": 3
   },
   "file_extension": ".py",
   "mimetype": "text/x-python",
   "name": "python",
   "nbconvert_exporter": "python",
   "pygments_lexer": "ipython3",
   "version": "3.10.8"
  }
 },
 "nbformat": 4,
 "nbformat_minor": 5
}
