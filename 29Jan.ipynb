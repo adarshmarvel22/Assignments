{
 "cells": [
  {
   "cell_type": "code",
   "execution_count": null,
   "id": "69ba4699-536a-400d-84ef-b13e7a38d35b",
   "metadata": {},
   "outputs": [],
   "source": [
    "# answer 1:\n",
    "\n",
    "\"\"\"Python programming language was developed by Guido van Rossum\"\"\""
   ]
  },
  {
   "cell_type": "code",
   "execution_count": null,
   "id": "c49e47fa-48ef-4bdf-b9af-466fea280ef2",
   "metadata": {},
   "outputs": [],
   "source": [
    "# answer 2\n",
    "\"\"\"Python suppports the object oriented, structured and functional programming concepts.\"\"\""
   ]
  },
  {
   "cell_type": "code",
   "execution_count": 27,
   "id": "2d236ec1-4738-4384-966e-77e73547680d",
   "metadata": {},
   "outputs": [
    {
     "data": {
      "text/plain": [
       "'\\nYes, Python is a case-sensitive programming language\\n'"
      ]
     },
     "execution_count": 27,
     "metadata": {},
     "output_type": "execute_result"
    }
   ],
   "source": [
    "# answer 3\n",
    "\"\"\"\n",
    "Yes, Python is a case-sensitive programming language\n",
    "\"\"\""
   ]
  },
  {
   "cell_type": "code",
   "execution_count": 2,
   "id": "4b254870-d23a-40ce-b3db-df2eed05503b",
   "metadata": {},
   "outputs": [
    {
     "ename": "SyntaxError",
     "evalue": "invalid syntax (1364190348.py, line 2)",
     "output_type": "error",
     "traceback": [
      "\u001b[0;36m  Cell \u001b[0;32mIn[2], line 2\u001b[0;36m\u001b[0m\n\u001b[0;31m    Exctension of python is .py\u001b[0m\n\u001b[0m               ^\u001b[0m\n\u001b[0;31mSyntaxError\u001b[0m\u001b[0;31m:\u001b[0m invalid syntax\n"
     ]
    }
   ],
   "source": [
    "# answer 4\n",
    "\"\"\"Exctension of python is .py\"\"\""
   ]
  },
  {
   "cell_type": "code",
   "execution_count": 4,
   "id": "0a08ce5f-0ab7-449d-8acc-541f587c5384",
   "metadata": {},
   "outputs": [
    {
     "ename": "SyntaxError",
     "evalue": "invalid syntax (3436030527.py, line 2)",
     "output_type": "error",
     "traceback": [
      "\u001b[0;36m  Cell \u001b[0;32mIn[4], line 2\u001b[0;36m\u001b[0m\n\u001b[0;31m    Python is an interpreted programming language. It means it is interpreter based which i line by line execution of code\u001b[0m\n\u001b[0m                 ^\u001b[0m\n\u001b[0;31mSyntaxError\u001b[0m\u001b[0;31m:\u001b[0m invalid syntax\n"
     ]
    }
   ],
   "source": [
    "# answer 5\n",
    "\"\"\"Python is an interpreted programming language. It means it is interpreter based which i line by line execution of code\"\"\""
   ]
  },
  {
   "cell_type": "code",
   "execution_count": 5,
   "id": "7a17702f-026f-4d62-bcff-8d050d0480ec",
   "metadata": {},
   "outputs": [
    {
     "ename": "SyntaxError",
     "evalue": "invalid syntax (2455777843.py, line 5)",
     "output_type": "error",
     "traceback": [
      "\u001b[0;36m  Cell \u001b[0;32mIn[5], line 5\u001b[0;36m\u001b[0m\n\u001b[0;31m    class\u001b[0m\n\u001b[0m         ^\u001b[0m\n\u001b[0;31mSyntaxError\u001b[0m\u001b[0;31m:\u001b[0m invalid syntax\n"
     ]
    }
   ],
   "source": [
    "# answer 6\n",
    "# blocks of code used to define in python\n",
    "\n",
    "modeule\n",
    "class\n",
    "function"
   ]
  },
  {
   "cell_type": "code",
   "execution_count": 6,
   "id": "cb3f3c33-4ae5-4e56-8114-d5f6dcdceadd",
   "metadata": {},
   "outputs": [
    {
     "ename": "SyntaxError",
     "evalue": "invalid syntax (71745656.py, line 2)",
     "output_type": "error",
     "traceback": [
      "\u001b[0;36m  Cell \u001b[0;32mIn[6], line 2\u001b[0;36m\u001b[0m\n\u001b[0;31m    a hashtag symbol '#' is used to give single-line comment in Python\u001b[0m\n\u001b[0m      ^\u001b[0m\n\u001b[0;31mSyntaxError\u001b[0m\u001b[0;31m:\u001b[0m invalid syntax\n"
     ]
    }
   ],
   "source": [
    "# answer 7\n",
    "a hashtag symbol '#' is used to give single-line comment in Python"
   ]
  },
  {
   "cell_type": "code",
   "execution_count": 18,
   "id": "39fd3206-ff93-4f7f-a19c-d38d010b98cb",
   "metadata": {},
   "outputs": [
    {
     "ename": "NameError",
     "evalue": "name 'python' is not defined",
     "output_type": "error",
     "traceback": [
      "\u001b[0;31m---------------------------------------------------------------------------\u001b[0m",
      "\u001b[0;31mNameError\u001b[0m                                 Traceback (most recent call last)",
      "Cell \u001b[0;32mIn[18], line 3\u001b[0m\n\u001b[1;32m      1\u001b[0m \u001b[38;5;66;03m# functions used to check the version of python are:\u001b[39;00m\n\u001b[0;32m----> 3\u001b[0m \u001b[43mpython\u001b[49m \u001b[38;5;241m-\u001b[39m\u001b[38;5;241m-\u001b[39mversion\n\u001b[1;32m      4\u001b[0m \u001b[38;5;66;03m# from platform import python_version\u001b[39;00m\n\u001b[1;32m      5\u001b[0m \u001b[38;5;66;03m# python_version()\u001b[39;00m\n\u001b[1;32m      6\u001b[0m \u001b[38;5;66;03m# import sys\u001b[39;00m\n\u001b[1;32m      7\u001b[0m \u001b[38;5;66;03m# sys.version\u001b[39;00m\n",
      "\u001b[0;31mNameError\u001b[0m: name 'python' is not defined"
     ]
    }
   ],
   "source": [
    "# functions used to check the version of python are:\n",
    "\n",
    "# using command line\n",
    "python --version or python -V\n",
    "\n",
    "# using python_version() function\n",
    "from platform import python_version\n",
    "python_version()\n",
    "\n",
    "# using sys.version method\n",
    "import sys\n",
    "sys.version"
   ]
  },
  {
   "cell_type": "code",
   "execution_count": 19,
   "id": "7be4959d-f6c0-45e3-b6ed-aed56724030e",
   "metadata": {},
   "outputs": [
    {
     "ename": "SyntaxError",
     "evalue": "invalid syntax (1531374422.py, line 3)",
     "output_type": "error",
     "traceback": [
      "\u001b[0;36m  Cell \u001b[0;32mIn[19], line 3\u001b[0;36m\u001b[0m\n\u001b[0;31m    lambda()  function\u001b[0m\n\u001b[0m          ^\u001b[0m\n\u001b[0;31mSyntaxError\u001b[0m\u001b[0;31m:\u001b[0m invalid syntax\n"
     ]
    }
   ],
   "source": [
    "# answer 9\n",
    "# Python supports the creation of anonymous functions  at runtime, using a construct called lambda.\n",
    "lambda()  function"
   ]
  },
  {
   "cell_type": "code",
   "execution_count": 20,
   "id": "19e81d72-0b20-4cbb-b8bd-1ed313fb24e2",
   "metadata": {},
   "outputs": [],
   "source": [
    "#  answer 10\n",
    "#  PIP is an acronym for “Preferred Installer Program” or PIP Installs Packages .pip is geranlly used to install a package in python .  "
   ]
  },
  {
   "cell_type": "code",
   "execution_count": 23,
   "id": "12aa3627-ef18-4cf8-ae65-22c2c0e66e72",
   "metadata": {},
   "outputs": [
    {
     "data": {
      "text/plain": [
       "'\\n   ascii()                     #  Returns a readable version of an object. Replaces none-ascii characters with escape character\\n   bool()                      #  Return the boolean value .\\n   chr()                       #  Returns a character from the specified Unicode code.\\n   type()                      #  Return the type of object (list , variables )etc \\n   input()                      #  which takes input .\\n   len()                        #  Returns the length of an object\\n   list()                       #  Return list ...\\n   '"
      ]
     },
     "execution_count": 23,
     "metadata": {},
     "output_type": "execute_result"
    }
   ],
   "source": [
    "# answer 11\n",
    "# few built-in(pre-defined) functions in python\n",
    "\"\"\"\n",
    "   ascii()                     #  Returns a readable version of an object. Replaces none-ascii characters with escape character\n",
    "   bool()                      #  Return the boolean value .\n",
    "   chr()                       #  Returns a character from the specified Unicode code.\n",
    "   type()                      #  Return the type of object (list , variables )etc \n",
    "   input()                      #  which takes input .\n",
    "   len()                        #  Returns the length of an object\n",
    "   list()                       #  Return list ...\n",
    "   \"\"\""
   ]
  },
  {
   "cell_type": "code",
   "execution_count": null,
   "id": "3df5c516-5539-4610-b6f2-f21e4aca4255",
   "metadata": {},
   "outputs": [],
   "source": []
  },
  {
   "cell_type": "code",
   "execution_count": 22,
   "id": "eef84ba6-19d4-4304-8bce-d1f64cc5405d",
   "metadata": {},
   "outputs": [],
   "source": [
    "# answer 12\n",
    "# maximum possible length of identifier in python is 79"
   ]
  },
  {
   "cell_type": "code",
   "execution_count": null,
   "id": "25dd1ff7-d78a-4c82-a375-1be4eba05320",
   "metadata": {},
   "outputs": [],
   "source": [
    "# answer 13\n",
    "benefits of learning python:\n",
    "    used in Data Science\n",
    "    used in AI as well as Machine Learning\n",
    "    used in Computer Graphics\n",
    "    Scientific as well as Mathematical Calculations\n",
    "    "
   ]
  },
  {
   "cell_type": "code",
   "execution_count": 25,
   "id": "e5739b29-d988-4273-9abb-9e0a72bc049f",
   "metadata": {},
   "outputs": [
    {
     "data": {
      "text/plain": [
       "'\\nIn Python, memory management is done automatically by the Python memory manager through a process called reference counting,\\nand is also facilitated by a cycle-detecting garbage collector that periodically frees memory occupied by objects that are no longer in use.\\nAdditionally, Python has built-in support for dynamic allocation of memory using data structures such as lists, dictionaries, and sets.\\n\\nThere are two types of memory allocation:\\n1->Static Memory Allocation\\n2->Dynamic Memeory Allocation\\n'"
      ]
     },
     "execution_count": 25,
     "metadata": {},
     "output_type": "execute_result"
    }
   ],
   "source": [
    "# answer 14\n",
    "\"\"\"\n",
    "In Python, memory management is done automatically by the Python memory manager through a process called reference counting,\n",
    "and is also facilitated by a cycle-detecting garbage collector that periodically frees memory occupied by objects that are no longer in use.\n",
    "Additionally, Python has built-in support for dynamic allocation of memory using data structures such as lists, dictionaries, and sets.\n",
    "\n",
    "There are two types of memory allocation:\n",
    "1->Static Memory Allocation\n",
    "2->Dynamic Memeory Allocation\n",
    "\"\"\""
   ]
  },
  {
   "cell_type": "code",
   "execution_count": 26,
   "id": "600e2305-74a5-497a-a643-5c82b2e5f60d",
   "metadata": {},
   "outputs": [
    {
     "ename": "SyntaxError",
     "evalue": "invalid syntax (2910057929.py, line 2)",
     "output_type": "error",
     "traceback": [
      "\u001b[0;36m  Cell \u001b[0;32mIn[26], line 2\u001b[0;36m\u001b[0m\n\u001b[0;31m    steps to install python Windows\u001b[0m\n\u001b[0m          ^\u001b[0m\n\u001b[0;31mSyntaxError\u001b[0m\u001b[0;31m:\u001b[0m invalid syntax\n"
     ]
    }
   ],
   "source": [
    "# answer 15\n",
    "steps to install python Windows\n",
    "\n",
    "1 Download the latest version of Python from the official   website: https://www.python.org/downloads/\n",
    "    2 Run the installation file and follow the instructions to complete the installation process.\n",
    "    3 Open the Start menu and search for \"Environment Variables\". Click on \"Edit the system environment variables\".\n",
    "    4 In the System Properties window, click on the \"Environment Variables\" button.\n",
    "    5 Under System Variables, scroll down and find the \"Path\" variable, then click on \"Edit\".\n",
    "    6 Click on \"New\" and add the path to the Python installation directory, typically \"C:\\PythonXX\", where XX is the version number.\n",
    "    7 Click \"OK\" to save the changes and close all windows.\n",
    "    8 Restart your computer to ensure the changes take effect."
   ]
  },
  {
   "cell_type": "code",
   "execution_count": null,
   "id": "ecdb27ef-931f-4941-b4e5-4a23d420e5f1",
   "metadata": {},
   "outputs": [],
   "source": [
    "# answer 16\n",
    "Indentation is required in Python"
   ]
  }
 ],
 "metadata": {
  "kernelspec": {
   "display_name": "Python 3 (ipykernel)",
   "language": "python",
   "name": "python3"
  },
  "language_info": {
   "codemirror_mode": {
    "name": "ipython",
    "version": 3
   },
   "file_extension": ".py",
   "mimetype": "text/x-python",
   "name": "python",
   "nbconvert_exporter": "python",
   "pygments_lexer": "ipython3",
   "version": "3.10.8"
  }
 },
 "nbformat": 4,
 "nbformat_minor": 5
}
