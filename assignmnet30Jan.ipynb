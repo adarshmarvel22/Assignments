{
 "cells": [
  {
   "cell_type": "code",
   "execution_count": 6,
   "id": "2ab5c47f-71e4-4b04-ba4d-041f331d52d2",
   "metadata": {},
   "outputs": [
    {
     "name": "stdout",
     "output_type": "stream",
     "text": [
      "Hello World\n"
     ]
    },
    {
     "name": "stdin",
     "output_type": "stream",
     "text": [
      "enter percentage: 213\n"
     ]
    },
    {
     "name": "stdout",
     "output_type": "stream",
     "text": [
      "Grade A\n"
     ]
    }
   ],
   "source": [
    "# answer 1\n",
    "print('Hello World')\n",
    "# take input\n",
    "percent=input(\"enter percentage:\")\n",
    "# convert string to int\n",
    "percent=int(percent)\n",
    "\n",
    "# check for grade received\n",
    "if(percent>90):\n",
    "    print(\"Grade A\")\n",
    "elif(percent>80 and percent<=90):\n",
    "    print(\"Grade B\")\n",
    "elif(percent>=60 and percent<=80):\n",
    "    print(\"Grade C\")\n",
    "else:\n",
    "    print(\"Grade D\")"
   ]
  },
  {
   "cell_type": "code",
   "execution_count": 7,
   "id": "f5ea98c1-0320-49f5-80d5-b71e81062fd0",
   "metadata": {},
   "outputs": [
    {
     "name": "stdin",
     "output_type": "stream",
     "text": [
      "Enter the cost price of bike :  2345\n"
     ]
    },
    {
     "name": "stdout",
     "output_type": "stream",
     "text": [
      "117.25\n"
     ]
    }
   ],
   "source": [
    "# answer 2\n",
    "# input cost price\n",
    "cost_price=input(\"Enter the cost price of bike : \")\n",
    "cost_price=int(cost_price)\n",
    "\n",
    "# tax implied\n",
    "if(cost_price>100000):\n",
    "    print(0.15*cost_price)\n",
    "elif(cost_price>50000 and cost_price<=100000):\n",
    "    print(0.1*cost_price)\n",
    "else:\n",
    "    print(cost_price*0.05)"
   ]
  },
  {
   "cell_type": "code",
   "execution_count": 8,
   "id": "0fb3536f-171b-4552-a05f-ba9f6f365c46",
   "metadata": {},
   "outputs": [
    {
     "name": "stdin",
     "output_type": "stream",
     "text": [
      "Enter city name:  Delhi\n"
     ]
    },
    {
     "name": "stdout",
     "output_type": "stream",
     "text": [
      "Red Fort\n"
     ]
    }
   ],
   "source": [
    "# answer 3\n",
    "# input city\n",
    "city=input(\"Enter city name: \")\n",
    "\n",
    "map={\n",
    "    'Delhi':'Red Fort',\n",
    "    'Agra':'Taj Mahal',\n",
    "    'Jaipur':'Jal Mahal'\n",
    "}\n",
    "\n",
    "print(map[city])"
   ]
  },
  {
   "cell_type": "code",
   "execution_count": 9,
   "id": "49f79be3-8288-432b-930d-99797a58bc13",
   "metadata": {},
   "outputs": [
    {
     "name": "stdin",
     "output_type": "stream",
     "text": [
      "Enter a num to check how many times it can be divided by 3 before it is less than or equal to 10:  2345\n"
     ]
    },
    {
     "name": "stdout",
     "output_type": "stream",
     "text": [
      "0\n"
     ]
    }
   ],
   "source": [
    "# answer 4\n",
    "cnt=0\n",
    "num=int(input(\"Enter a num to check how many times it can be divided by 3 before it is less than or equal to 10: \"))\n",
    "\n",
    "while(num>10):\n",
    "        if num % 3 ==0:\n",
    "           num=num/3\n",
    "           cnt+=1\n",
    "        else:\n",
    "           break\n",
    "print(cnt)"
   ]
  },
  {
   "cell_type": "code",
   "execution_count": 10,
   "id": "b508bc72-97ed-4721-9553-85cc337716e3",
   "metadata": {},
   "outputs": [
    {
     "data": {
      "text/plain": [
       "'we use a while loop whenever we want to execut a certain block of code until a certain condition is met'"
      ]
     },
     "execution_count": 10,
     "metadata": {},
     "output_type": "execute_result"
    }
   ],
   "source": [
    "# answer 5\n",
    "\"\"\"we use a while loop whenever we want to execut a certain block of code until a certain condition is met\"\"\""
   ]
  },
  {
   "cell_type": "code",
   "execution_count": 1,
   "id": "e09d3446-f6bb-4973-9896-6cd9d6cdb23e",
   "metadata": {},
   "outputs": [
    {
     "name": "stdout",
     "output_type": "stream",
     "text": [
      "*****\n",
      "****\n",
      "***\n",
      "**\n",
      "*\n",
      "\n",
      "0\n",
      "01\n",
      "012\n",
      "0123\n",
      "01234\n",
      "\n",
      "0\n",
      "11\n",
      "222\n",
      "3333\n",
      "44444\n"
     ]
    }
   ],
   "source": [
    "# answer 6:\n",
    "\n",
    "# pattern 1\n",
    "# *****\n",
    "# ****\n",
    "# ***\n",
    "# **\n",
    "# *\n",
    "i=0\n",
    "n=5\n",
    "while(i<n):\n",
    "    j=i\n",
    "    while(j<n):\n",
    "        print(\"*\",end=\"\")\n",
    "        j+=1\n",
    "    print(\"\\r\")\n",
    "    i+=1\n",
    "print(\"\\r\")\n",
    "\n",
    "# pattern 2\n",
    "# 0\n",
    "# 01\n",
    "# 012\n",
    "# 0123\n",
    "# 01234\n",
    "i=0\n",
    "n=5\n",
    "while(i<n):\n",
    "    j=0\n",
    "    while(j<i+1):\n",
    "        print(j,end=\"\")\n",
    "        j+=1\n",
    "    print(\"\\r\")\n",
    "    i+=1\n",
    "    \n",
    "print(\"\\r\")\n",
    "\n",
    "# pattern 3\n",
    "# 0\n",
    "# 11\n",
    "# 222\n",
    "# 3333\n",
    "# 44444\n",
    "i=0\n",
    "n=5\n",
    "while(i<n):\n",
    "    j=0\n",
    "    while(j<i+1):\n",
    "        print(i,end=\"\")\n",
    "        j+=1\n",
    "    print(\"\\r\")\n",
    "    i+=1"
   ]
  },
  {
   "cell_type": "code",
   "execution_count": 12,
   "id": "0a25f2a2-8fdb-4d19-aa0f-49c2bb530696",
   "metadata": {},
   "outputs": [
    {
     "name": "stdout",
     "output_type": "stream",
     "text": [
      "10  9  8  7  6  5  4  3  2  1  "
     ]
    }
   ],
   "source": [
    "# answer 7\n",
    "i=10\n",
    "while(i>0):\n",
    "    print(i,\" \",end=\"\")\n",
    "    i-=1"
   ]
  },
  {
   "cell_type": "code",
   "execution_count": 13,
   "id": "8bdac6ab-af6d-4986-b885-a74cd39a13b0",
   "metadata": {},
   "outputs": [
    {
     "name": "stdout",
     "output_type": "stream",
     "text": [
      "10  9  8  7  6  5  4  3  2  1  "
     ]
    }
   ],
   "source": [
    "# answer 8\n",
    "i=10\n",
    "while(i>0):\n",
    "    print(i,\" \",end=\"\")\n",
    "    i-=1"
   ]
  }
 ],
 "metadata": {
  "kernelspec": {
   "display_name": "Python 3 (ipykernel)",
   "language": "python",
   "name": "python3"
  },
  "language_info": {
   "codemirror_mode": {
    "name": "ipython",
    "version": 3
   },
   "file_extension": ".py",
   "mimetype": "text/x-python",
   "name": "python",
   "nbconvert_exporter": "python",
   "pygments_lexer": "ipython3",
   "version": "3.10.8"
  }
 },
 "nbformat": 4,
 "nbformat_minor": 5
}
