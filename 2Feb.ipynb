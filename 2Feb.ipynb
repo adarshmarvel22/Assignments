{
 "cells": [
  {
   "cell_type": "code",
   "execution_count": 25,
   "id": "9209cc33-5dd8-4d3c-8da1-27da82e8c5e0",
   "metadata": {},
   "outputs": [
    {
     "name": "stdout",
     "output_type": "stream",
     "text": [
      "0 1 2 3 4 5 6 7 8 9 0 1 2 3 4 5 6 7 8 9 "
     ]
    }
   ],
   "source": [
    "# answer 1:\n",
    "\"\"\"\n",
    "for loop is used to iterate over a sequence (list, tuple, string, etc.)\n",
    "\"\"\"\n",
    "# for loop use\n",
    "for i in range(10):\n",
    "    print(i,end=\" \")\n",
    "\n",
    "\"\"\" \n",
    "while loop is used to execute a block of code as long as a certain condition is true\n",
    "\"\"\"\n",
    "# while loop use\n",
    "i = 0\n",
    "while i < 10:\n",
    "    print(i,end=\" \")\n",
    "    i += 1"
   ]
  },
  {
   "cell_type": "code",
   "execution_count": 3,
   "id": "6c5c7359-8125-442d-98c3-49a097999e03",
   "metadata": {},
   "outputs": [
    {
     "name": "stdout",
     "output_type": "stream",
     "text": [
      "sum is: 55 and product is: 3628800\n",
      "\n",
      "sum is: 55 and product is: 3628800\n"
     ]
    }
   ],
   "source": [
    "# answer 2\n",
    "# first 10 natural numbers using for loop\n",
    "sum=0;\n",
    "product=1\n",
    "for i in range(1,11):\n",
    "    sum+=i\n",
    "    product*=i\n",
    "print(\"sum is:\",sum,\"and product is:\",product)\n",
    "\n",
    "# first 10 natural numbers using while loop\n",
    "i=1\n",
    "sum=0;\n",
    "product=1\n",
    "print(\"\\r\")\n",
    "while i<11:\n",
    "    sum+=i\n",
    "    product*=i\n",
    "    i+=1\n",
    "print(\"sum is:\",sum,\"and product is:\",product)"
   ]
  },
  {
   "cell_type": "code",
   "execution_count": 12,
   "id": "0875a87d-e2e8-47eb-8f4f-b5aa2df230a9",
   "metadata": {},
   "outputs": [
    {
     "name": "stdin",
     "output_type": "stream",
     "text": [
      "Enter units consumed in a month:  310\n"
     ]
    },
    {
     "name": "stdout",
     "output_type": "stream",
     "text": [
      "2250\n"
     ]
    }
   ],
   "source": [
    "# answer 3\n",
    "# input units of electricity\n",
    "units=int(input(\"Enter units consumed in a month: \"))\n",
    "\n",
    "#  calculate bill according to given conditions\n",
    "if units>300 :\n",
    "    print(2050+(units-300)*20)\n",
    "elif units>=200 and units<300:\n",
    "    print(1050+(units-200)*10)\n",
    "elif units>=100 and units<200:\n",
    "    print(450+(units-100)*6)\n",
    "else:\n",
    "    print(units*4.5)"
   ]
  },
  {
   "cell_type": "code",
   "execution_count": 20,
   "id": "95d44f80-b4d5-498c-a1ac-e75c79f48b08",
   "metadata": {},
   "outputs": [
    {
     "name": "stdout",
     "output_type": "stream",
     "text": [
      "[8, 64, 125, 216, 512, 1000, 1728, 2744, 3375, 4096, 5832, 8000, 10648, 13824, 15625, 17576, 21952, 27000, 32768, 39304, 42875, 46656, 54872, 64000, 74088, 85184, 91125, 97336, 110592, 125000, 140608, 157464, 166375, 175616, 195112, 216000, 238328, 262144, 274625, 287496, 314432, 343000, 373248, 405224, 421875, 438976, 474552, 512000, 551368, 592704, 614125, 636056, 681472, 729000, 778688, 830584, 857375, 884736, 941192, 1000000]\n"
     ]
    }
   ],
   "source": [
    "# answer 4\n",
    "# list of numbers from 1 to 100\n",
    "num=list(range(1,101))\n",
    "# list to store cubes of numbers\n",
    "cube=[]\n",
    "# append cubes of num\n",
    "for i in num:\n",
    "    cube.append(i**3)\n",
    "# answer list to store cubes divisible by 4 or 5\n",
    "ans=[]\n",
    "for i in cube:\n",
    "    if i%4==0 or i%5==0:\n",
    "        ans.append(i)\n",
    "print(ans)"
   ]
  },
  {
   "cell_type": "code",
   "execution_count": 22,
   "id": "d570fe5c-bfcd-4c75-8398-c2084b56eb70",
   "metadata": {},
   "outputs": [
    {
     "name": "stdout",
     "output_type": "stream",
     "text": [
      "12\n"
     ]
    }
   ],
   "source": [
    "# answer 5\n",
    "# count variable to count the number of vowels words\n",
    "count=0\n",
    "string=\"I want to become a data scientist\"\n",
    "vowels=\"aeiouAEIOU\"\n",
    "\n",
    "# iterate in given string\n",
    "for char in string:\n",
    "#     check if char is present in vowels\n",
    "    if char in vowels:\n",
    "        count+=1\n",
    "print(count)"
   ]
  }
 ],
 "metadata": {
  "kernelspec": {
   "display_name": "Python 3 (ipykernel)",
   "language": "python",
   "name": "python3"
  },
  "language_info": {
   "codemirror_mode": {
    "name": "ipython",
    "version": 3
   },
   "file_extension": ".py",
   "mimetype": "text/x-python",
   "name": "python",
   "nbconvert_exporter": "python",
   "pygments_lexer": "ipython3",
   "version": "3.10.8"
  }
 },
 "nbformat": 4,
 "nbformat_minor": 5
}
