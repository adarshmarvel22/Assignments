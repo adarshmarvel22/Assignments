{
  "nbformat": 4,
  "nbformat_minor": 0,
  "metadata": {
    "colab": {
      "provenance": []
    },
    "kernelspec": {
      "name": "python3",
      "display_name": "Python 3"
    },
    "language_info": {
      "name": "python"
    }
  },
  "cells": [
    {
      "cell_type": "code",
      "execution_count": 24,
      "metadata": {
        "id": "WD5aLE_A3Tvc"
      },
      "outputs": [],
      "source": [
        "import logging\n",
        "import pandas as pd\n",
        "import datetime\n",
        "\n",
        "logging.basicConfig(filename=\"25FebInfo.log\", level=logging.INFO, format=\"%(asctime)s %(name)s %(message)s\")     "
      ]
    },
    {
      "cell_type": "code",
      "source": [
        "import pandas as pd\n",
        "course_name = ['Data Science', 'Machine Learning', 'Big Data', 'Data Engineer']\n",
        "duration = [2,3,6,4]\n",
        "df = pd.DataFrame(data = {'course_name' : course_name, 'duration' : duration})"
      ],
      "metadata": {
        "id": "_JtWpcp24AjU"
      },
      "execution_count": null,
      "outputs": []
    },
    {
      "cell_type": "code",
      "source": [
        "# answer 1\n",
        "df.iloc[1:2]"
      ],
      "metadata": {
        "id": "xSKGLsFL3jLs"
      },
      "execution_count": null,
      "outputs": []
    },
    {
      "cell_type": "code",
      "source": [
        "# answer 2\n",
        "\"\"\"\n",
        "loc is primarily label-based, which means that we can use row and column labels to select specific rows and columns. \n",
        "we can use the loc function to select rows and columns by name or by boolean indexing. \n",
        "For example, df.loc[:, 'column_name'] will return all rows for the column named 'column_name', and df.loc[df['column_name'] > 5]\n",
        "will return all rows where the value in the 'column_name' column is greater than 5.\n",
        "\n",
        "iloc, on the other hand, is primarily integer position-based, which means that we can use integer indices to select specific \n",
        "rows and columns. we can use the iloc function to select rows and columns by their position in the DataFrame. For example, \n",
        "df.iloc[:, 0] will return all rows for the first column, and df.iloc[[0, 1, 3], [0, 2]] will return the rows with indices 0, 1, \n",
        "and 3 for columns with indices 0 and 2.\n",
        "\"\"\""
      ],
      "metadata": {
        "id": "uXWidScw3ljt"
      },
      "execution_count": null,
      "outputs": []
    },
    {
      "cell_type": "code",
      "source": [
        "# answer 3\n",
        "ind_list=[3,0,1,2]\n",
        "new_df=df.reindex(ind_list)\n",
        "new_df.loc[2]"
      ],
      "metadata": {
        "id": "axk7AlSL3mwO"
      },
      "execution_count": null,
      "outputs": []
    },
    {
      "cell_type": "code",
      "source": [
        "new_df.iloc[2]\n",
        "\"\"\"\n",
        "new_df.loc[2] returns the row with label/index 2, which is 'Big Data' with a duration of 6, while new_df.iloc[2] \n",
        "returns the row with integer position 2, which is 'Machine Learning' with a duration of 3.\n",
        "The difference between the two is that loc uses labels/indices to access data, while iloc uses integer positions.\n",
        "\"\"\""
      ],
      "metadata": {
        "id": "N0t4I40BJSIe"
      },
      "execution_count": null,
      "outputs": []
    },
    {
      "cell_type": "code",
      "source": [
        "import pandas as pd\n",
        "import numpy as np\n",
        "\n",
        "columns = ['column_1', 'column_2', 'column_3', 'column_4', 'column_5', 'column_6']\n",
        "indices = [1,2,3,4,5,6]\n",
        "#Creating a dataframe:\n",
        "df1 = pd.DataFrame(np.random.rand(6,6), columns = columns, index = indices)"
      ],
      "metadata": {
        "id": "_MCjF9F9Ha8X"
      },
      "execution_count": null,
      "outputs": []
    },
    {
      "cell_type": "code",
      "source": [
        "df1"
      ],
      "metadata": {
        "id": "43KcRFUFKCJm"
      },
      "execution_count": null,
      "outputs": []
    },
    {
      "cell_type": "code",
      "source": [
        "# answer 4\n",
        "df1.mean()"
      ],
      "metadata": {
        "id": "OL4qUluC3nj1"
      },
      "execution_count": null,
      "outputs": []
    },
    {
      "cell_type": "code",
      "source": [
        "df1['column_2'].std()"
      ],
      "metadata": {
        "id": "oTsvMkwkJGbp"
      },
      "execution_count": null,
      "outputs": []
    },
    {
      "cell_type": "code",
      "source": [
        "# answer 5\n",
        "df1.loc[2,['column_2']]=\"vars\"\n",
        "df1.loc[2,['column_2']]"
      ],
      "metadata": {
        "id": "wyyU5iJP3okm"
      },
      "execution_count": null,
      "outputs": []
    },
    {
      "cell_type": "code",
      "source": [
        "try:\n",
        "  df1['column_2'].mean()\n",
        "except:\n",
        "  print(\"this error occurs when the values are not supported for the arithmetic operations\")"
      ],
      "metadata": {
        "id": "4jTnSrlTL57P"
      },
      "execution_count": null,
      "outputs": []
    },
    {
      "cell_type": "code",
      "source": [
        "# answer 6\n",
        "\"\"\"\n",
        "In pandas, the windows function allows you to perform calculations on a specific window or a subset of data in a DataFrame or Series.\n",
        "It allows you to create a rolling or expanding window of data and apply a function to it. This can be useful for calculating moving \n",
        "averages, cumulative sums, and other operations that involve aggregating data over a window.\n",
        "\"\"\"\n",
        "# Rolling Window Functions: These functions apply a function to a fixed-size rolling window of the data.\n",
        "#  The window size can be defined in terms of time periods or number of data points.\n",
        "\n",
        "data = pd.Series([1, 2, 3, 4, 5])\n",
        "rolling_mean = data.rolling(window=3).mean()\n",
        "print(rolling_mean)\n",
        "\n",
        "# Expanding Window Functions: These functions apply a function to all the data points up to a specific point in time.\n",
        "\n",
        "data = pd.Series([1, 2, 3, 4, 5])\n",
        "expanding_sum = data.expanding().sum()\n",
        "print(expanding_sum)\n",
        "\n",
        "# Exponential Moving Window Functions: These functions give more weight to recent data points while calculating the window function.\n",
        "\n",
        "data = pd.Series([1, 2, 3, 4, 5])\n",
        "ewma = data.ewm(span=3).mean()\n",
        "print(ewma)"
      ],
      "metadata": {
        "id": "AlDZ10USML04"
      },
      "execution_count": null,
      "outputs": []
    },
    {
      "cell_type": "code",
      "source": [
        "# answer 7\n",
        "from datetime import datetime\n",
        "\n",
        "now = datetime.now()\n",
        "current_month_year = pd.to_datetime(now).strftime('%B %Y')\n",
        "print(current_month_year)\n"
      ],
      "metadata": {
        "id": "s3Qs6K-T3rOW",
        "colab": {
          "base_uri": "https://localhost:8080/"
        },
        "outputId": "cb66ae16-0e6d-4c42-8fb3-e167c1d70c67"
      },
      "execution_count": null,
      "outputs": [
        {
          "output_type": "stream",
          "name": "stdout",
          "text": [
            "February 2023\n"
          ]
        }
      ]
    },
    {
      "cell_type": "code",
      "source": [
        "# answer 8\n",
        "logging.info(\"Enter dates\")\n",
        "date1 = input(\"Enter the first date (YYYY-MM-DD): \")\n",
        "date2 = input(\"Enter the second date (YYYY-MM-DD): \")\n",
        "\n",
        "logging.info(\"Convert input strings to Pandas Timestamps\")\n",
        "date1 = pd.to_datetime(date1)\n",
        "date2 = pd.to_datetime(date2)\n",
        "\n",
        "logging.info(\"Calculate time delta\")\n",
        "delta = date2 - date1\n",
        "\n",
        "logging.info(\"Extract days, hours, and minutes from time delta\")\n",
        "days = delta.days\n",
        "hours = delta.seconds/ 3600\n",
        "minutes = (delta.seconds % 3600)/ 60\n",
        "\n",
        "# Display result\n",
        "print(f\"The difference between {date2.date()} and {date1.date()} is {days} days, {hours} hours, and {minutes} minutes.\")"
      ],
      "metadata": {
        "id": "voIuU9lk3vaC",
        "colab": {
          "base_uri": "https://localhost:8080/"
        },
        "outputId": "1a4d7ca9-068e-4425-e1e1-91644f0a4d74"
      },
      "execution_count": null,
      "outputs": [
        {
          "output_type": "stream",
          "name": "stdout",
          "text": [
            "Enter the first date (YYYY-MM-DD): 2022-11-13\n",
            "Enter the second date (YYYY-MM-DD): 2023-11-15\n",
            "The difference between 2023-11-15 and 2022-11-13 is 367 days, 0.0 hours, and 0.0 minutes.\n"
          ]
        }
      ]
    },
    {
      "cell_type": "code",
      "source": [
        "# answer 9\n",
        "import pandas as pd\n",
        "\n",
        "def categorical_data(file,col_name, order_val):\n",
        "    df = pd.read_csv(file)\n",
        "    df[col_name] = pd.Categorical(df[col_name], ordered = order_val)\n",
        "    return  df[col_name]\n",
        "    \n",
        "file1 = input(\"Enter the csv file path \")\n",
        "col_name = input(\"Enter the Column name :\")\n",
        "order_val = bool(input(\"Enter the order value as True or False:\"))\n",
        "\n",
        "# df=pd.DataFrame({\n",
        "#   'Sales':[20,10,35,40,18],\n",
        "#   'Date':['2022-02-02','2022-03-02','2022-01-22','2022-04-02','2022-11-02']\n",
        "# })\n",
        "\n",
        "categorical_data(file1,col_name,False)"
      ],
      "metadata": {
        "id": "C1uOjhY53xD7",
        "colab": {
          "base_uri": "https://localhost:8080/"
        },
        "outputId": "ebed4f5b-5657-443d-8fca-578971ff0829"
      },
      "execution_count": 32,
      "outputs": [
        {
          "output_type": "execute_result",
          "data": {
            "text/plain": [
              "0    20\n",
              "1    10\n",
              "2    35\n",
              "3    40\n",
              "4    18\n",
              "Name: Sales, dtype: category\n",
              "Categories (5, int64): [10, 18, 20, 35, 40]"
            ]
          },
          "metadata": {},
          "execution_count": 32
        }
      ]
    },
    {
      "cell_type": "code",
      "source": [
        "# answer 10\n",
        "logging.info(\"Prompt user to enter file path/csv file for the product\")\n",
        "file_path = input(\"Enter the file path of the CSV file: \")\n",
        "\n",
        "logging.info(\"Read CSV file into a Pandas DataFrame\")\n",
        "df = pd.read_csv(file_path)\n",
        "\n",
        "# dummy data to check output\n",
        "# df=pd.DataFrame({\n",
        "#   'Sales':[20,10,35,40,18],\n",
        "#   'Date':['2022-02-02','2022-03-02','2022-01-22','2022-04-02','2022-11-02']\n",
        "# })\n",
        "\n",
        "df.plot.bar(x='Date',y='Sales')"
      ],
      "metadata": {
        "id": "v_4VS2fU3y0t",
        "colab": {
          "base_uri": "https://localhost:8080/",
          "height": 344
        },
        "outputId": "20fdc9d9-2f8f-4681-f93d-a83a6e3ad1b0"
      },
      "execution_count": 29,
      "outputs": [
        {
          "output_type": "execute_result",
          "data": {
            "text/plain": [
              "<AxesSubplot:xlabel='Date'>"
            ]
          },
          "metadata": {},
          "execution_count": 29
        },
        {
          "output_type": "display_data",
          "data": {
            "text/plain": [
              "<Figure size 432x288 with 1 Axes>"
            ],
            "image/png": "[encoded data removed]"
          },
          "metadata": {
            "needs_background": "light"
          }
        }
      ]
    },
    {
      "cell_type": "code",
      "source": [
        "# answer 11\n",
        "logging.info(\"Prompt user to enter file path\")\n",
        "file_path = input(\"Enter the file path of the CSV file: \")\n",
        "\n",
        "logging.info(\"Read CSV file into a Pandas DataFrame\")\n",
        "df = pd.read_csv(file_path)\n",
        "\n",
        "# dummy data to check output\n",
        "# df=pd.DataFrame({\n",
        "# 'Student ID':[1,2,3,4,5,6,7,8,9,10],\n",
        "# 'Test Score':[85,90,80,75,85,82,78,85,90,85]\n",
        "# })\n",
        "\n",
        "logging.info(\"Calculate mean, median, and mode of test scores\")\n",
        "mean_score = df['Test Score'].mean()\n",
        "median_score = df['Test Score'].median()\n",
        "mode_score = df['Test Score'].mode().values[0]\n",
        "\n",
        "logging.info(\"Create a DataFrame to display the results\")\n",
        "results = pd.DataFrame({\n",
        "    'Statistic': ['Mean', 'Median', 'Mode'],\n",
        "    'Value': [mean_score, median_score, mode_score]\n",
        "})\n",
        "\n",
        "# Display the results\n",
        "print(results)"
      ],
      "metadata": {
        "id": "mJMhFTad30e1",
        "colab": {
          "base_uri": "https://localhost:8080/"
        },
        "outputId": "ab1e8339-9482-4355-c12b-dcbb92a325fc"
      },
      "execution_count": 30,
      "outputs": [
        {
          "output_type": "stream",
          "name": "stdout",
          "text": [
            "  Statistic  Value\n",
            "0      Mean   83.5\n",
            "1    Median   85.0\n",
            "2      Mode   85.0\n"
          ]
        }
      ]
    }
  ]
}