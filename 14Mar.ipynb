{
 "cells": [
  {
   "cell_type": "markdown",
   "id": "e70cc364-d4ca-487e-9faf-0b50c4845f45",
   "metadata": {},
   "source": [
    "# Stats 7"
   ]
  },
  {
   "cell_type": "code",
   "execution_count": 12,
   "id": "a9ee9c27-dcbd-4640-ad71-5462dfc91d4f",
   "metadata": {},
   "outputs": [],
   "source": [
    "import logging\n",
    "\n",
    "logging.basicConfig(filename=\"14MarInfo.log\", level=logging.INFO, format=\"%(asctime)s %(name)s %(message)s\")"
   ]
  },
  {
   "cell_type": "code",
   "execution_count": 13,
   "id": "c540848d-2dc3-4bc1-9d26-6222c5926769",
   "metadata": {},
   "outputs": [
    {
     "name": "stdout",
     "output_type": "stream",
     "text": [
      "F-value:  0.6944444444444444\n",
      "p-value:  0.6337799199051903\n"
     ]
    }
   ],
   "source": [
    "# answer 1\n",
    "import numpy as np\n",
    "from scipy.stats import f\n",
    "\n",
    "def variance_ratio_test(x, y):\n",
    "    n = len(x)\n",
    "    m = len(y)\n",
    "    f_value = np.var(x, ddof=1) / np.var(y, ddof=1)\n",
    "    p_value = f.sf(f_value, n-1, m-1)\n",
    "    return f_value, p_value\n",
    "\"\"\"\n",
    "This function takes two arrays x and y as inputs and returns the F-value and p-value for \n",
    "the variance ratio test. The function first calculates the F-value by dividing the sample \n",
    "variance of x by the sample variance of y. The ddof=1 argument is used to calculate the unbiased\n",
    "estimate of the variance. The function then uses the scipy.stats.f.sf function to calculate the p-value,\n",
    "which represents the probability of observing an F-value as extreme or more extreme than the calculated\n",
    "value under the null hypothesis that the variances of x and y are equal.\n",
    "\"\"\"\n",
    "x = [1, 2, 3, 4, 5]\n",
    "y = [1.2, 2.4, 3.6, 4.8, 6.0]\n",
    "f_value, p_value = variance_ratio_test(x, y)\n",
    "print(\"F-value: \", f_value)\n",
    "print(\"p-value: \", p_value)"
   ]
  },
  {
   "cell_type": "code",
   "execution_count": 14,
   "id": "7d0dd5f5-3da0-49f4-b28e-ad435cbca2ed",
   "metadata": {},
   "outputs": [
    {
     "name": "stdout",
     "output_type": "stream",
     "text": [
      "Critical F-value:  0.07026656300420833\n"
     ]
    }
   ],
   "source": [
    "# answer 2\n",
    "# critical F-value for a two-tailed test given a significance level of 0.05 and the degrees of freedom for the numerator and denominator of an F-distribution:\n",
    "    \n",
    "from scipy.stats import f\n",
    "\n",
    "def critical_f_value(df_num, df_denom):\n",
    "    alpha = 0.05\n",
    "    f_crit = f.ppf(alpha/2, df_num, df_denom)\n",
    "    return f_crit\n",
    "\"\"\"\n",
    "This function uses the scipy.stats.f.ppf function to calculate the critical F-value for a two-tailed test. \n",
    "The ppf function takes the significance level divided by two (since it's a two-tailed test) and the\n",
    "degrees of freedom for the numerator and denominator of the F-distribution as arguments. The function\n",
    "returns the critical F-value.\n",
    "\"\"\"\n",
    "df_num = 3\n",
    "df_denom = 16\n",
    "f_crit = critical_f_value(df_num, df_denom)\n",
    "print(\"Critical F-value: \", f_crit)"
   ]
  },
  {
   "cell_type": "code",
   "execution_count": 15,
   "id": "2a34d64c-7c95-4ad6-9d5e-5dd5e95e71e3",
   "metadata": {},
   "outputs": [
    {
     "name": "stdout",
     "output_type": "stream",
     "text": [
      "Sample 1 Mean:  -0.0112972439581026\n",
      "Sample 1 Variance:  1.214081921105498\n",
      "Sample 2 Mean:  0.19593379950317655\n",
      "Sample 2 Variance:  1.3443836141343677\n",
      "F-value:  0.9030770000028828\n",
      "Degrees of Freedom (numerator, denominator):  19 24\n",
      "p-value:  1.169901915554453\n"
     ]
    }
   ],
   "source": [
    "# answer 3\n",
    "# program that generates random samples from two normal distributions with known variances and uses an F-test to determine if the variances are equal:\n",
    "    \n",
    "import numpy as np\n",
    "from scipy.stats import f\n",
    "\n",
    "# Set seed for reproducibility\n",
    "np.random.seed(1234)\n",
    "# Generate random samples from two normal distributions with known variances\n",
    "mean1, mean2 = 0, 0\n",
    "variance1, variance2 = 1, 1.5\n",
    "sample_size1, sample_size2 = 20, 25\n",
    "\n",
    "sample1 = np.random.normal(mean1, np.sqrt(variance1), sample_size1)\n",
    "sample2 = np.random.normal(mean2, np.sqrt(variance2), sample_size2)\n",
    "\n",
    "# Perform F-test for equal variances\n",
    "f_value = np.var(sample1, ddof=1) / np.var(sample2, ddof=1)\n",
    "df1 = sample_size1 - 1\n",
    "df2 = sample_size2 - 1\n",
    "p_value = f.sf(f_value, df1, df2) * 2\n",
    "\n",
    "# Output results\n",
    "print(\"Sample 1 Mean: \", np.mean(sample1))\n",
    "print(\"Sample 1 Variance: \", np.var(sample1, ddof=1))\n",
    "print(\"Sample 2 Mean: \", np.mean(sample2))\n",
    "print(\"Sample 2 Variance: \", np.var(sample2, ddof=1))\n",
    "print(\"F-value: \", f_value)\n",
    "print(\"Degrees of Freedom (numerator, denominator): \", df1, df2)\n",
    "print(\"p-value: \", p_value)"
   ]
  },
  {
   "cell_type": "markdown",
   "id": "ca72e6bf-d9ee-4714-b4b9-6dbe39506d8c",
   "metadata": {},
   "source": [
    "# answer 4\n",
    "To conduct an F-test for comparing the variances of two populations, we need to follow these steps:\n",
    "\n",
    "Step 1: State the null and alternative hypotheses\n",
    "\n",
    "The null hypothesis H0: σ1^2 = σ2^2 (the variances are equal)\n",
    "The alternative hypothesis Ha: σ1^2 ≠ σ2^2 (the variances are not equal)\n",
    "\n",
    "Step 2: Determine the significance level α and the degrees of freedom for the two populations\n",
    "\n",
    "The significance level is given as 5%, which corresponds to a critical value of F with (df1 = 11, df2 = 11) \n",
    "degrees of freedom.\n",
    "\n",
    "Step 3: Compute the test statistic F\n",
    "\n",
    "The test statistic F is calculated as the ratio of the sample variances:\n",
    "\n",
    "F = S1^2 / S2^2, where S1^2 and S2^2 are the sample variances of the two populations.\n",
    "\n",
    "In this case, we have:\n",
    "\n",
    "S1^2 = 10 and n1 = 12\n",
    "S2^2 = 15 and n2 = 12\n",
    "\n",
    "Therefore, the test statistic F is:\n",
    "\n",
    "F = 10/15 = 0.67\n",
    "\n",
    "Step 4: Determine the critical value and the p-value\n",
    "\n",
    "The critical value of F with (df1 = 11, df2 = 11) degrees of freedom at a 5% significance level is 2.32.\n",
    "\n",
    "The p-value is the probability of obtaining a test statistic as extreme or more extreme than the observed value,\n",
    "assuming the null hypothesis is true. We can use an F-distribution table or a statistical software to find the \n",
    "p-value. In this case, the p-value is approximately 0.691.\n",
    "\n",
    "Step 5: Make a decision and interpret the results\n",
    "\n",
    "Since the calculated F-value (0.67) is smaller than the critical value (2.32), we fail to reject the null \n",
    "hypothesis. That is, we do not have sufficient evidence to conclude that the variances of the two populations \n",
    "are significantly different at the 5% level of significance. Therefore, we can conclude that there is no\n",
    "significant difference in the variances of the two populations."
   ]
  },
  {
   "cell_type": "code",
   "execution_count": 16,
   "id": "7d9b3a04-9780-4adb-9e65-809901f74f15",
   "metadata": {},
   "outputs": [
    {
     "name": "stdout",
     "output_type": "stream",
     "text": [
      "Fail to reject the null hypothesis; \n",
      " There is no significant difference between the variances.\n"
     ]
    }
   ],
   "source": [
    "# answer 4\n",
    "import numpy as np\n",
    "from scipy.stats import f\n",
    "n1 = 12\n",
    "n2 = 12\n",
    "var1 = 10\n",
    "var2 = 15\n",
    "# Compute the F-statistic and p-value using the samples\n",
    "f_stat = var1 / var2\n",
    "p_val = f.cdf(f_stat, n1 - 1, n2 - 1)\n",
    "alpha = 0.05\n",
    "if p_val < alpha / 2 or p_val > 1 - alpha / 2:\n",
    "    print(\"Reject the null hypothesis; \\n The variances are significantly different.\")\n",
    "else:\n",
    "    print(\"Fail to reject the null hypothesis; \\n There is no significant difference between the variances.\")"
   ]
  },
  {
   "cell_type": "code",
   "execution_count": 17,
   "id": "00bef70b-9d7c-40fd-b851-08686385ca4b",
   "metadata": {},
   "outputs": [
    {
     "name": "stdout",
     "output_type": "stream",
     "text": [
      "Reject the null hypothesis; \n",
      "  The variance is 0.006\n"
     ]
    }
   ],
   "source": [
    "# answer 5\n",
    "import numpy as np\n",
    "from scipy.stats import f\n",
    "\n",
    "h0=\"The variance is 0.005 (manufacture's claim)\"\n",
    "ha=\"The variance is 0.006\"\n",
    "\n",
    "n = 25\n",
    "alpha = 0.01\n",
    "population_var = 0.005\n",
    "sample_var = 0.006\n",
    "\n",
    "# Compute the F-statistic and p-value using the samples\n",
    "f_stat = sample_var / population_var\n",
    "p_val = f.cdf(f_stat, n - 1, np.inf)\n",
    "\n",
    "if p_val < alpha:\n",
    "    print(\"Reject the null hypothesis; \\n \",ha)\n",
    "else:\n",
    "    print(\"Fail to reject the null hypothesis; \\n \",h0)"
   ]
  },
  {
   "cell_type": "code",
   "execution_count": 18,
   "id": "f8badf01-d3d6-405b-ad0b-bc083d64f927",
   "metadata": {},
   "outputs": [
    {
     "name": "stdout",
     "output_type": "stream",
     "text": [
      "Mean:  1.3333333333333333\n",
      "Variance: 1.7778\n"
     ]
    }
   ],
   "source": [
    "# answer 6\n",
    "import numpy as np\n",
    "from scipy.stats import f\n",
    "\n",
    "def f_dist_mean_var(df_num, df_denom):\n",
    "    mean = df_denom / (df_denom - 2)\n",
    "    variance = (2 * (df_denom**2) * (df_num + df_denom - 2)) / ((df_num * (df_denom - 2)**2 * (df_denom - 4)))\n",
    "    return (mean, variance)\n",
    "\n",
    "# degrees of freedom as an input for numerator and denominator respectively\n",
    "n,d=6,8\n",
    "mean, variance = f_dist_mean_var(n,d)\n",
    "\n",
    "print(\"Mean: \", mean)\n",
    "print(\"Variance: {:.4f}\".format(variance))"
   ]
  },
  {
   "cell_type": "code",
   "execution_count": 19,
   "id": "49998aa9-8607-44fe-b5ae-d70f85c8cafb",
   "metadata": {},
   "outputs": [
    {
     "name": "stdout",
     "output_type": "stream",
     "text": [
      "Fail to reject the null hypotheses \n",
      "  The variances are not different.\n"
     ]
    }
   ],
   "source": [
    "# answer 7\n",
    "from scipy.stats import f\n",
    "\n",
    "h0=\"The variances are not different.\"\n",
    "ha=\"The variances are significantly different.\"\n",
    "\n",
    "# given data mean and variance of the two samples \n",
    "n1 = 10\n",
    "n2 = 15\n",
    "s1_var = 25\n",
    "s2_var = 20\n",
    "# significanve level\n",
    "alpha=0.10\n",
    "\n",
    "f_stat = s1_var / s2_var\n",
    "p_val = f.cdf(f_stat, n1 - 1, n2 - 1)\n",
    "\n",
    "if p_val < alpha:\n",
    "    print(\"Reject the Null hypotheses \\n \",ha)\n",
    "else:\n",
    "    print(\"Fail to reject the null hypotheses \\n \",h0)"
   ]
  },
  {
   "cell_type": "code",
   "execution_count": 20,
   "id": "71f598c8-85d1-4b02-a7f0-42a5b98571ca",
   "metadata": {},
   "outputs": [
    {
     "name": "stdout",
     "output_type": "stream",
     "text": [
      "Fail to reject the null hypotheses \n",
      "  The variances are not different.\n"
     ]
    }
   ],
   "source": [
    "# answer 8\n",
    "from scipy.stats import f\n",
    "\n",
    "h0=\"The variances are not different.\"\n",
    "ha=\"The variances are significantly different.\"\n",
    "\n",
    "# given data of restuarants a and b\n",
    "a = [24, 25, 28, 23, 22, 20, 27]\n",
    "b = [31, 33, 35, 30, 32, 36]\n",
    "\n",
    "n1 = len(a)\n",
    "n2 = len(b)\n",
    "alpha = 0.05\n",
    "\n",
    "s1_var = sum((x - sum(a)/n1)**2 for x in a) / (n1 - 1)\n",
    "s2_var = sum((x - sum(b)/n2)**2 for x in b) / (n2 - 1)\n",
    "\n",
    "\n",
    "f_stat = s1_var / s2_var\n",
    "p_val = f.cdf(f_stat, n1 - 1, n2 - 1)\n",
    "\n",
    "if p_val < alpha:\n",
    "    print(\"Reject the Null hypotheses \\n \",ha)\n",
    "else:\n",
    "    print(\"Fail to reject the null hypotheses \\n \",h0)"
   ]
  },
  {
   "cell_type": "code",
   "execution_count": 21,
   "id": "8f6179e7-989a-4b95-ac9e-393b4c83c31d",
   "metadata": {},
   "outputs": [
    {
     "name": "stdout",
     "output_type": "stream",
     "text": [
      "Fail to reject the null hypotheses \n",
      "  The variances are not different.\n"
     ]
    }
   ],
   "source": [
    "# answer 9\n",
    "from scipy.stats import f_oneway\n",
    "\n",
    "h0=\"The variances are not different.\"\n",
    "ha=\"The variances are significantly different.\"\n",
    "\n",
    "group_a = [24, 25, 28, 23, 22, 20, 27]\n",
    "group_b = [31, 33, 35, 30, 32, 36]\n",
    "\n",
    "f_statistic, p_value = f_oneway(group_a, group_b)\n",
    "alpha = 0.01\n",
    "\n",
    "if p_val < alpha:\n",
    "    print(\"Reject the Null hypotheses \\n \",ha)\n",
    "else:\n",
    "    print(\"Fail to reject the null hypotheses \\n \",h0)"
   ]
  },
  {
   "cell_type": "code",
   "execution_count": 22,
   "id": "214c9e0b-78c0-4655-a6d8-3b13d24efb88",
   "metadata": {},
   "outputs": [
    {
     "name": "stdout",
     "output_type": "stream",
     "text": [
      "Fail to reject the null hypotheses \n",
      "  The variances are not different.\n"
     ]
    }
   ],
   "source": [
    "# answer 9\n",
    "from scipy.stats import f_oneway\n",
    "\n",
    "h0=\"The variances are not different.\"\n",
    "ha=\"The variances are significantly different.\"\n",
    "\n",
    "alpha = 0.01\n",
    "group_a = [80, 85, 90, 92, 87, 83]\n",
    "group_b = [75, 78, 82, 79, 81, 84]\n",
    "\n",
    "f_statistic, p_value = f_oneway(group_a, group_b)\n",
    "\n",
    "if p_val < alpha:\n",
    "    print(\"Reject the Null hypotheses \\n \",ha)\n",
    "else:\n",
    "    print(\"Fail to reject the null hypotheses \\n \",h0)"
   ]
  }
 ],
 "metadata": {
  "kernelspec": {
   "display_name": "Python 3 (ipykernel)",
   "language": "python",
   "name": "python3"
  },
  "language_info": {
   "codemirror_mode": {
    "name": "ipython",
    "version": 3
   },
   "file_extension": ".py",
   "mimetype": "text/x-python",
   "name": "python",
   "nbconvert_exporter": "python",
   "pygments_lexer": "ipython3",
   "version": "3.10.8"
  }
 },
 "nbformat": 4,
 "nbformat_minor": 5
}
