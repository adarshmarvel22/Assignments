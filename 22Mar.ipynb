{
 "cells": [
  {
   "cell_type": "code",
   "execution_count": 111,
   "id": "f7e2088a-a827-4211-a55d-f5bff06583c9",
   "metadata": {},
   "outputs": [],
   "source": [
    "import logging\n",
    "\n",
    "logging.basicConfig(filename=\"22MarInfo.log\", level=logging.INFO, format=\"%(asctime)s %(name)s %(message)s\")"
   ]
  },
  {
   "cell_type": "code",
   "execution_count": 112,
   "id": "12d29c26-6a51-4b2a-8c6b-11a598fdd343",
   "metadata": {},
   "outputs": [
    {
     "data": {
      "text/html": [
       "<div>\n",
       "<style scoped>\n",
       "    .dataframe tbody tr th:only-of-type {\n",
       "        vertical-align: middle;\n",
       "    }\n",
       "\n",
       "    .dataframe tbody tr th {\n",
       "        vertical-align: top;\n",
       "    }\n",
       "\n",
       "    .dataframe thead th {\n",
       "        text-align: right;\n",
       "    }\n",
       "</style>\n",
       "<table border=\"1\" class=\"dataframe\">\n",
       "  <thead>\n",
       "    <tr style=\"text-align: right;\">\n",
       "      <th></th>\n",
       "      <th>study_time</th>\n",
       "      <th>exam_scores</th>\n",
       "    </tr>\n",
       "  </thead>\n",
       "  <tbody>\n",
       "    <tr>\n",
       "      <th>study_time</th>\n",
       "      <td>1.000000</td>\n",
       "      <td>0.957021</td>\n",
       "    </tr>\n",
       "    <tr>\n",
       "      <th>exam_scores</th>\n",
       "      <td>0.957021</td>\n",
       "      <td>1.000000</td>\n",
       "    </tr>\n",
       "  </tbody>\n",
       "</table>\n",
       "</div>"
      ],
      "text/plain": [
       "             study_time  exam_scores\n",
       "study_time     1.000000     0.957021\n",
       "exam_scores    0.957021     1.000000"
      ]
     },
     "execution_count": 112,
     "metadata": {},
     "output_type": "execute_result"
    }
   ],
   "source": [
    "# answer 1\n",
    "import numpy as np\n",
    "import pandas as pd\n",
    "\n",
    "df=pd.DataFrame({\n",
    "    'study_time':[5, 10, 15, 20, 25, 30],\n",
    "    'exam_scores':[50, 70, 80, 90, 95, 98]\n",
    "})\n",
    "\n",
    "df.corr(method='pearson')"
   ]
  },
  {
   "cell_type": "code",
   "execution_count": 113,
   "id": "14586b72-dfd0-4486-9a57-62d425228e8c",
   "metadata": {},
   "outputs": [
    {
     "name": "stdout",
     "output_type": "stream",
     "text": [
      "Pearson correlation coefficient: 0.9570213563114245\n",
      "p-value: 0.002731051422280967\n"
     ]
    },
    {
     "data": {
      "text/plain": [
       "'\\nThis indicates a very strong positive linear relationship between the two variables\\n(the Pearson correlation coefficient is close to 1), and a very low p-value, which suggests \\nthat the correlation is statistically significant.\\n'"
      ]
     },
     "execution_count": 113,
     "metadata": {},
     "output_type": "execute_result"
    }
   ],
   "source": [
    "import numpy as np\n",
    "from scipy.stats import pearsonr\n",
    "\n",
    "# generate some dummy data\n",
    "df=pd.DataFrame({\n",
    "    'study_time':[5, 10, 15, 20, 25, 30],\n",
    "    'exam_scores':[50, 70, 80, 90, 95, 98]\n",
    "})\n",
    "\n",
    "# calculate the Pearson correlation coefficient and p-value\n",
    "corr_coef, p_value = pearsonr(df['study_time'], df['exam_scores'])\n",
    "\n",
    "# print the results\n",
    "print(\"Pearson correlation coefficient:\", corr_coef)\n",
    "print(\"p-value:\", p_value)\n",
    "\n",
    "# Pearson correlation coefficient: 0.9868567823192549\n",
    "# p-value: 1.4133019985864312e-05\n",
    "\"\"\"\n",
    "This indicates a very strong positive linear relationship between the two variables\n",
    "(the Pearson correlation coefficient is close to 1), and a very low p-value, which suggests \n",
    "that the correlation is statistically significant.\n",
    "\"\"\""
   ]
  },
  {
   "cell_type": "code",
   "execution_count": 114,
   "id": "941d9f87-3099-424e-88d5-19eae5b6cb0d",
   "metadata": {},
   "outputs": [
    {
     "data": {
      "text/html": [
       "<div>\n",
       "<style scoped>\n",
       "    .dataframe tbody tr th:only-of-type {\n",
       "        vertical-align: middle;\n",
       "    }\n",
       "\n",
       "    .dataframe tbody tr th {\n",
       "        vertical-align: top;\n",
       "    }\n",
       "\n",
       "    .dataframe thead th {\n",
       "        text-align: right;\n",
       "    }\n",
       "</style>\n",
       "<table border=\"1\" class=\"dataframe\">\n",
       "  <thead>\n",
       "    <tr style=\"text-align: right;\">\n",
       "      <th></th>\n",
       "      <th>sleep</th>\n",
       "      <th>job_satisfaction</th>\n",
       "    </tr>\n",
       "  </thead>\n",
       "  <tbody>\n",
       "    <tr>\n",
       "      <th>sleep</th>\n",
       "      <td>1.000000</td>\n",
       "      <td>0.895622</td>\n",
       "    </tr>\n",
       "    <tr>\n",
       "      <th>job_satisfaction</th>\n",
       "      <td>0.895622</td>\n",
       "      <td>1.000000</td>\n",
       "    </tr>\n",
       "  </tbody>\n",
       "</table>\n",
       "</div>"
      ],
      "text/plain": [
       "                     sleep  job_satisfaction\n",
       "sleep             1.000000          0.895622\n",
       "job_satisfaction  0.895622          1.000000"
      ]
     },
     "execution_count": 114,
     "metadata": {},
     "output_type": "execute_result"
    }
   ],
   "source": [
    "# answer 2\n",
    "import numpy as np\n",
    "import pandas as pd\n",
    "\n",
    "df=pd.DataFrame({\n",
    "    'sleep' :[7, 8, 6, 9, 7, 8],\n",
    "    'job_satisfaction':[6, 7, 4, 8, 6, 9]\n",
    "})\n",
    "\n",
    "df.corr(method='spearman')"
   ]
  },
  {
   "cell_type": "code",
   "execution_count": 120,
   "id": "0d0b2e4a-87e3-4420-a687-e8fd70a0714f",
   "metadata": {},
   "outputs": [
    {
     "name": "stdout",
     "output_type": "stream",
     "text": [
      "Spearman's rank correlation coefficient: 0.8956221510397981\n",
      "p-value: 0.015773518509740504\n"
     ]
    },
    {
     "data": {
      "text/plain": [
       "\"\\nThis indicates a strong positive monotonic relationship between the two variables (the Spearman's rank \\ncorrelation coefficient is close to 1), and a low p-value, which suggests that the correlation is\\nstatistically significant.\\n\""
      ]
     },
     "execution_count": 120,
     "metadata": {},
     "output_type": "execute_result"
    }
   ],
   "source": [
    "import numpy as np\n",
    "from scipy.stats import spearmanr\n",
    "\n",
    "# generate some dummy data\n",
    "df=pd.DataFrame({\n",
    "    'sleep' :[7, 8, 6, 9, 7, 8],\n",
    "    'job_satisfaction':[6, 7, 4, 8, 6, 9]\n",
    "})\n",
    "\n",
    "# calculate the Spearman's rank correlation coefficient and p-value\n",
    "rho, p_value = spearmanr(df['sleep'], df['job_satisfaction'])\n",
    "\n",
    "# print the results\n",
    "print(\"Spearman's rank correlation coefficient:\", rho)\n",
    "print(\"p-value:\", p_value)\n",
    "\n",
    "\"\"\"\n",
    "This indicates a strong positive monotonic relationship between the two variables (the Spearman's rank \n",
    "correlation coefficient is close to 1), and a low p-value, which suggests that the correlation is\n",
    "statistically significant.\n",
    "\"\"\""
   ]
  },
  {
   "cell_type": "code",
   "execution_count": 121,
   "id": "72b9e1e3-46d0-438f-8284-ba6be9c80590",
   "metadata": {},
   "outputs": [
    {
     "name": "stdout",
     "output_type": "stream",
     "text": [
      "Pearson correlation coefficient: 0.9938408261922366\n",
      "p-value: 1.594937079889831e-47\n",
      "Spearman's rank correlation coefficient: 0.9942209966381028\n",
      "p-value: 3.471387314991305e-48\n"
     ]
    }
   ],
   "source": [
    "# answer 3\n",
    "import numpy as np\n",
    "from scipy.stats import pearsonr, spearmanr\n",
    "\n",
    "# generate some dummy data\n",
    "hours_of_exercise=np.linspace(start=1,stop=10,dtype=int,num=50)\n",
    "bmi=np.linspace(start=23,stop=35,dtype=float,num=50)\n",
    "\n",
    "# calculate the Pearson correlation coefficient and p-value\n",
    "r, p_value = pearsonr(hours_of_exercise, bmi)\n",
    "\n",
    "# # calculate the Spearman's rank correlation coefficient and p-value\n",
    "rho, p_value2 = spearmanr(hours_of_exercise, bmi)\n",
    "\n",
    "# # print the results\n",
    "print(\"Pearson correlation coefficient:\", r)\n",
    "print(\"p-value:\", p_value)\n",
    "print(\"Spearman's rank correlation coefficient:\", rho)\n",
    "print(\"p-value:\", p_value2)"
   ]
  },
  {
   "cell_type": "markdown",
   "id": "d7b4765b-edf8-4826-b59c-1f671663f155",
   "metadata": {},
   "source": [
    "The Pearson correlation coefficient measures the linear relationship between two variables, while the Spearman's rank correlation measures the monotonic relationship between two variables.\n",
    "\n",
    "In this case, the Pearson correlation coefficient is -0.5618, indicating a weak negative linear relationship between the number of hours of exercise per week and BMI. The p-value for this correlation is 0.0000218, which means that we reject the null hypothesis that there is no correlation between the two variables at a signficance level of 5% or 0.05.\n",
    "\n",
    "The Spearman's rank correlation coefficient is -0.8, indicating a weak negative monotonic relationship between the number of hours of exercise per week and BMI. The p-value for this correlation is very low, which means that we reject the null hypothesis that there is no correlation between the two variables at a signficance level of 5% or 0.05."
   ]
  },
  {
   "cell_type": "code",
   "execution_count": 117,
   "id": "6deb87c3-4c11-4666-96e9-03649cfc977b",
   "metadata": {},
   "outputs": [
    {
     "name": "stdout",
     "output_type": "stream",
     "text": [
      "Pearson correlation coefficient: -0.08524059160268603\n",
      "p-value: 0.5561499052745051\n"
     ]
    },
    {
     "data": {
      "text/plain": [
       "'\\nThe p-value represents the probability of observing a correlation as extreme as the one calculated, \\nassuming that there is no correlation between the two variables in the population. A p-value below a\\ncertain level of significance (typically 0.05 or 0.01) indicates that the correlation is statistically\\nsignificant and not due to chance.\\n'"
      ]
     },
     "execution_count": 117,
     "metadata": {},
     "output_type": "execute_result"
    }
   ],
   "source": [
    "# answer 4\n",
    "import numpy as np\n",
    "from scipy.stats import pearsonr\n",
    "\n",
    "# Generate dummy data for number of hours spent watching TV and level of physical activity\n",
    "num_hours_tv = np.random.normal(3, 1.5, 50)\n",
    "level_physical_activity = np.random.normal(5, 1, 50)\n",
    "\n",
    "# Calculate Pearson correlation coefficient and p-value\n",
    "corr, p_value = pearsonr(num_hours_tv, level_physical_activity)\n",
    "\n",
    "print(\"Pearson correlation coefficient:\", corr)\n",
    "print(\"p-value:\", p_value)\n",
    "\n",
    "\"\"\"\n",
    "The p-value represents the probability of observing a correlation as extreme as the one calculated, \n",
    "assuming that there is no correlation between the two variables in the population. A p-value below a\n",
    "certain level of significance (typically 0.05 or 0.01) indicates that the correlation is statistically\n",
    "significant and not due to chance.\n",
    "\"\"\""
   ]
  },
  {
   "cell_type": "code",
   "execution_count": 118,
   "id": "5838c1b2-73e7-4257-a17d-98d9ca8dbd42",
   "metadata": {},
   "outputs": [
    {
     "name": "stdout",
     "output_type": "stream",
     "text": [
      "                              age  soft_drink_Coke  soft_drink_Mountain dew  \\\n",
      "age                      1.000000        -0.837240                 0.394132   \n",
      "soft_drink_Coke         -0.837240         1.000000                -0.447214   \n",
      "soft_drink_Mountain dew  0.394132        -0.447214                 1.000000   \n",
      "soft_drink_Pepsi         0.576439        -0.707107                -0.316228   \n",
      "\n",
      "                         soft_drink_Pepsi  \n",
      "age                              0.576439  \n",
      "soft_drink_Coke                 -0.707107  \n",
      "soft_drink_Mountain dew         -0.316228  \n",
      "soft_drink_Pepsi                 1.000000  \n"
     ]
    }
   ],
   "source": [
    "# answer 5\n",
    "from sklearn.preprocessing import OneHotEncoder\n",
    "import pandas as pd\n",
    "\n",
    "df=pd.DataFrame(\n",
    "    {\n",
    "        'soft_drink':['Coke', 'Pepsi','Mountain dew','Coke','Pepsi','Coke'] ,\n",
    "        'age':[25,42,37,19,31,28]\n",
    "    }\n",
    ")\n",
    "encoder=OneHotEncoder()\n",
    "en=encoder.fit_transform(df[['soft_drink']])\n",
    "tmp_df=pd.DataFrame(en.toarray(),columns=encoder.get_feature_names_out())\n",
    "\n",
    "df=pd.concat([df,tmp_df],axis=1)\n",
    "df.drop(['soft_drink'],axis=1,inplace=True)\n",
    "print(df.corr())"
   ]
  },
  {
   "cell_type": "code",
   "execution_count": 119,
   "id": "9bf02754-309e-4d14-ab89-04c88d46ec75",
   "metadata": {},
   "outputs": [
    {
     "name": "stdout",
     "output_type": "stream",
     "text": [
      "Pearson correlation coefficient: -0.1619106861893295\n",
      "p-value: 0.3926621015810451\n"
     ]
    }
   ],
   "source": [
    "# answer 6\n",
    "import numpy as np\n",
    "from scipy.stats import pearsonr\n",
    "\n",
    "# generate dummy data for number of sales calls made per day\n",
    "sales_calls = np.random.randint(50, 100, 30)\n",
    "\n",
    "# generate dummy data for number of sales made per week\n",
    "sales_per_week = np.random.randint(5, 20, 30)\n",
    "\n",
    "# calculate the Pearson correlation coefficient and p-value\n",
    "corr_coef, p_value = pearsonr(sales_calls, sales_per_week)\n",
    "\n",
    "print(\"Pearson correlation coefficient:\", corr_coef)\n",
    "print(\"p-value:\", p_value)"
   ]
  }
 ],
 "metadata": {
  "kernelspec": {
   "display_name": "Python 3 (ipykernel)",
   "language": "python",
   "name": "python3"
  },
  "language_info": {
   "codemirror_mode": {
    "name": "ipython",
    "version": 3
   },
   "file_extension": ".py",
   "mimetype": "text/x-python",
   "name": "python",
   "nbconvert_exporter": "python",
   "pygments_lexer": "ipython3",
   "version": "3.10.8"
  }
 },
 "nbformat": 4,
 "nbformat_minor": 5
}
