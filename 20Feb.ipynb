{
 "cells": [
  {
   "cell_type": "code",
   "execution_count": null,
   "id": "bf4242b8-3fca-4bcf-8128-27fed69c9945",
   "metadata": {},
   "outputs": [],
   "source": [
    "import logging\n",
    "logging.basicConfig(filename=\"20FebInfo.log\", level=logging.INFO, format=\"%(asctime)s %(name)s %(message)s\")"
   ]
  },
  {
   "cell_type": "code",
   "execution_count": 1,
   "id": "10d03361-d87d-463d-8eb7-b2e2792fda19",
   "metadata": {},
   "outputs": [],
   "source": [
    "# answer 1\n",
    "\"\"\"\n",
    "The GET method \n",
    "               is used to request data from a server. It sends a request to the server to retrieve a resource, \n",
    "such as a webpage, image, or file. When a client uses a GET request, the data is sent in the URL's query string.\n",
    "This means that any data sent using the GET method is visible in the URL, making it less secure. \n",
    "\n",
    "The POST method \n",
    "               is used to submit data to a server to create or update a resource. \n",
    "It sends a request to the server with the data included in the body of the request, rather than in the \n",
    "URL's query string. This makes the POST method more secure than the GET method because the data is not \n",
    "visible in the URL.\n",
    "\"\"\""
   ]
  },
  {
   "cell_type": "code",
   "execution_count": 2,
   "id": "503ef0f3-3b93-4918-ad2f-764af2144c60",
   "metadata": {},
   "outputs": [],
   "source": [
    "# answer 2\n",
    "\"\"\"\n",
    "The request module in Flask is used to handle incoming HTTP requests sent by the client to the server. \n",
    "It provides a simple and convenient way to access the data that is sent with a request, such as form data, \n",
    "query parameters, and JSON payloads.\n",
    "\n",
    "When a client sends a request to a Flask application, the Flask framework processes the request and creates \n",
    "a request object that contains information about the incoming request. The request object is an instance of\n",
    "the Flask Request class, which provides a number of methods and attributes for accessing different parts of\n",
    "the request.\n",
    "\n",
    "Using the request module in Flask, we can access the data that is sent with the request, such as form data,\n",
    "query parameters, and JSON payloads. We can also access information about the request itself, such as the\n",
    "HTTP method used, the user agent, and the remote IP address.\n",
    "\n",
    "For example, if a client submits a form with data, we can access the data in our Flask application using\n",
    "the request object. We can then use this data to process the request and generate a response."
    """
   ]
  },
  {
   "cell_type": "code",
   "execution_count": 6,
   "id": "4a54ff0a-96c2-4d26-9d10-425c6c3331a9",
   "metadata": {},
   "outputs": [],
   "source": [
    "# answer 3\n",
    "\"\"\"\n",
    "The redirect() function in Flask is used to redirect a client to a different URL. It is a built-in function \n",
    "in Flask that allows to return a redirect response to the client's browser.\n",
    "\n",
    "There are several use cases for redirecting a client to a different URL. For example, we may want to \n",
    "redirect the client after they have successfully submitted a form or logged in to our application. \n",
    "\"\"\"\n",
    "from flask import Flask, redirect, url_for\n",
    "\n",
    "app = Flask(__name__)\n",
    "\n",
    "logging.info(\"home routing\")\n",
    "@app.route('/home')\n",
    "def home():\n",
    "    return 'This is the home page.'\n",
    "\n",
    "logging.info(\"about routing\")\n",
    "@app.route('/about')\n",
    "def about():\n",
    "    return redirect(url_for('home'))\n",
    "\n",
    "if __name__==\"__main__\":\n",
    "    app.run(host=\"0.0.0.0\")"
   ]
  },
  {
   "cell_type": "code",
   "execution_count": 4,
   "id": "d3069311-ee2c-4b47-a937-7cabdb4a751b",
   "metadata": {},
   "outputs": [],
   "source": [
    "# answer 4\n",
    "\"\"\"\n",
    "Templates in Flask are files that define the structure and content of the HTML pages that are served by\n",
    "the Flask application. Templates are used to separate the presentation layer from the application logic, \n",
    "making it easier to manage and update the HTML pages of the application.\n",
    "\n",
    "The templates in Flask are created using a templating engine, which is a software module that allows us\n",
    "to create dynamic HTML pages by embedding Python code in the HTML. Flask supports several templating engines,\n",
    "including Jinja2 and Mako.\n",
    "\"\"\"\n",
    "# Example code for rendering the home.html template\n",
    "from flask import Flask, render_template\n",
    "\n",
    "app = Flask(__name__)\n",
    "\n",
    "@app.route('/')\n",
    "def home():\n",
    "    return render_template('home.html')\n",
    "\n",
    "if __name__==\"__main__\":\n",
    "    app.run(host=\"0.0.0.0\")"
   ]
  },
  {
   "cell_type": "code",
   "execution_count": 5,
   "id": "756bc1d5-b360-44d2-8cba-174003d8748d",
   "metadata": {},
   "outputs": [],
   "source": [
    "# answer 5\n",
    "from flask import Flask, jsonify, request\n",
    "\n",
    "app = Flask(__name__)\n",
    "\n",
    "logging.info(\"äpi2 with GET request\")\n",
    "@app.route('/api2', methods=['GET'])\n",
    "def get_data():\n",
    "    data = {'message': 'This is a GET request'}\n",
    "    return jsonify(data)\n",
    "\n",
    "logging.info(\"äpi with POST request\")\n",
    "@app.route('/api', methods=['POST'])\n",
    "def post_data():\n",
    "    data = request.get_json()\n",
    "    msg=data[\"my_message\"]\n",
    "    return jsonify(msg)\n",
    "\n",
    "if __name__==\"__main__\":\n",
    "    app.run(host=\"0.0.0.0\")\n",
    "    \n",
    "# In this example, the API has two endpoints: /api and /api2 with a GET and a POST method."
   ]
  },
  {
   "cell_type": "markdown",
   "id": "504d21af-4a44-492d-b836-bd383841f2d1",
   "metadata": {},
   "source": [
    "<img src=\"api.jpg\">"
   ]
  },
  {
   "cell_type": "markdown",
   "id": "2991841b-5dd1-4a1b-ac8d-123c3911b1c0",
   "metadata": {},
   "source": [
    "<img src=\"api2.jpg\">"
   ]
  }
 ],
 "metadata": {
  "kernelspec": {
   "display_name": "Python 3 (ipykernel)",
   "language": "python",
   "name": "python3"
  },
  "language_info": {
   "codemirror_mode": {
    "name": "ipython",
    "version": 3
   },
   "file_extension": ".py",
   "mimetype": "text/x-python",
   "name": "python",
   "nbconvert_exporter": "python",
   "pygments_lexer": "ipython3",
   "version": "3.10.8"
  }
 },
 "nbformat": 4,
 "nbformat_minor": 5
}
