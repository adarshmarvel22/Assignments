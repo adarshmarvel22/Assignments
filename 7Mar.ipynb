{
 "cells": [
  {
   "cell_type": "markdown",
   "id": "44a0e5ca-0327-47d0-9f49-9f18daa35fe2",
   "metadata": {},
   "source": [
    "# Statistics day2"
   ]
  },
  {
   "cell_type": "code",
   "execution_count": 1,
   "id": "739b7b23-0aef-4a67-a130-4e54b98ec066",
   "metadata": {},
   "outputs": [],
   "source": [
    "import logging\n",
    "\n",
    "logging.basicConfig(filename=\"7MarInfo.log\", level=logging.INFO, format=\"%(asctime)s %(name)s %(message)s\")"
   ]
  },
  {
   "cell_type": "code",
   "execution_count": 2,
   "id": "4f5f57f0-9e34-482c-916e-3ce92aeb362a",
   "metadata": {},
   "outputs": [
    {
     "data": {
      "text/plain": [
       "'\\nThe three measures of central tendency are:\\n\\nMean:\\n    It is the arithmetic average of a set of numbers. To find the mean, we add up all the numbers\\nin the set and then divide the sum by the total number of values in the set.\\n\\nMedian: \\n     It is the middle value of a set of numbers when they are arranged in ascending or descending order.\\nIf there are an even number of values, the median is the average of the two middle values.\\n\\nMode: \\n    It is the most frequently occurring value in a set of numbers. A set of data may have one mode (unimodal),\\ntwo modes (bimodal), or more than two modes (multimodal).\\n'"
      ]
     },
     "execution_count": 2,
     "metadata": {},
     "output_type": "execute_result"
    }
   ],
   "source": [
    "# answer 1\n",
    "\"\"\"\n",
    "The three measures of central tendency are:\n",
    "\n",
    "Mean:\n",
    "    It is the arithmetic average of a set of numbers. To find the mean, we add up all the numbers\n",
    "in the set and then divide the sum by the total number of values in the set.\n",
    "\n",
    "Median: \n",
    "     It is the middle value of a set of numbers when they are arranged in ascending or descending order.\n",
    "If there are an even number of values, the median is the average of the two middle values.\n",
    "\n",
    "Mode: \n",
    "    It is the most frequently occurring value in a set of numbers. A set of data may have one mode (unimodal),\n",
    "two modes (bimodal), or more than two modes (multimodal).\n",
    "\"\"\""
   ]
  },
  {
   "cell_type": "code",
   "execution_count": 3,
   "id": "770f9485-d062-4cf3-9f07-30b2ed7833f1",
   "metadata": {},
   "outputs": [
    {
     "data": {
      "text/plain": [
       "'\\nThe main differences between the mean, median, and mode are:\\n\\nMean:\\n    It is the average of a set of values. It is calculated by adding up all the values in the set\\nand then dividing the sum by the total number of values. The mean can be influenced by extreme values\\nor outliers in the dataset.\\n\\nMedian:\\n     It is the middle value in a dataset when the values are arranged in ascending or descending order.\\nIf there are an even number of values, the median is the average of the two middle values. \\nThe median is not affected by outliers or extreme values in the dataset.\\n\\nMode:\\n    It is the value that appears most frequently in a dataset. A dataset may have one mode (unimodal),\\ntwo modes (bimodal), or more than two modes (multimodal). The mode is not affected by outliers or\\nextreme values in the dataset.\\n\\nAll three measures of central tendency are used to describe the center of a dataset. The mean is \\nused when the dataset has a normal or symmetrical distribution, and there are no outliers or extreme values. \\nThe median is used when the dataset has outliers or extreme values that can skew the mean. \\nThe mode is used when the dataset has a high frequency of one or more values, such as in categorical data.\\n'"
      ]
     },
     "execution_count": 3,
     "metadata": {},
     "output_type": "execute_result"
    }
   ],
   "source": [
    "# answer 2\n",
    "\"\"\"\n",
    "The main differences between the mean, median, and mode are:\n",
    "\n",
    "Mean:\n",
    "    It is the average of a set of values. It is calculated by adding up all the values in the set\n",
    "and then dividing the sum by the total number of values. The mean can be influenced by extreme values\n",
    "or outliers in the dataset.\n",
    "\n",
    "Median:\n",
    "     It is the middle value in a dataset when the values are arranged in ascending or descending order.\n",
    "If there are an even number of values, the median is the average of the two middle values. \n",
    "The median is not affected by outliers or extreme values in the dataset.\n",
    "\n",
    "Mode:\n",
    "    It is the value that appears most frequently in a dataset. A dataset may have one mode (unimodal),\n",
    "two modes (bimodal), or more than two modes (multimodal). The mode is not affected by outliers or\n",
    "extreme values in the dataset.\n",
    "\n",
    "All three measures of central tendency are used to describe the center of a dataset. The mean is \n",
    "used when the dataset has a normal or symmetrical distribution, and there are no outliers or extreme values. \n",
    "The median is used when the dataset has outliers or extreme values that can skew the mean. \n",
    "The mode is used when the dataset has a high frequency of one or more values, such as in categorical data.\n",
    "\"\"\""
   ]
  },
  {
   "cell_type": "code",
   "execution_count": 4,
   "id": "37cd4c1f-44f3-4065-9db9-f9b370287c88",
   "metadata": {},
   "outputs": [
    {
     "name": "stdout",
     "output_type": "stream",
     "text": [
      "mean:  177\n",
      "meadian:  177\n",
      "mode:  178.0\n"
     ]
    }
   ],
   "source": [
    "# answer 3\n",
    "\"\"\"\n",
    "To find the measures of central tendency for the given height data, we can use the following formulas:\n",
    "\n",
    "Mean = (sum of all values) / (number of values)\n",
    "\n",
    "Median = the middle value when the data is arranged in ascending or descending order\n",
    "\n",
    "Mode = the value that appears most frequently in the data\n",
    "\n",
    "First, let's arrange the data in ascending order:\n",
    "[172.5, 175, 175, 176, 176.2, 176.5, 177, 177, 178, 178, 178, 178.2, 178.9, 179, 180]\n",
    "\n",
    "Now, we can calculate the measures of central tendency:\n",
    "\n",
    "Mean = (sum of all values) / (number of values)\n",
    "Mean = (172.5 + 175 + 175 + 176 + 176.2 + 176.5 + 177 + 177 + 178 + 178 + 178 + 178.2 + 178.9 + 179 + 180) / 15\n",
    "Mean = 177.02\n",
    "\n",
    "Median = the middle value when the data is arranged in ascending or descending order\n",
    "Median = the middle value of the sorted list, which is 177\n",
    "\n",
    "Mode = the value that appears most frequently in the data\n",
    "The mode in this data set: 178\n",
    "\n",
    "Therefore, the measures of central tendency for the given height data are:\n",
    "\n",
    "Mean = 177.02\n",
    "Median = 177\n",
    "Mode = 178\n",
    "\"\"\"\n",
    "import pandas as pd\n",
    "\n",
    "df=pd.DataFrame([172.5, 175, 175, 176, 176.2, 176.5, 177, 177, 178, 178, 178, 178.2, 178.9, 179, 180])\n",
    "mean=df.mean()\n",
    "median=df.median()\n",
    "mode=df.mode()\n",
    "\n",
    "print(\"mean: \",int(mean))\n",
    "print(\"meadian: \",int(median))\n",
    "print(\"mode: \",mode[0][0])"
   ]
  },
  {
   "cell_type": "code",
   "execution_count": 5,
   "id": "bf236ee0-9f48-4af6-b337-3740a192041d",
   "metadata": {},
   "outputs": [
    {
     "name": "stdout",
     "output_type": "stream",
     "text": [
      "mean is:  177.01875\n",
      "standard deviation is: 1.847238930584419\n"
     ]
    }
   ],
   "source": [
    "# answer 4\n",
    "\"\"\"\n",
    "To find the standard deviation for the given data, we can use the following formula:\n",
    "\n",
    "Standard deviation = sqrt((sum of (each value - mean)^2) / (number of values - 1))\n",
    "\n",
    "First, let's calculate the mean of the data:\n",
    "\n",
    "Mean = (sum of all values) / (number of values)\n",
    "Mean = (172.5 + 175 + 175 + 176 + 176.2 + 176.5 + 177 + 177 + 178 + 178 + 178 + 178.2 + 178.9 + 179 + 180) / 15\n",
    "Mean = 177.01\n",
    "\n",
    "Next, we can calculate the sum of (each value - mean)^2:\n",
    "\n",
    "Finally, we can use the formula to calculate the standard deviation:\n",
    "\n",
    "Standard deviation = sqrt((sum of (each value - mean)^2) / (number of values - 1))\n",
    "Standard deviation ≈ 1.85\n",
    "\n",
    "Therefore, the standard deviation for the given data is approximately 1.85.\n",
    "\"\"\"\n",
    "import pandas as pd\n",
    "\n",
    "df=pd.DataFrame([178,177,176,177,178.2,178,175,179,180,175,178.9,176.2,177,172.5,178,176.5])\n",
    "print(\"mean is: \",str(df.mean()[0]))\n",
    "print(\"standard deviation is:\",str(df.std()[0]))"
   ]
  },
  {
   "cell_type": "code",
   "execution_count": 6,
   "id": "08ffd88e-81eb-41a6-bf9c-5cfb107e5dc1",
   "metadata": {},
   "outputs": [
    {
     "data": {
      "text/plain": [
       "'\\nMeasures of dispersion such as range, variance, and standard deviation are used to describe how \\nspread out the data in a dataset is. They give an idea of how much variation or diversity there \\nis in the data. \\nThe higher the dispersion, the more spread out the data is and the more diverse the values are.\\n\\nRange:\\n     The range is the difference between the maximum and minimum values in a dataset.\\nIt gives an idea of how spread out the data is in terms of the difference between the largest\\nand smallest values.\\nExample, if the range of a dataset of salaries is $100,000, it means\\nthat the highest salary is $100,000 more than the lowest salary in the dataset.\\n\\nVariance: \\n        The variance measures the average of the squared differences from the mean. \\nIt gives an idea of how much the values in the dataset differ from the mean. \\n---> A high variance means that the values are widely spread out from the mean, while a low variance means that \\nthe values are tightly clustered around the mean. \\nExample, if the variance of a dataset of test scores is 25, it means that on average,\\nthe scores differ by 25 from the mean.\\n\\nStandard deviation:\\n                  The standard deviation is the square root of the variance. It is a \\ncommonly used measure of dispersion because it has the same units as the data. It gives an\\nidea of how much the values in the dataset deviate from the mean. \\n---> A high standard deviation means that the values are widely spread out from the mean, \\nwhile a low standard deviation means that the values are tightly clustered around the mean. \\nEample, if the standard deviation of a dataset of heights is 3 inches, it means that on average,\\nthe heights differ by 3 inches from the mean.\\n'"
      ]
     },
     "execution_count": 6,
     "metadata": {},
     "output_type": "execute_result"
    }
   ],
   "source": [
    "# answer 5\n",
    "\"\"\"\n",
    "Measures of dispersion such as range, variance, and standard deviation are used to describe how \n",
    "spread out the data in a dataset is. They give an idea of how much variation or diversity there \n",
    "is in the data. \n",
    "The higher the dispersion, the more spread out the data is and the more diverse the values are.\n",
    "\n",
    "Range:\n",
    "     The range is the difference between the maximum and minimum values in a dataset.\n",
    "It gives an idea of how spread out the data is in terms of the difference between the largest\n",
    "and smallest values.\n",
    "Example, if the range of a dataset of salaries is $100,000, it means\n",
    "that the highest salary is $100,000 more than the lowest salary in the dataset.\n",
    "\n",
    "Variance: \n",
    "        The variance measures the average of the squared differences from the mean. \n",
    "It gives an idea of how much the values in the dataset differ from the mean. \n",
    "---> A high variance means that the values are widely spread out from the mean, while a low variance means that \n",
    "the values are tightly clustered around the mean. \n",
    "Example, if the variance of a dataset of test scores is 25, it means that on average,\n",
    "the scores differ by 25 from the mean.\n",
    "\n",
    "Standard deviation:\n",
    "                  The standard deviation is the square root of the variance. It is a \n",
    "commonly used measure of dispersion because it has the same units as the data. It gives an\n",
    "idea of how much the values in the dataset deviate from the mean. \n",
    "---> A high standard deviation means that the values are widely spread out from the mean, \n",
    "while a low standard deviation means that the values are tightly clustered around the mean. \n",
    "Eample, if the standard deviation of a dataset of heights is 3 inches, it means that on average,\n",
    "the heights differ by 3 inches from the mean.\n",
    "\"\"\""
   ]
  },
  {
   "cell_type": "code",
   "execution_count": 7,
   "id": "2f84ebb9-99a9-482a-a5fe-51e352933160",
   "metadata": {},
   "outputs": [
    {
     "data": {
      "text/plain": [
       "'\\nA Venn diagram is a graphical representation used to show the relationships between sets. \\nIt is composed of overlapping circles or other shapes, with each circle representing a set \\nand the overlap area representing the intersection of those sets. The Venn diagram is named\\nafter John Venn, who introduced the concept in the 1880s.\\n\\nVenn diagrams are used in many different fields, including mathematics, logic, statistics, \\nand computer science. They are particularly useful for illustrating concepts related to set theory,\\nincluding the relationships between sets and the concepts of union, intersection, complement, and subset.\\n\\nVenn diagrams can be used to solve problems related to set theory, such as finding the number of elements\\nin a set, determining the overlap between sets, and identifying the differences between sets. \\nThey can also be used to visualize complex data sets and to illustrate relationships between different\\ncategories or groups of data.\\n'"
      ]
     },
     "execution_count": 7,
     "metadata": {},
     "output_type": "execute_result"
    }
   ],
   "source": [
    "# answer 6\n",
    "\"\"\"\n",
    "A Venn diagram is a graphical representation used to show the relationships between sets. \n",
    "It is composed of overlapping circles or other shapes, with each circle representing a set \n",
    "and the overlap area representing the intersection of those sets. The Venn diagram is named\n",
    "after John Venn, who introduced the concept in the 1880s.\n",
    "\n",
    "Venn diagrams are used in many different fields, including mathematics, logic, statistics, \n",
    "and computer science. They are particularly useful for illustrating concepts related to set theory,\n",
    "including the relationships between sets and the concepts of union, intersection, complement, and subset.\n",
    "\n",
    "Venn diagrams can be used to solve problems related to set theory, such as finding the number of elements\n",
    "in a set, determining the overlap between sets, and identifying the differences between sets. \n",
    "They can also be used to visualize complex data sets and to illustrate relationships between different\n",
    "categories or groups of data.\n",
    "\"\"\""
   ]
  },
  {
   "cell_type": "code",
   "execution_count": 8,
   "id": "5c8157f5-d02c-4b2e-b79d-c083de92ffc5",
   "metadata": {},
   "outputs": [
    {
     "data": {
      "text/plain": [
       "'\\n(i) A ⋂ B represents the intersection of sets A and B, which includes all the elements that \\nare common to both sets. In this case, the common elements are 2 and 6. Therefore,\\n\\nA ⋂ B = {2, 6}\\n\\n(ii) A ⋃ B represents the union of sets A and B, which includes all the elements from both sets,\\nwithout repetition. In this case, the union of A and B is:\\n\\nA ⋃ B = {0, 2, 3, 4, 5, 6, 7, 8, 10}\\n\\nNote that the element 2 appears only once in the union, even though it is present in both sets A and B.\\n'"
      ]
     },
     "execution_count": 8,
     "metadata": {},
     "output_type": "execute_result"
    }
   ],
   "source": [
    "# answer 7\n",
    "\"\"\"\n",
    "(i) A ⋂ B represents the intersection of sets A and B, which includes all the elements that \n",
    "are common to both sets. In this case, the common elements are 2 and 6. Therefore,\n",
    "\n",
    "A ⋂ B = {2, 6}\n",
    "\n",
    "(ii) A ⋃ B represents the union of sets A and B, which includes all the elements from both sets,\n",
    "without repetition. In this case, the union of A and B is:\n",
    "\n",
    "A ⋃ B = {0, 2, 3, 4, 5, 6, 7, 8, 10}\n",
    "\n",
    "Note that the element 2 appears only once in the union, even though it is present in both sets A and B.\n",
    "\"\"\""
   ]
  },
  {
   "cell_type": "code",
   "execution_count": 9,
   "id": "b69fdc98-e3b6-4060-9314-22f9fdddee89",
   "metadata": {},
   "outputs": [
    {
     "data": {
      "text/plain": [
       "'\\nSkewness is a measure of the asymmetry of a probability distribution or a dataset. In statistics, \\na dataset is said to be skewed if it does not have a symmetric distribution. Skewness indicates\\nwhether a dataset is more skewed to the left or to the right.\\n\\nA dataset is said to be skewed to the left, or negatively skewed, if the tail of the distribution\\nextends more to the left than to the right. In other words, the majority of the values in the \\ndataset are on the right side of the distribution, and there are a few extreme values on the left.\\nThe mean in a negatively skewed distribution will be less than the median.\\n\\nA dataset is said to be skewed to the right, or positively skewed, if the tail of the distribution\\nextends more to the right than to the left. In other words, the majority of the values in the dataset\\nare on the left side of the distribution, and there are a few extreme values on the right. \\nThe mean in a positively skewed distribution will be greater than the median.\\n\\nSkewness is an important aspect of data analysis because it can affect the interpretation of\\nstatistical measures such as the mean, median, and mode. Skewed data can also affect the accuracy \\nof some statistical tests, so it is important to be aware of skewness when analyzing data.\\n'"
      ]
     },
     "execution_count": 9,
     "metadata": {},
     "output_type": "execute_result"
    }
   ],
   "source": [
    "# answer 8\n",
    "\"\"\"\n",
    "Skewness is a measure of the asymmetry of a probability distribution or a dataset. In statistics, \n",
    "a dataset is said to be skewed if it does not have a symmetric distribution. Skewness indicates\n",
    "whether a dataset is more skewed to the left or to the right.\n",
    "\n",
    "A dataset is said to be skewed to the left, or negatively skewed, if the tail of the distribution\n",
    "extends more to the left than to the right. In other words, the majority of the values in the \n",
    "dataset are on the right side of the distribution, and there are a few extreme values on the left.\n",
    "The mean in a negatively skewed distribution will be less than the median.\n",
    "\n",
    "A dataset is said to be skewed to the right, or positively skewed, if the tail of the distribution\n",
    "extends more to the right than to the left. In other words, the majority of the values in the dataset\n",
    "are on the left side of the distribution, and there are a few extreme values on the right. \n",
    "The mean in a positively skewed distribution will be greater than the median.\n",
    "\n",
    "Skewness is an important aspect of data analysis because it can affect the interpretation of\n",
    "statistical measures such as the mean, median, and mode. Skewed data can also affect the accuracy \n",
    "of some statistical tests, so it is important to be aware of skewness when analyzing data.\n",
    "\"\"\""
   ]
  },
  {
   "cell_type": "code",
   "execution_count": 10,
   "id": "6604caa3-0f65-4e3b-b088-dd7d65013021",
   "metadata": {},
   "outputs": [
    {
     "data": {
      "text/plain": [
       "'\\nIf a dataset is right-skewed, the mean will be greater than the median. This is because in a\\nright-skewed distribution, the tail of the distribution extends more to the right side, and \\nthere are a few extreme values on the right side of the distribution. These extreme values\\nhave a greater impact on the mean than on the median.\\n'"
      ]
     },
     "execution_count": 10,
     "metadata": {},
     "output_type": "execute_result"
    }
   ],
   "source": [
    "# answer 9\n",
    "\"\"\"\n",
    "If a dataset is right-skewed, the mean will be greater than the median. This is because in a\n",
    "right-skewed distribution, the tail of the distribution extends more to the right side, and \n",
    "there are a few extreme values on the right side of the distribution. These extreme values\n",
    "have a greater impact on the mean than on the median.\n",
    "\"\"\""
   ]
  },
  {
   "cell_type": "code",
   "execution_count": 11,
   "id": "05c74337-4958-48ea-b416-99d84d4575f0",
   "metadata": {},
   "outputs": [
    {
     "data": {
      "text/plain": [
       "'\\nCovariance and correlation are two measures used to describe the relationship between two variables\\nin statistical analysis. While they are related concepts, there are some important differences between them.\\n\\nCovariance measures the degree to which two variables vary together. It is a measure of the joint\\nvariability of two random variables. A positive covariance indicates that the two variables tend \\nto move in the same direction, while a negative covariance indicates that they tend to move in \\nopposite directions.\\n\\nCorrelation, measures the strength and direction of the relationship between two variables.\\nCorrelation is a standardized version of covariance, and it ranges from -1 to 1. A correlation of 1 indicates\\na perfect positive relationship, while a correlation of -1 indicates a perfect negative relationship.\\nA correlation of 0 indicates that there is no linear relationship between the variables. Correlation \\nis a more useful measure than covariance, because it can be used to compare the strength of the relationship\\nbetween two variables on different scales.\\n\\nBoth covariance and correlation are used in statistical analysis to understand the relationship between\\ntwo variables. They are used in regression analysis to estimate the relationship between a dependent \\nvariable and one or more independent variables. They can also be used to identify the direction and strength\\nof relationships between variables in exploratory data analysis. \\nCorrelation is generally preferred over covariance because it is easier to interpret and can be used\\nto compare relationships between variables measured on different scales.\\n'"
      ]
     },
     "execution_count": 11,
     "metadata": {},
     "output_type": "execute_result"
    }
   ],
   "source": [
    "# answer 10\n",
    "\"\"\"\n",
    "Covariance and correlation are two measures used to describe the relationship between two variables\n",
    "in statistical analysis. While they are related concepts, there are some important differences between them.\n",
    "\n",
    "Covariance measures the degree to which two variables vary together. It is a measure of the joint\n",
    "variability of two random variables. A positive covariance indicates that the two variables tend \n",
    "to move in the same direction, while a negative covariance indicates that they tend to move in \n",
    "opposite directions.\n",
    "\n",
    "Correlation, measures the strength and direction of the relationship between two variables.\n",
    "Correlation is a standardized version of covariance, and it ranges from -1 to 1. A correlation of 1 indicates\n",
    "a perfect positive relationship, while a correlation of -1 indicates a perfect negative relationship.\n",
    "A correlation of 0 indicates that there is no linear relationship between the variables. Correlation \n",
    "is a more useful measure than covariance, because it can be used to compare the strength of the relationship\n",
    "between two variables on different scales.\n",
    "\n",
    "Both covariance and correlation are used in statistical analysis to understand the relationship between\n",
    "two variables. They are used in regression analysis to estimate the relationship between a dependent \n",
    "variable and one or more independent variables. They can also be used to identify the direction and strength\n",
    "of relationships between variables in exploratory data analysis. \n",
    "Correlation is generally preferred over covariance because it is easier to interpret and can be used\n",
    "to compare relationships between variables measured on different scales.\n",
    "\"\"\""
   ]
  },
  {
   "cell_type": "code",
   "execution_count": 12,
   "id": "f330e8f9-9990-431e-9f39-4f384e083c4f",
   "metadata": {},
   "outputs": [
    {
     "data": {
      "text/plain": [
       "'\\nThe formula for calculating the sample mean is:\\n\\nsample mean = sum of all values in the dataset / number of values in the dataset\\n\\nTo calculate the sample mean of a dataset, we add up all the values in the dataset and then divide by the total number of values. Here is an example calculation for a dataset:\\n\\nDataset: [12, 15, 18, 20, 22, 25]\\n\\nStep 1: Add up all the values in the dataset\\n12 + 15 + 18 + 20 + 22 + 25 = 112\\n\\nStep 2: Divide the sum by the number of values in the dataset\\nsample mean = 112 / 6 = 18.67\\n\\nTherefore, the sample mean of the given dataset is 18.67.\\n'"
      ]
     },
     "execution_count": 12,
     "metadata": {},
     "output_type": "execute_result"
    }
   ],
   "source": [
    "# answer 11\n",
    "\"\"\"\n",
    "The formula for calculating the sample mean is:\n",
    "\n",
    "sample mean = sum of all values in the dataset / number of values in the dataset\n",
    "\n",
    "To calculate the sample mean of a dataset, we add up all the values in the dataset and then divide by the total number of values. Here is an example calculation for a dataset:\n",
    "\n",
    "Dataset: [12, 15, 18, 20, 22, 25]\n",
    "\n",
    "Step 1: Add up all the values in the dataset\n",
    "12 + 15 + 18 + 20 + 22 + 25 = 112\n",
    "\n",
    "Step 2: Divide the sum by the number of values in the dataset\n",
    "sample mean = 112 / 6 = 18.67\n",
    "\n",
    "Therefore, the sample mean of the given dataset is 18.67.\n",
    "\"\"\""
   ]
  },
  {
   "cell_type": "code",
   "execution_count": 13,
   "id": "6fc92b4e-2908-4ec8-9859-3fb151e618fd",
   "metadata": {},
   "outputs": [
    {
     "data": {
      "text/plain": [
       "'\\nFor a normal distribution, the mean, median, and mode are all equal. This is because a normal\\ndistribution is symmetric around its mean. The mean is the sum of all the values in the dataset\\ndivided by the total number of values. The median is the middle value of the dataset when the \\nvalues are arranged in ascending or descending order. The mode is the value that appears most \\nfrequently in the dataset. In a normal distribution, the mean, median, and mode will all be located\\nat the center of the distribution, and hence they will all be equal.\\n'"
      ]
     },
     "execution_count": 13,
     "metadata": {},
     "output_type": "execute_result"
    }
   ],
   "source": [
    "# answer 12\n",
    "\"\"\"\n",
    "For a normal distribution, the mean, median, and mode are all equal. This is because a normal\n",
    "distribution is symmetric around its mean. The mean is the sum of all the values in the dataset\n",
    "divided by the total number of values. The median is the middle value of the dataset when the \n",
    "values are arranged in ascending or descending order. The mode is the value that appears most \n",
    "frequently in the dataset. In a normal distribution, the mean, median, and mode will all be located\n",
    "at the center of the distribution, and hence they will all be equal.\n",
    "\"\"\""
   ]
  },
  {
   "cell_type": "code",
   "execution_count": 14,
   "id": "ab9a88fa-0d30-4ea4-ae20-f92b692329c5",
   "metadata": {},
   "outputs": [
    {
     "data": {
      "text/plain": [
       "'\\nCovariance and correlation are two measures of the relationship between two variables. \\nWhile they are related concepts, there are some important differences between them:\\n\\nDefinition: \\n        Covariance measures the degree to which two variables vary together. It is a \\nmeasure of the joint variability of two random variables. While Correlation\\nmeasures the strength and direction of the relationship between two variables. It is a\\nstandardized version of covariance that ranges from -1 to 1.\\n\\nUnits of measurement: \\n                   Covariance is expressed in the units of the variables being measured.\\nCorrelation is unitless because it is a standardized measure.\\n\\nRange of values:\\n               Covariance can take any value, positive or negative, depending on the direction\\nof the relationship between the variables. Correlation, however, ranges from -1 to 1, where -1 \\nindicates a perfect negative relationship, 0 indicates no relationship, and 1 indicates a perfect\\npositive relationship.\\n\\nInterpretation: \\n             Covariance measures the direction of the relationship between two variables, but \\nit does not provide any information on the strength of the relationship. Correlation, on the other hand,\\nprovides information on both the direction and strength of the relationship between two variables.\\n'"
      ]
     },
     "execution_count": 14,
     "metadata": {},
     "output_type": "execute_result"
    }
   ],
   "source": [
    "# answer 13\n",
    "\"\"\"\n",
    "Covariance and correlation are two measures of the relationship between two variables. \n",
    "While they are related concepts, there are some important differences between them:\n",
    "\n",
    "Definition: \n",
    "        Covariance measures the degree to which two variables vary together. It is a \n",
    "measure of the joint variability of two random variables. While Correlation\n",
    "measures the strength and direction of the relationship between two variables. It is a\n",
    "standardized version of covariance that ranges from -1 to 1.\n",
    "\n",
    "Units of measurement: \n",
    "                   Covariance is expressed in the units of the variables being measured.\n",
    "Correlation is unitless because it is a standardized measure.\n",
    "\n",
    "Range of values:\n",
    "               Covariance can take any value, positive or negative, depending on the direction\n",
    "of the relationship between the variables. Correlation, however, ranges from -1 to 1, where -1 \n",
    "indicates a perfect negative relationship, 0 indicates no relationship, and 1 indicates a perfect\n",
    "positive relationship.\n",
    "\n",
    "Interpretation: \n",
    "             Covariance measures the direction of the relationship between two variables, but \n",
    "it does not provide any information on the strength of the relationship. Correlation, on the other hand,\n",
    "provides information on both the direction and strength of the relationship between two variables.\n",
    "\"\"\""
   ]
  },
  {
   "cell_type": "code",
   "execution_count": 15,
   "id": "20365975-07ad-4916-94ac-66062f9273f2",
   "metadata": {},
   "outputs": [
    {
     "data": {
      "text/plain": [
       "'\\nOutliers are data points that are significantly different from the other data points in a dataset. \\nOutliers can affect measures of central tendency and dispersion as follows:\\n\\nMean: \\n    Outliers can have a significant effect on the mean because it is sensitive to extreme values.\\nA single outlier can pull the mean in the direction of the outlier, making it an inaccurate representation\\nof the central tendency of the dataset.\\n\\nMedian:\\n     Outliers have little or no effect on the median because it is not affected by extreme values.\\nThe median is the middle value of the dataset when the values are arranged in ascending or descending order. \\nAn outlier that is significantly larger or smaller than the other values in the dataset will have no effect \\non the position of the median.\\n\\nMode:\\n    Outliers have little or no effect on the mode because it is determined by the value that appears most\\nfrequently in the dataset. An outlier that occurs only once or twice in the dataset will have no effect\\non the mode.\\n\\nDispersion:\\n         Outliers can have a significant effect on measures of dispersion such as range, variance, \\nand standard deviation. Outliers can increase the range, variance, and standard deviation, making them \\ninaccurate measures of the spread of the dataset.\\n\\nFor example, consider the following dataset: [10, 20, 30, 40, 50, 200]. The mean of this dataset is \\n(10+20+30+40+50+200)/6 = 50, which is significantly larger than the other values in the dataset due\\nto the outlier 200. The median of this dataset is 35, which is not affected by the outlier.\\nThe mode of this dataset is not well defined because no value occurs more than once. The range of\\nthis dataset is 200-10=190, which is significantly larger than the range of the dataset without the outlier\\n(50-10=40). The variance and standard deviation of this dataset will also be higher due to the presence of\\nthe outlier.\\n'"
      ]
     },
     "execution_count": 15,
     "metadata": {},
     "output_type": "execute_result"
    }
   ],
   "source": [
    "# answer 14\n",
    "\"\"\"\n",
    "Outliers are data points that are significantly different from the other data points in a dataset. \n",
    "Outliers can affect measures of central tendency and dispersion as follows:\n",
    "\n",
    "Mean: \n",
    "    Outliers can have a significant effect on the mean because it is sensitive to extreme values.\n",
    "A single outlier can pull the mean in the direction of the outlier, making it an inaccurate representation\n",
    "of the central tendency of the dataset.\n",
    "\n",
    "Median:\n",
    "     Outliers have little or no effect on the median because it is not affected by extreme values.\n",
    "The median is the middle value of the dataset when the values are arranged in ascending or descending order. \n",
    "An outlier that is significantly larger or smaller than the other values in the dataset will have no effect \n",
    "on the position of the median.\n",
    "\n",
    "Mode:\n",
    "    Outliers have little or no effect on the mode because it is determined by the value that appears most\n",
    "frequently in the dataset. An outlier that occurs only once or twice in the dataset will have no effect\n",
    "on the mode.\n",
    "\n",
    "Dispersion:\n",
    "         Outliers can have a significant effect on measures of dispersion such as range, variance, \n",
    "and standard deviation. Outliers can increase the range, variance, and standard deviation, making them \n",
    "inaccurate measures of the spread of the dataset.\n",
    "\n",
    "For example, consider the following dataset: [10, 20, 30, 40, 50, 200]. The mean of this dataset is \n",
    "(10+20+30+40+50+200)/6 = 50, which is significantly larger than the other values in the dataset due\n",
    "to the outlier 200. The median of this dataset is 35, which is not affected by the outlier.\n",
    "The mode of this dataset is not well defined because no value occurs more than once. The range of\n",
    "this dataset is 200-10=190, which is significantly larger than the range of the dataset without the outlier\n",
    "(50-10=40). The variance and standard deviation of this dataset will also be higher due to the presence of\n",
    "the outlier.\n",
    "\"\"\""
   ]
  }
 ],
 "metadata": {
  "kernelspec": {
   "display_name": "Python 3 (ipykernel)",
   "language": "python",
   "name": "python3"
  },
  "language_info": {
   "codemirror_mode": {
    "name": "ipython",
    "version": 3
   },
   "file_extension": ".py",
   "mimetype": "text/x-python",
   "name": "python",
   "nbconvert_exporter": "python",
   "pygments_lexer": "ipython3",
   "version": "3.10.8"
  }
 },
 "nbformat": 4,
 "nbformat_minor": 5
}
