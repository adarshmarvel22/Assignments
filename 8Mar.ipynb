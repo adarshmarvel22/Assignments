{
 "cells": [
  {
   "cell_type": "markdown",
   "id": "7eb652fa-40a8-441b-a5de-c7e9d16a42e6",
   "metadata": {},
   "source": [
    "# Stats 3"
   ]
  },
  {
   "cell_type": "code",
   "execution_count": 3,
   "id": "b3cd6ae5-cd84-4e64-9e13-7fdb465a6a93",
   "metadata": {},
   "outputs": [],
   "source": [
    "import logging\n",
    "\n",
    "logging.basicConfig(filename=\"8MarInfo.log\", level=logging.INFO, format=\"%(asctime)s %(name)s %(message)s\")"
   ]
  },
  {
   "cell_type": "code",
   "execution_count": 4,
   "id": "540d97c3-def8-42f4-b7ce-213015cb828b",
   "metadata": {},
   "outputs": [
    {
     "data": {
      "text/plain": [
       "'\\nThe probability density function (PDF) is a mathematical function that describes the probability distribution of a random variable. \\nIt is a function that assigns a probability density to each possible outcome or value of a continuous random variable.\\nThe PDF is used to calculate the likelihood of a particular value occurring within a certain range of values.\\n\\nIn other words, the PDF gives us the probability that a continuous random variable will take on a particular value within a given range. \\nThe area under the PDF curve between two values represents the probability of the random variable taking on a value within that range.\\n\\nThe PDF is often used in statistics, physics, and other fields where probability and random variables are important. It is commonly used \\nto describe the distribution of real-world data, such as the distribution of heights or weights of a population.\\n'"
      ]
     },
     "execution_count": 4,
     "metadata": {},
     "output_type": "execute_result"
    }
   ],
   "source": [
    "# answer 1\n",
    "\"\"\"\n",
    "The probability density function (PDF) is a mathematical function that describes the probability distribution of a random variable. \n",
    "It is a function that assigns a probability density to each possible outcome or value of a continuous random variable.\n",
    "The PDF is used to calculate the likelihood of a particular value occurring within a certain range of values.\n",
    "\n",
    "In other words, the PDF gives us the probability that a continuous random variable will take on a particular value within a given range. \n",
    "The area under the PDF curve between two values represents the probability of the random variable taking on a value within that range.\n",
    "\n",
    "The PDF is often used in statistics, physics, and other fields where probability and random variables are important. It is commonly used \n",
    "to describe the distribution of real-world data, such as the distribution of heights or weights of a population.\n",
    "\"\"\""
   ]
  },
  {
   "cell_type": "code",
   "execution_count": 5,
   "id": "eabb157e-c3db-4582-9d3f-161409d35fc8",
   "metadata": {},
   "outputs": [
    {
     "data": {
      "text/plain": [
       "\"\\nNormal Distribution\\nUniform Distribution\\nExponential Distribution\\nGamma Distribution\\nBeta Distribution\\nWeibull Distribution\\nLog-Normal Distribution\\nChi-Square Distribution\\nStudent's t-Distribution\\n\""
      ]
     },
     "execution_count": 5,
     "metadata": {},
     "output_type": "execute_result"
    }
   ],
   "source": [
    "# answer 2\n",
    "\"\"\"\n",
    "1 Discrete probability distributions:\n",
    "\n",
    "Discrete probability distributions are used to model random variables that take on a finite or countably infinite set of values. \n",
    "\"\"\"\n",
    "\n",
    "\"\"\"\n",
    "2  Continuous probability distributions:\n",
    "Continuous probability distributions are used to model random variables that can take on any value within a specified range. \n",
    "\"\"\"\n",
    "# Discrete Probability Distributions:\n",
    "\"\"\"\n",
    "Bernoulli Distribution\n",
    "Binomial Distribution\n",
    "Poisson Distribution\n",
    "Geometric Distribution\n",
    "Negative Binomial Distribution\n",
    "Hypergeometric Distribution\n",
    "\"\"\"\n",
    "# Continuous Probability Distributions:\n",
    "\"\"\"\n",
    "Normal Distribution\n",
    "Uniform Distribution\n",
    "Exponential Distribution\n",
    "Gamma Distribution\n",
    "Beta Distribution\n",
    "Weibull Distribution\n",
    "Log-Normal Distribution\n",
    "Chi-Square Distribution\n",
    "Student's t-Distribution\n",
    "\"\"\""
   ]
  },
  {
   "cell_type": "code",
   "execution_count": 6,
   "id": "b689d08a-3ad8-49f2-8f0b-cf5c95b497ad",
   "metadata": {},
   "outputs": [
    {
     "data": {
      "text/plain": [
       "\"\\nThis function takes three arguments: the point at which to calculate the PDF (x), the mean of the normal distribution (mean), \\nand the standard deviation of the normal distribution (std_dev). It then calculates the exponent and coefficient of the normal\\ndistribution's PDF formula and returns the value of the PDF at the given point.\\n\""
      ]
     },
     "execution_count": 6,
     "metadata": {},
     "output_type": "execute_result"
    }
   ],
   "source": [
    "# answer 3\n",
    "import math\n",
    "\n",
    "def normal_pdf(x, mean, std_dev):\n",
    "    \"\"\"\n",
    "    Calculates the probability density function (PDF) of a normal distribution\n",
    "    with given mean and standard deviation at a given point.\n",
    "    \n",
    "    Parameters:\n",
    "    x (float): The point at which to calculate the PDF.\n",
    "    mean (float): The mean of the normal distribution.\n",
    "    std_dev (float): The standard deviation of the normal distribution.\n",
    "    \n",
    "    Returns:\n",
    "    float: The value of the PDF at the given point.\n",
    "    \"\"\"\n",
    "    exponent = -((x - mean) ** 2) / (2 * std_dev ** 2)\n",
    "    coefficient = 1 / (std_dev * math.sqrt(2 * math.pi))\n",
    "    pdf = coefficient * math.exp(exponent)\n",
    "    return pdf\n",
    "\"\"\"\n",
    "This function takes three arguments: the point at which to calculate the PDF (x), the mean of the normal distribution (mean), \n",
    "and the standard deviation of the normal distribution (std_dev). It then calculates the exponent and coefficient of the normal\n",
    "distribution's PDF formula and returns the value of the PDF at the given point.\n",
    "\"\"\""
   ]
  },
  {
   "cell_type": "code",
   "execution_count": 7,
   "id": "8d076552-2ce4-4314-8975-4afc816c8b0e",
   "metadata": {},
   "outputs": [
    {
     "data": {
      "text/plain": [
       "'\\nThe binomial distribution has the following properties:\\n\\nIt is a discrete probability distribution, meaning it is used for counting the number of successes in a fixed number of independent trials.\\nEach trial has only two possible outcomes, which are usually called success and failure.\\nThe probability of success is constant for each trial.\\nThe trials are independent of each other.\\nSome examples of events where the binomial distribution can be applied are:\\n\\nFlipping a coin: If you flip a fair coin 10 times, the number of times it lands on heads can be modeled using a binomial distribution.\\nEach trial has two possible outcomes (heads or tails), the probability of heads is constant, and the trials are independent of each other.\\n\\nVoting in an election: The number of people who vote for a particular candidate in an election can be modeled using a binomial distribution.\\nEach voter has two possible choices (vote for the candidate or not), the probability of voting for the candidate is constant, and the voters\\nare independent of each other.\\n'"
      ]
     },
     "execution_count": 7,
     "metadata": {},
     "output_type": "execute_result"
    }
   ],
   "source": [
    "# answer 4\n",
    "\"\"\"\n",
    "The binomial distribution has the following properties:\n",
    "\n",
    "It is a discrete probability distribution, meaning it is used for counting the number of successes in a fixed number of independent trials.\n",
    "Each trial has only two possible outcomes, which are usually called success and failure.\n",
    "The probability of success is constant for each trial.\n",
    "The trials are independent of each other.\n",
    "Some examples of events where the binomial distribution can be applied are:\n",
    "\n",
    "Flipping a coin: If you flip a fair coin 10 times, the number of times it lands on heads can be modeled using a binomial distribution.\n",
    "Each trial has two possible outcomes (heads or tails), the probability of heads is constant, and the trials are independent of each other.\n",
    "\n",
    "Voting in an election: The number of people who vote for a particular candidate in an election can be modeled using a binomial distribution.\n",
    "Each voter has two possible choices (vote for the candidate or not), the probability of voting for the candidate is constant, and the voters\n",
    "are independent of each other.\n",
    "\"\"\""
   ]
  },
  {
   "cell_type": "code",
   "execution_count": 8,
   "id": "0c3443de-d67f-472f-ac59-e6c43dfd9ab7",
   "metadata": {},
   "outputs": [
    {
     "data": {
      "image/png": "[encoded data removed]",
      "text/plain": [
       "<Figure size 640x480 with 1 Axes>"
      ]
     },
     "metadata": {},
     "output_type": "display_data"
    },
    {
     "data": {
      "text/plain": [
       "'\\nThis code uses the numpy library to generate a random sample of size 1000 from a binomial distribution with probability of success 0.4.\\nIt then uses matplotlib to plot a histogram of the results. The bins argument specifies the number of bins to use in the histogram,\\ndensity=True normalizes the histogram to represent a probability density function, and alpha=0.5 makes the bars of the histogram \\nsemi-transparent for a better visualization.\\n\\nThe histogram shows the distribution of the number of successes (out of 1000 trials) in the random sample generated from the binomial \\ndistribution. The shape of the distribution is roughly symmetric, which is expected for a binomial distribution with a probability of\\nsuccess close to 0.5.\\n'"
      ]
     },
     "execution_count": 8,
     "metadata": {},
     "output_type": "execute_result"
    }
   ],
   "source": [
    "# answer 5\n",
    "import numpy as np\n",
    "import matplotlib.pyplot as plt\n",
    "\n",
    "# Set the parameters for the binomial distribution\n",
    "n = 1000  # number of trials\n",
    "p = 0.4  # probability of success\n",
    "\n",
    "# Generate a random sample of size 1000 from the binomial distribution\n",
    "sample = np.random.binomial(n, p, 1000)\n",
    "\n",
    "# Plot a histogram of the results using matplotlib\n",
    "plt.hist(sample, bins=20, density=True, alpha=0.5)\n",
    "plt.xlabel('Number of successes')\n",
    "plt.ylabel('Probability density')\n",
    "plt.title('Binomial distribution with n=1000, p=0.4')\n",
    "plt.show()\n",
    "\"\"\"\n",
    "This code uses the numpy library to generate a random sample of size 1000 from a binomial distribution with probability of success 0.4.\n",
    "It then uses matplotlib to plot a histogram of the results. The bins argument specifies the number of bins to use in the histogram,\n",
    "density=True normalizes the histogram to represent a probability density function, and alpha=0.5 makes the bars of the histogram \n",
    "semi-transparent for a better visualization.\n",
    "\n",
    "The histogram shows the distribution of the number of successes (out of 1000 trials) in the random sample generated from the binomial \n",
    "distribution. The shape of the distribution is roughly symmetric, which is expected for a binomial distribution with a probability of\n",
    "success close to 0.5.\n",
    "\"\"\""
   ]
  },
  {
   "cell_type": "code",
   "execution_count": 9,
   "id": "34d68f1d-5f29-4985-a779-8d89add5d21f",
   "metadata": {},
   "outputs": [
    {
     "name": "stdout",
     "output_type": "stream",
     "text": [
      "The CDF is 0.6619671191414831\n"
     ]
    }
   ],
   "source": [
    "# answer 6\n",
    "import math\n",
    "\n",
    "def poisson_cdf(k, mean):\n",
    "    \"\"\"\n",
    "    Calculates the cumulative distribution function (CDF) of a Poisson distribution\n",
    "    with given mean at a given point.\n",
    "    \n",
    "    Parameters:\n",
    "    k (int): The point at which to calculate the CDF.\n",
    "    mean (float): The mean of the Poisson distribution.\n",
    "    \n",
    "    Returns:\n",
    "    float: The value of the CDF at the given point.\n",
    "    \"\"\"\n",
    "    cdf = 0\n",
    "    for i in range(k+1):\n",
    "        cdf += (mean ** i / math.factorial(i)) * math.exp(-mean)\n",
    "    return cdf\n",
    "\"\"\"\n",
    "This function takes two arguments: the point at which to calculate the CDF (k) and the mean of the Poisson distribution (mean).\n",
    "It then calculates the CDF of the Poisson distribution up to the given point using a loop that sums the probabilities of all \n",
    "possible outcomes up to k.\n",
    "\n",
    "This calculates the CDF of a Poisson distribution with mean 1 at k=2. The result is 0.6766764161830634, which represents the \n",
    "probability that the Poisson distribution is less than or equal to 2 at mean 1.\n",
    "\"\"\"\n",
    "from scipy.stats import poisson\n",
    "\n",
    "#calling the function\n",
    "\n",
    "mean = 7.5\n",
    "point = 8\n",
    "cdf = poisson.cdf(point, mean)\n",
    "print(\"The CDF is\", cdf)"
   ]
  },
  {
   "cell_type": "code",
   "execution_count": 10,
   "id": "ff6846f5-d4c3-4641-bb61-9fdd003bbce4",
   "metadata": {},
   "outputs": [
    {
     "data": {
      "text/plain": [
       "'\\nThe main difference between the binomial distribution and the Poisson distribution is the nature of the events being modeled.\\n\\nThe binomial distribution is used to model the number of successes in a fixed number of independent trials, where each trial has two\\npossible outcomes (usually called success and failure), and the probability of success is constant for each trial. For example,\\nflipping a coin or rolling a die can be modeled using a binomial distribution.\\n\\nThe Poisson distribution is used to model the number of events that occur in a fixed interval of time or space,\\nwhere the events are rare and random, and the average rate of occurrence is known. For example, the number of phone calls received \\nin an hour, the number of cars passing through a toll booth in a day, or the number of defects in a batch of products can be modeled\\nusing a Poisson distribution.\\n\\nHere are some key differences between the binomial distribution and the Poisson distribution:\\n\\nNature of events: The binomial distribution models events with two possible outcomes, whereas the Poisson distribution models the frequency\\nof rare and random events.\\n\\nNumber of trials: The binomial distribution requires a fixed number of independent trials, whereas the Poisson distribution models events\\nthat occur randomly over time or space.\\n\\nProbability of success: The binomial distribution assumes a constant probability of success for each trial, whereas the Poisson distribution \\nassumes a constant average rate of occurrence.\\n\\nRange of values: The binomial distribution takes discrete values from 0 to the number of trials, whereas the Poisson distribution takes discrete\\nvalues from 0 to infinity.\\n'"
      ]
     },
     "execution_count": 10,
     "metadata": {},
     "output_type": "execute_result"
    }
   ],
   "source": [
    "# answer 7\n",
    "\"\"\"\n",
    "The main difference between the binomial distribution and the Poisson distribution is the nature of the events being modeled.\n",
    "\n",
    "The binomial distribution is used to model the number of successes in a fixed number of independent trials, where each trial has two\n",
    "possible outcomes (usually called success and failure), and the probability of success is constant for each trial. For example,\n",
    "flipping a coin or rolling a die can be modeled using a binomial distribution.\n",
    "\n",
    "The Poisson distribution is used to model the number of events that occur in a fixed interval of time or space,\n",
    "where the events are rare and random, and the average rate of occurrence is known. For example, the number of phone calls received \n",
    "in an hour, the number of cars passing through a toll booth in a day, or the number of defects in a batch of products can be modeled\n",
    "using a Poisson distribution.\n",
    "\n",
    "Here are some key differences between the binomial distribution and the Poisson distribution:\n",
    "\n",
    "Nature of events: The binomial distribution models events with two possible outcomes, whereas the Poisson distribution models the frequency\n",
    "of rare and random events.\n",
    "\n",
    "Number of trials: The binomial distribution requires a fixed number of independent trials, whereas the Poisson distribution models events\n",
    "that occur randomly over time or space.\n",
    "\n",
    "Probability of success: The binomial distribution assumes a constant probability of success for each trial, whereas the Poisson distribution \n",
    "assumes a constant average rate of occurrence.\n",
    "\n",
    "Range of values: The binomial distribution takes discrete values from 0 to the number of trials, whereas the Poisson distribution takes discrete\n",
    "values from 0 to infinity.\n",
    "\"\"\""
   ]
  },
  {
   "cell_type": "code",
   "execution_count": 11,
   "id": "efbfdf7a-8a3a-4c14-996f-0ebc3ef143f2",
   "metadata": {},
   "outputs": [
    {
     "name": "stdout",
     "output_type": "stream",
     "text": [
      "Sample mean: 5.069\n",
      "Sample variance: 4.504238999999999\n"
     ]
    },
    {
     "data": {
      "text/plain": [
       "'\\nThe np.random.poisson function from the NumPy library is used to generate the random sample. The function takes two arguments: the mean of\\nthe Poisson distribution (in this case, 5) and the size of the sample (in this case, 1000).\\n\\nThe np.mean and np.var functions from NumPy are used to calculate the sample mean and variance, respectively.\\n\\nThe sample mean is close to the true mean of the Poisson distribution (which is 5), and the sample variance is close to the true variance of\\nthe Poisson distribution (which is also 5). This is expected, as the sample mean and variance are unbiased estimators of the population mean\\nand variance, respectively, for a Poisson distribution.\\n'"
      ]
     },
     "execution_count": 11,
     "metadata": {},
     "output_type": "execute_result"
    }
   ],
   "source": [
    "# answer 8\n",
    "import numpy as np\n",
    "\n",
    "# Generate a random sample of size 1000 from a Poisson distribution with mean 5\n",
    "sample = np.random.poisson(5, size=1000)\n",
    "\n",
    "# Calculate the sample mean and variance\n",
    "sample_mean = np.mean(sample)\n",
    "sample_var = np.var(sample)\n",
    "\n",
    "print(\"Sample mean:\", sample_mean)\n",
    "print(\"Sample variance:\", sample_var)\n",
    "\n",
    "\"\"\"\n",
    "The np.random.poisson function from the NumPy library is used to generate the random sample. The function takes two arguments: the mean of\n",
    "the Poisson distribution (in this case, 5) and the size of the sample (in this case, 1000).\n",
    "\n",
    "The np.mean and np.var functions from NumPy are used to calculate the sample mean and variance, respectively.\n",
    "\n",
    "The sample mean is close to the true mean of the Poisson distribution (which is 5), and the sample variance is close to the true variance of\n",
    "the Poisson distribution (which is also 5). This is expected, as the sample mean and variance are unbiased estimators of the population mean\n",
    "and variance, respectively, for a Poisson distribution.\n",
    "\"\"\""
   ]
  },
  {
   "cell_type": "code",
   "execution_count": 12,
   "id": "fd11cacc-1553-4fdf-8c3f-ed245c5beea8",
   "metadata": {},
   "outputs": [
    {
     "data": {
      "text/plain": [
       "'\\nThe relationship between the mean and variance in binomial distribution and Poisson distribution is different:\\n\\nIn Binomial distribution, if the number of trials is fixed and the probability of success is constant, then the mean and variance are related\\nby the formula:\\n\\nmean = n * p\\nvariance = n * p * (1 - p)\\n\\nwhere n is the number of trials and p is the probability of success.\\n\\nSo, in binomial distribution, the variance increases as the probability of success deviates from 0.5, and it reaches its maximum when p = 0.5.\\n\\nIn Poisson distribution, the mean and variance are always equal, and are given by the formula:\\n    mean = variance = lambda\\nwhere lambda is the average rate of occurrence.\\n\\nSo, in Poisson distribution, the variance is directly proportional to the mean. If the mean is large, the variance will also be large.\\n\\nThe equal value of mean and variance in Poisson distribution is because the Poisson distribution models rare and random events occurring over \\ntime or space, and these events tend to occur independently of each other with a fixed average rate of occurrence. The random nature of the \\nevents causes the variance to be equal to the mean.\\n'"
      ]
     },
     "execution_count": 12,
     "metadata": {},
     "output_type": "execute_result"
    }
   ],
   "source": [
    "# answer 9\n",
    "\"\"\"\n",
    "The relationship between the mean and variance in binomial distribution and Poisson distribution is different:\n",
    "\n",
    "In Binomial distribution, if the number of trials is fixed and the probability of success is constant, then the mean and variance are related\n",
    "by the formula:\n",
    "\n",
    "mean = n * p\n",
    "variance = n * p * (1 - p)\n",
    "\n",
    "where n is the number of trials and p is the probability of success.\n",
    "\n",
    "So, in binomial distribution, the variance increases as the probability of success deviates from 0.5, and it reaches its maximum when p = 0.5.\n",
    "\n",
    "In Poisson distribution, the mean and variance are always equal, and are given by the formula:\n",
    "    mean = variance = lambda\n",
    "where lambda is the average rate of occurrence.\n",
    "\n",
    "So, in Poisson distribution, the variance is directly proportional to the mean. If the mean is large, the variance will also be large.\n",
    "\n",
    "The equal value of mean and variance in Poisson distribution is because the Poisson distribution models rare and random events occurring over \n",
    "time or space, and these events tend to occur independently of each other with a fixed average rate of occurrence. The random nature of the \n",
    "events causes the variance to be equal to the mean.\n",
    "\"\"\""
   ]
  },
  {
   "cell_type": "code",
   "execution_count": 13,
   "id": "110e7c46-dd96-43b7-9fd2-13b014b17f85",
   "metadata": {},
   "outputs": [
    {
     "data": {
      "text/plain": [
       "'\\nIn normal distribution, the least frequent data appear at the tails of the distribution, farthest away from the mean. The normal distribution \\nis a bell-shaped curve symmetric about the mean, which means that the frequencies of data points increase as they approach the mean and decrease \\nas they move away from the mean in both directions.\\n\\nThe normal distribution has an infinite range, but most of the data falls within a certain number of standard deviations from the mean.\\nAbout 68% of the data falls within one standard deviation from the mean, 95% of the data falls within two standard deviations from the mean, \\nand 99.7% of the data falls within three standard deviations from the mean.\\n\\nThe tails of the distribution represent the extreme values, which occur with much lower frequency than the values near the mean. \\nThe least frequent data appear at the tails of the distribution, specifically at the values that are more than three standard deviations \\naway from the mean. These extreme values represent the outliers in the data and are usually of interest in statistical analysis as they \\ncan indicate important information about the underlying process generating the data.\\n'"
      ]
     },
     "execution_count": 13,
     "metadata": {},
     "output_type": "execute_result"
    }
   ],
   "source": [
    "# answer 10\n",
    "\"\"\"\n",
    "In normal distribution, the least frequent data appear at the tails of the distribution, farthest away from the mean. The normal distribution \n",
    "is a bell-shaped curve symmetric about the mean, which means that the frequencies of data points increase as they approach the mean and decrease \n",
    "as they move away from the mean in both directions.\n",
    "\n",
    "The normal distribution has an infinite range, but most of the data falls within a certain number of standard deviations from the mean.\n",
    "About 68% of the data falls within one standard deviation from the mean, 95% of the data falls within two standard deviations from the mean, \n",
    "and 99.7% of the data falls within three standard deviations from the mean.\n",
    "\n",
    "The tails of the distribution represent the extreme values, which occur with much lower frequency than the values near the mean. \n",
    "The least frequent data appear at the tails of the distribution, specifically at the values that are more than three standard deviations \n",
    "away from the mean. These extreme values represent the outliers in the data and are usually of interest in statistical analysis as they \n",
    "can indicate important information about the underlying process generating the data.\n",
    "\"\"\""
   ]
  }
 ],
 "metadata": {
  "kernelspec": {
   "display_name": "Python 3 (ipykernel)",
   "language": "python",
   "name": "python3"
  },
  "language_info": {
   "codemirror_mode": {
    "name": "ipython",
    "version": 3
   },
   "file_extension": ".py",
   "mimetype": "text/x-python",
   "name": "python",
   "nbconvert_exporter": "python",
   "pygments_lexer": "ipython3",
   "version": "3.10.8"
  }
 },
 "nbformat": 4,
 "nbformat_minor": 5
}
