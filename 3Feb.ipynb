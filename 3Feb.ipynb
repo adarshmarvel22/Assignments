{
 "cells": [
  {
   "cell_type": "code",
   "execution_count": 2,
   "id": "07d399ff-1a7b-4510-8a1a-41e7b4e860f9",
   "metadata": {},
   "outputs": [
    {
     "data": {
      "text/plain": [
       "[1, 3, 5, 7, 9, 11, 13, 15, 17, 19, 21, 23, 25]"
      ]
     },
     "execution_count": 2,
     "metadata": {},
     "output_type": "execute_result"
    }
   ],
   "source": [
    "# answer 1\n",
    "# def keyword is used to create a function in python\n",
    "def odd_num():\n",
    "    odd=[]\n",
    "    for i in range(1,26):\n",
    "        if i%2==1:\n",
    "            odd.append(i)\n",
    "    return odd\n",
    "\n",
    "odd_num()"
   ]
  },
  {
   "cell_type": "code",
   "execution_count": 3,
   "id": "62392346-93c2-40b3-a1f6-3b6414291c88",
   "metadata": {},
   "outputs": [
    {
     "name": "stdout",
     "output_type": "stream",
     "text": [
      "('hllo', 1, 2, [1, 2, 3, 4, 5, [2, 3, 4, 5], (9, 8)])\n"
     ]
    },
    {
     "data": {
      "text/plain": [
       "{'a': 23, 'b': 'hlo'}"
      ]
     },
     "execution_count": 3,
     "metadata": {},
     "output_type": "execute_result"
    }
   ],
   "source": [
    "# answer 2\n",
    "# *args is used for multiple arguments in functions\n",
    "l=[1,2,3,4,5,[2,3,4,5],(9,8)]\n",
    "\n",
    "def test3(*args):\n",
    "    return args\n",
    "print(test3(\"hllo\",1,2,l))\n",
    "\n",
    "# **kwargs is used for mutiple key value pair arguments in function\n",
    "def test7(**kwargs):\n",
    "    return kwargs\n",
    "test7(a=23,b=\"hlo\")"
   ]
  },
  {
   "cell_type": "code",
   "execution_count": 4,
   "id": "7f99d7d9-78ad-4edd-ac2a-dc8ad73c74c3",
   "metadata": {},
   "outputs": [
    {
     "name": "stdout",
     "output_type": "stream",
     "text": [
      "2 4 6 8 10 "
     ]
    }
   ],
   "source": [
    "# answer 3\n",
    "\"\"\"\n",
    "An iterator in Python is an object that allows to traverse a container(list,tuple,etc)\n",
    "\n",
    "The method used to initialize an iterator object is iter() and the method used for iteration is next()\n",
    "\"\"\"\n",
    "l = [2, 4, 6, 8, 10, 12, 14, 16, 18, 20]\n",
    "itr = iter(l)\n",
    "\n",
    "for i in range(5):\n",
    "    print(next(itr),end=\" \")"
   ]
  },
  {
   "cell_type": "code",
   "execution_count": 5,
   "id": "1e3c0c19-1c00-4f57-b5e3-943313879adc",
   "metadata": {},
   "outputs": [
    {
     "name": "stdout",
     "output_type": "stream",
     "text": [
      "2 4 6 8 10 "
     ]
    }
   ],
   "source": [
    "cnt=0\n",
    "for i in l:\n",
    "    if cnt>=5:\n",
    "        break\n",
    "    else:\n",
    "        print(i,end=\" \")\n",
    "    cnt+=1"
   ]
  },
  {
   "cell_type": "code",
   "execution_count": 16,
   "id": "95a21926-b991-4c61-8fc5-7fa4870fbcdd",
   "metadata": {},
   "outputs": [
    {
     "name": "stdout",
     "output_type": "stream",
     "text": [
      "0 1 1 2 3 "
     ]
    }
   ],
   "source": [
    "# answer 4\n",
    "\"\"\"\n",
    "A generator function generates a sequence of values, one at a time, instead of returning a single value. \n",
    "\n",
    "The yield keyword is used in a generator function because\n",
    "it allows the function to produce a value, pause execution, and then resume later.\n",
    "\"\"\"\n",
    "def fibonacci(n):\n",
    "    a, b = 0, 1\n",
    "    for i in range(n):\n",
    "        yield a\n",
    "        a, b = b, a + b\n",
    "\n",
    "fib = fibonacci(5)\n",
    "for i in fib:\n",
    "    print(i,end=\" \")"
   ]
  },
  {
   "cell_type": "code",
   "execution_count": 7,
   "id": "01229376-dcf5-48e5-ae91-1c4a511ad9d7",
   "metadata": {},
   "outputs": [
    {
     "name": "stdout",
     "output_type": "stream",
     "text": [
      "2,3,5,7,11,13,17,19,23,29,31,37,41,43,47,53,59,61,67,71,"
     ]
    }
   ],
   "source": [
    "# answer 5\n",
    "def prime_gen():\n",
    "    primes = []\n",
    "    for num in range(2, 1000):\n",
    "        for prime in primes:\n",
    "            if num % prime == 0:\n",
    "                break\n",
    "        else:\n",
    "            primes.append(num)\n",
    "            yield num\n",
    "\n",
    "gen = prime_gen()\n",
    "for i in range(20):\n",
    "    print(next(gen),end=\",\")"
   ]
  },
  {
   "cell_type": "code",
   "execution_count": 9,
   "id": "f550d9e7-2244-44be-96bd-894ec9bf3a85",
   "metadata": {},
   "outputs": [
    {
     "name": "stdout",
     "output_type": "stream",
     "text": [
      "0 1,1,2,3,5,8,13,21,34,"
     ]
    }
   ],
   "source": [
    "# answer 6\n",
    "a=0\n",
    "b=1\n",
    "\n",
    "print(a,b,end=\",\")\n",
    "\n",
    "i=2\n",
    "while(i<10):\n",
    "    c=a+b\n",
    "    print(c,end=\",\")\n",
    "    a=b\n",
    "    b=c\n",
    "    i+=1"
   ]
  },
  {
   "cell_type": "code",
   "execution_count": 10,
   "id": "3ebc1c5e-e86a-49aa-ab80-f6b28ff38739",
   "metadata": {},
   "outputs": [
    {
     "data": {
      "text/plain": [
       "['p', 'w', 's', 'k', 'i', 'l', 'l', 's']"
      ]
     },
     "execution_count": 10,
     "metadata": {},
     "output_type": "execute_result"
    }
   ],
   "source": [
    "# answer 7\n",
    "s=\"pwskills\"\n",
    "[i for i in s]"
   ]
  },
  {
   "cell_type": "code",
   "execution_count": 12,
   "id": "49fa14e0-4ab3-4801-9305-95f0248ef667",
   "metadata": {},
   "outputs": [
    {
     "name": "stdin",
     "output_type": "stream",
     "text": [
      "Enter a number: 295\n"
     ]
    },
    {
     "name": "stdout",
     "output_type": "stream",
     "text": [
      "The given number is not a palindrome\n"
     ]
    }
   ],
   "source": [
    "# answer 8\n",
    "num=input(\"Enter a number:\")\n",
    "\n",
    "i=0\n",
    "n=len(num)\n",
    "j=n-1\n",
    "\n",
    "is_palindrome=True\n",
    "while i<n and j>=0:\n",
    "    if num[i]!=num[j]:\n",
    "        is_palindrome=False\n",
    "        break\n",
    "    i+=1\n",
    "    j-=1\n",
    "\n",
    "if(is_palindrome!=True):\n",
    "    print(\"The given number is not a palindrome\")\n",
    "else:\n",
    "    print(\"The given number is a plaindrome\")"
   ]
  },
  {
   "cell_type": "code",
   "execution_count": 18,
   "id": "8f9e4810-0d98-4d65-a940-ac1951c68166",
   "metadata": {},
   "outputs": [
    {
     "data": {
      "text/plain": [
       "[1,\n",
       " 3,\n",
       " 5,\n",
       " 7,\n",
       " 9,\n",
       " 11,\n",
       " 13,\n",
       " 15,\n",
       " 17,\n",
       " 19,\n",
       " 21,\n",
       " 23,\n",
       " 25,\n",
       " 27,\n",
       " 29,\n",
       " 31,\n",
       " 33,\n",
       " 35,\n",
       " 37,\n",
       " 39,\n",
       " 41,\n",
       " 43,\n",
       " 45,\n",
       " 47,\n",
       " 49,\n",
       " 51,\n",
       " 53,\n",
       " 55,\n",
       " 57,\n",
       " 59,\n",
       " 61,\n",
       " 63,\n",
       " 65,\n",
       " 67,\n",
       " 69,\n",
       " 71,\n",
       " 73,\n",
       " 75,\n",
       " 77,\n",
       " 79,\n",
       " 81,\n",
       " 83,\n",
       " 85,\n",
       " 87,\n",
       " 89,\n",
       " 91,\n",
       " 93,\n",
       " 95,\n",
       " 97,\n",
       " 99]"
      ]
     },
     "execution_count": 18,
     "metadata": {},
     "output_type": "execute_result"
    }
   ],
   "source": [
    "# answeer 9\n",
    "odd=[i for i in range(1,100)]\n",
    "\n",
    "[i for i in odd if i%2==1]"
   ]
  }
 ],
 "metadata": {
  "kernelspec": {
   "display_name": "Python 3 (ipykernel)",
   "language": "python",
   "name": "python3"
  },
  "language_info": {
   "codemirror_mode": {
    "name": "ipython",
    "version": 3
   },
   "file_extension": ".py",
   "mimetype": "text/x-python",
   "name": "python",
   "nbconvert_exporter": "python",
   "pygments_lexer": "ipython3",
   "version": "3.10.8"
  }
 },
 "nbformat": 4,
 "nbformat_minor": 5
}
