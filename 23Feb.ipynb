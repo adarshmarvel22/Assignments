{
  "nbformat": 4,
  "nbformat_minor": 0,
  "metadata": {
    "colab": {
      "provenance": []
    },
    "kernelspec": {
      "name": "python3",
      "display_name": "Python 3"
    },
    "language_info": {
      "name": "python"
    }
  },
  "cells": [
    {
      "cell_type": "code",
      "source": [
        "import logging\n",
        "import pandas as pd\n",
        "\n",
        "logging.basicConfig(filename=\"23FebInfo.log\", level=logging.INFO, format=\"%(asctime)s %(name)s %(message)s\")"
      ],
      "metadata": {
        "id": "KIDjLpp5tNG0"
      },
      "execution_count": 27,
      "outputs": []
    },
    {
      "cell_type": "code",
      "execution_count": 28,
      "metadata": {
        "colab": {
          "base_uri": "https://localhost:8080/"
        },
        "id": "mN6D-BceqwUs",
        "outputId": "9ccd2928-1457-4c8d-90df-ec4c44b6a362"
      },
      "outputs": [
        {
          "output_type": "stream",
          "name": "stdout",
          "text": [
            "0     4\n",
            "1     8\n",
            "2    15\n",
            "3    16\n",
            "4    23\n",
            "5    42\n",
            "dtype: int64\n"
          ]
        }
      ],
      "source": [
        "# answer 1\n",
        "data = [4, 8, 15, 16, 23, 42]\n",
        "logging.info(\"to Series ans 1\")\n",
        "series = pd.Series(data)\n",
        "\n",
        "print(series)"
      ]
    },
    {
      "cell_type": "code",
      "source": [
        "# answer 2\n",
        "my_list = [1, 2, 3, 4, 5, 6, 7, 8, 9, 10]\n",
        "logging.info(\"to Series ans 2\")\n",
        "my_series = pd.Series(my_list)\n",
        "\n",
        "print(my_series)"
      ],
      "metadata": {
        "colab": {
          "base_uri": "https://localhost:8080/"
        },
        "id": "4x7icWcesGLO",
        "outputId": "41696ea3-c1e0-431e-cff4-cda36d2a27b8"
      },
      "execution_count": 29,
      "outputs": [
        {
          "output_type": "stream",
          "name": "stdout",
          "text": [
            "0     1\n",
            "1     2\n",
            "2     3\n",
            "3     4\n",
            "4     5\n",
            "5     6\n",
            "6     7\n",
            "7     8\n",
            "8     9\n",
            "9    10\n",
            "dtype: int64\n"
          ]
        }
      ]
    },
    {
      "cell_type": "code",
      "source": [
        "# answer 3\n",
        "\n",
        "data = {\n",
        "    \"Name\": [\"Alice\", \"Bob\", \"Claire\"],\n",
        "    \"Age\": [25, 30, 27],\n",
        "    \"Gender\": [\"Female\", \"Male\", \"Female\"]\n",
        "}\n",
        "logging.info(\"to DataFrame\")\n",
        "df = pd.DataFrame(data)\n",
        "print(df)"
      ],
      "metadata": {
        "colab": {
          "base_uri": "https://localhost:8080/"
        },
        "id": "LrtLQRaMsWu3",
        "outputId": "54c2691f-59d7-4bf1-bd92-e611355d62df"
      },
      "execution_count": 30,
      "outputs": [
        {
          "output_type": "stream",
          "name": "stdout",
          "text": [
            "     Name  Age  Gender\n",
            "0   Alice   25  Female\n",
            "1     Bob   30    Male\n",
            "2  Claire   27  Female\n"
          ]
        }
      ]
    },
    {
      "cell_type": "code",
      "source": [
        "# answer 4\n",
        "\"\"\"\n",
        "A DataFrame is a two-dimensional tabular data structure with labeled axes (rows and columns). \n",
        "It can be thought of as a spreadsheet or a SQL table. Each column of a DataFrame is a Pandas Series object.\n",
        "\n",
        "A  Series is a one-dimensional labeled array that can hold data of any type.\n",
        " It can be thought of as a single column of a DataFrame.\n",
        "\"\"\"\n",
        "\n",
        "# create a Pandas Series\n",
        "ages = pd.Series([25, 30, 27], name=\"Age\")\n",
        "\n",
        "# create a Pandas DataFrame\n",
        "data = {\n",
        "    \"Name\": [\"Alice\", \"Bob\", \"Claire\"],\n",
        "    \"Gender\": [\"Female\", \"Male\", \"Female\"]\n",
        "}\n",
        "df = pd.DataFrame(data)\n",
        "\n",
        "logging.info(\"add the Age column to the DataFrame\")\n",
        "df[\"Age\"] = ages\n",
        "\n",
        "logging.info(\"print the Series and the DataFrame\")\n",
        "print(ages)\n",
        "print(df)\n"
      ],
      "metadata": {
        "colab": {
          "base_uri": "https://localhost:8080/"
        },
        "id": "NTlw60OGsmMi",
        "outputId": "9bd5c5e7-ff60-49cb-df60-f1060692a2bc"
      },
      "execution_count": 31,
      "outputs": [
        {
          "output_type": "stream",
          "name": "stdout",
          "text": [
            "0    25\n",
            "1    30\n",
            "2    27\n",
            "Name: Age, dtype: int64\n",
            "     Name  Gender  Age\n",
            "0   Alice  Female   25\n",
            "1     Bob    Male   30\n",
            "2  Claire  Female   27\n"
          ]
        }
      ]
    },
    {
      "cell_type": "code",
      "source": [
        "# answer 5\n",
        "\"\"\"\n",
        "Pandas provides many functions to manipulate data in a DataFrame like:\n",
        "\n",
        "head() and tail(): Used to display the first or last n rows of a DataFrame, respectively.\n",
        "\n",
        "info(): Used to display a summary of the DataFrame, including the number of rows and columns, \n",
        "the data types of each column, and whether there are any missing values.\n",
        "\n",
        "describe(): Used to generate descriptive statistics of the DataFrame, such as the count, mean, standard \n",
        "deviation, minimum, and maximum values of each numeric column.\n",
        "\n",
        "sort_values(): Used to sort the DataFrame by one or more columns. Example, df.sort_values(by=\"Name\")\n",
        "\n",
        "groupby(): Used to group rows of the DataFrame by one or more columns and apply a function to each group.\n",
        " Example, df.groupby(\"Gender\").mean() will group the rows of the DataFrame df by the \"Gender\" column \n",
        " and calculate the mean of each numeric column for each group.\n",
        "\n",
        "drop(): Used to remove one or more columns or rows from the DataFrame. Example, df.drop(\"Age\", axis=1)\n",
        " will remove the \"Age\" column from the DataFrame df.\n",
        "\n",
        "fillna(): Used to fill missing values in the DataFrame with a specified value or method. Example, df.fillna(0)\n",
        " will replace all missing values in the DataFrame df with 0.\n",
        "\n",
        "We can use the head() function to display the first few rows of the DataFrame and check if the data is loaded correctly.\n",
        "We can use the info() function to check the data types and missing values in the DataFrame.\n",
        "We can use the describe() function to get a sense of the distribution of the numeric variables in the DataFrame.\n",
        "We can use the sort_values() and groupby() functions, to sort or group the data.\n",
        "\"\"\""
      ],
      "metadata": {
        "colab": {
          "base_uri": "https://localhost:8080/",
          "height": 139
        },
        "id": "ahrBJLrjtcaQ",
        "outputId": "016b3f90-9f5b-430c-a6d9-0f80d13f3787"
      },
      "execution_count": 32,
      "outputs": [
        {
          "output_type": "execute_result",
          "data": {
            "text/plain": [
              "'\\nPandas provides many functions to manipulate data in a DataFrame like:\\n\\nhead() and tail(): Used to display the first or last n rows of a DataFrame, respectively.\\n\\ninfo(): Used to display a summary of the DataFrame, including the number of rows and columns, \\nthe data types of each column, and whether there are any missing values.\\n\\ndescribe(): Used to generate descriptive statistics of the DataFrame, such as the count, mean, standard \\ndeviation, minimum, and maximum values of each numeric column.\\n\\nsort_values(): Used to sort the DataFrame by one or more columns. Example, df.sort_values(by=\"Name\")\\n\\ngroupby(): Used to group rows of the DataFrame by one or more columns and apply a function to each group.\\n Example, df.groupby(\"Gender\").mean() will group the rows of the DataFrame df by the \"Gender\" column \\n and calculate the mean of each numeric column for each group.\\n\\ndrop(): Used to remove one or more columns or rows from the DataFrame. Example, df.drop(\"Age\", axis=1)\\n will remove the \"Age\" column from the DataFrame df.\\n\\nfillna(): Used to fill missing values in the DataFrame with a specified value or method. Example, df.fillna(0)\\n will replace all missing values in the DataFrame df with 0.\\n\\nWe can use the head() function to display the first few rows of the DataFrame and check if the data is loaded correctly.\\nWe can use the info() function to check the data types and missing values in the DataFrame.\\nWe can use the describe() function to get a sense of the distribution of the numeric variables in the DataFrame.\\nWe can use the sort_values() and groupby() functions, to sort or group the data.\\n'"
            ],
            "application/vnd.google.colaboratory.intrinsic+json": {
              "type": "string"
            }
          },
          "metadata": {},
          "execution_count": 32
        }
      ]
    },
    {
      "cell_type": "code",
      "source": [
        "# answer 6\n",
        "\"\"\"\n",
        "Both Series and DataFrame are mutable in nature.\n",
        "\n",
        "In Pandas, a mutable object is one that can be modified after it is created.\n",
        "A Series and DataFrame can be modified by adding or removing elements, changing the values of existing elements,\n",
        "or by adding or removing columns.\n",
        "\n",
        "Panel is an immutable data structure in Pandas, which means that it cannot be modified \n",
        "after it is created.Panel is rarely used and has been deprecated since version 0.25.0.\n",
        "\"\"\""
      ],
      "metadata": {
        "colab": {
          "base_uri": "https://localhost:8080/",
          "height": 87
        },
        "id": "qehrlTC9tfAO",
        "outputId": "b34075d6-2cb8-42aa-f1e5-a680a55fff1c"
      },
      "execution_count": 33,
      "outputs": [
        {
          "output_type": "execute_result",
          "data": {
            "text/plain": [
              "'\\nBoth Series and DataFrame are mutable in nature.\\n\\nIn Pandas, a mutable object is one that can be modified after it is created.\\nA Series and DataFrame can be modified by adding or removing elements, changing the values of existing elements,\\nor by adding or removing columns.\\n\\nPanel is an immutable data structure in Pandas, which means that it cannot be modified \\nafter it is created.Panel is rarely used and has been deprecated since version 0.25.0.\\n'"
            ],
            "application/vnd.google.colaboratory.intrinsic+json": {
              "type": "string"
            }
          },
          "metadata": {},
          "execution_count": 33
        }
      ]
    },
    {
      "cell_type": "code",
      "source": [
        "# answer 7\n",
        "\"\"\"\n",
        "To create a DataFrame using multiple Series, we can pass a dictionary of Series to the pd.DataFrame() function.\n",
        "The keys of the dictionary will be used as column names, and the values will be used as the data in each column.\n",
        "\"\"\"\n",
        "\n",
        "# create a Series for each column\n",
        "names = pd.Series([\"Alice\", \"Bob\", \"Claire\"])\n",
        "ages = pd.Series([25, 30, 27])\n",
        "genders = pd.Series([\"Female\", \"Male\", \"Female\"])\n",
        "\n",
        "logging.info(\"create a dictionary of Series\")\n",
        "data = {\"Name\": names, \"Age\": ages, \"Gender\": genders}\n",
        "\n",
        "logging.info(\"create a DataFrame from the dictionary\")\n",
        "df = pd.DataFrame(data)\n",
        "\n",
        "# print the DataFrame\n",
        "print(df)"
      ],
      "metadata": {
        "colab": {
          "base_uri": "https://localhost:8080/"
        },
        "id": "w-S8ltaTtgYa",
        "outputId": "2bbe20af-5d97-4305-e6b7-43f7bf8f486e"
      },
      "execution_count": 34,
      "outputs": [
        {
          "output_type": "stream",
          "name": "stdout",
          "text": [
            "     Name  Age  Gender\n",
            "0   Alice   25  Female\n",
            "1     Bob   30    Male\n",
            "2  Claire   27  Female\n"
          ]
        }
      ]
    }
  ]
}