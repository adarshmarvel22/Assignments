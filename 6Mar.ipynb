{
 "cells": [
  {
   "cell_type": "markdown",
   "id": "eb4c1693-df53-4886-84e6-e4c46bf92c97",
   "metadata": {},
   "source": [
    "# Statistics (types of stats, data; scale of measurement)"
   ]
  },
  {
   "cell_type": "code",
   "execution_count": 24,
   "id": "ff70cf34-f391-42f3-b780-e22019f59c80",
   "metadata": {},
   "outputs": [],
   "source": [
    "import logging\n",
    "\n",
    "logging.basicConfig(filename=\"6MarInfo.log\", level=logging.INFO, format=\"%(asctime)s %(name)s %(message)s\")"
   ]
  },
  {
   "cell_type": "code",
   "execution_count": 25,
   "id": "5fac5452-d279-4216-a433-66e9ec707ba5",
   "metadata": {},
   "outputs": [
    {
     "data": {
      "text/plain": [
       "'\\nStatistics is a branch of mathematics that deals with the collection, analysis,\\ninterpretation, presentation, and organization of data. It provides techniques for \\nsummarizing, describing, and making inferences about data.\\n\\nStatistics is used in various fields such as business, economics, medicine, psychology,\\nsociology, and many others to help understand and draw conclusions from data.\\n'"
      ]
     },
     "execution_count": 25,
     "metadata": {},
     "output_type": "execute_result"
    }
   ],
   "source": [
    "# answer 1\n",
    "\"\"\"\n",
    "Statistics is a branch of mathematics that deals with the collection, analysis,\n",
    "interpretation, presentation, and organization of data. It provides techniques for \n",
    "summarizing, describing, and making inferences about data.\n",
    "\n",
    "Statistics is used in various fields such as business, economics, medicine, psychology,\n",
    "sociology, and many others to help understand and draw conclusions from data.\n",
    "\"\"\""
   ]
  },
  {
   "cell_type": "code",
   "execution_count": 26,
   "id": "2af8ab04-6b5e-4aa4-b43a-efe712714ff4",
   "metadata": {},
   "outputs": [
    {
     "data": {
      "text/plain": [
       "'\\nThere are two main types of statistics: descriptive statistics and inferential statistics.\\n\\nDescriptive Statistics:\\nDescriptive statistics is concerned with summarizing and describing the characteristics of a set of data.\\nIt includes measures of central tendency, such as mean, median, and mode, and measures of dispersion,\\nsuch as variance and standard deviation.\\n\\nExample: A survey is conducted to determine the average age of students in a school.\\nThe data collected is analyzed using descriptive statistics to summarize the age distribution of the students.\\n\\nInferential Statistics:\\nInferential statistics is concerned with using sample data to make inferences about a population.\\nIt involves hypothesis testing and estimating parameters based on sample data.\\n\\nExample: A pharmaceutical company wants to test the effectiveness of a new drug for a specific disease. \\nA sample of patients is selected, and inferential statistics are used to determine if the drug is \\neffective in the population of patients with the disease.\\n'"
      ]
     },
     "execution_count": 26,
     "metadata": {},
     "output_type": "execute_result"
    }
   ],
   "source": [
    "# answer 2\n",
    "\"\"\"\n",
    "There are two main types of statistics: descriptive statistics and inferential statistics.\n",
    "\n",
    "Descriptive Statistics:\n",
    "Descriptive statistics is concerned with summarizing and describing the characteristics of a set of data.\n",
    "It includes measures of central tendency, such as mean, median, and mode, and measures of dispersion,\n",
    "such as variance and standard deviation.\n",
    "\n",
    "Example: A survey is conducted to determine the average age of students in a school.\n",
    "The data collected is analyzed using descriptive statistics to summarize the age distribution of the students.\n",
    "\n",
    "Inferential Statistics:\n",
    "Inferential statistics is concerned with using sample data to make inferences about a population.\n",
    "It involves hypothesis testing and estimating parameters based on sample data.\n",
    "\n",
    "Example: A pharmaceutical company wants to test the effectiveness of a new drug for a specific disease. \n",
    "A sample of patients is selected, and inferential statistics are used to determine if the drug is \n",
    "effective in the population of patients with the disease.\n",
    "\"\"\""
   ]
  },
  {
   "cell_type": "code",
   "execution_count": 27,
   "id": "2982c6eb-cdae-4575-9cf9-c31f1e2be296",
   "metadata": {},
   "outputs": [
    {
     "data": {
      "text/plain": [
       "\"\\nThere are four main types of data: nominal, ordinal, interval, and ratio.\\n\\nNominal Data:\\nNominal data is categorical data where the categories have no inherent order or rank. \\nNominal data can be represented by numbers or words, and each category is mutually exclusive.\\n\\nExample: A survey question asking for the respondent's gender, where the options are male or female.\\n\\nOrdinal Data:\\nOrdinal data is categorical data where the categories have a natural order or rank. The categories \\nare mutually exclusive, and the distance between the categories may not be equal.\\n\\nExample: A survey question asking respondents to rank their level of agreement with a statement on \\na scale of 1 to 5, where 1 represents strongly disagree, and 5 represents strongly agree.\\n\\nInterval Data:\\nInterval data is numerical data where the distance between each point on the scale is equal. However, \\nthere is no true zero point or zero starting point on the scale.\\n\\nExample: Temperature measured in degrees Celsius or Fahrenheit.\\n\\nRatio Data:\\nRatio data is numerical data where there is a true zero point on the scale. \\nThis allows for ratios to be formed between the measurements.\\n\\nExample: Height, weight, or income.\\n\""
      ]
     },
     "execution_count": 27,
     "metadata": {},
     "output_type": "execute_result"
    }
   ],
   "source": [
    "# answer 3\n",
    "\"\"\"\n",
    "There are four main types of data: nominal, ordinal, interval, and ratio.\n",
    "\n",
    "Nominal Data:\n",
    "Nominal data is categorical data where the categories have no inherent order or rank. \n",
    "Nominal data can be represented by numbers or words, and each category is mutually exclusive.\n",
    "\n",
    "Example: A survey question asking for the respondent's gender, where the options are male or female.\n",
    "\n",
    "Ordinal Data:\n",
    "Ordinal data is categorical data where the categories have a natural order or rank. The categories \n",
    "are mutually exclusive, and the distance between the categories may not be equal.\n",
    "\n",
    "Example: A survey question asking respondents to rank their level of agreement with a statement on \n",
    "a scale of 1 to 5, where 1 represents strongly disagree, and 5 represents strongly agree.\n",
    "\n",
    "Interval Data:\n",
    "Interval data is numerical data where the distance between each point on the scale is equal. However, \n",
    "there is no true zero point or zero starting point on the scale.\n",
    "\n",
    "Example: Temperature measured in degrees Celsius or Fahrenheit.\n",
    "\n",
    "Ratio Data:\n",
    "Ratio data is numerical data where there is a true zero point on the scale. \n",
    "This allows for ratios to be formed between the measurements.\n",
    "\n",
    "Example: Height, weight, or income.\n",
    "\"\"\""
   ]
  },
  {
   "cell_type": "code",
   "execution_count": 28,
   "id": "bbc28273-e706-4e8a-9cfb-42ea589e5385",
   "metadata": {},
   "outputs": [
    {
     "data": {
      "text/plain": [
       "'\\n(i) Grading in exam: A+, A, B+, B, C+, C, D, E\\n\\nqualitative data: ordinal data\\n(as the grades can be ranked in a specific order)\\n\\n(ii) Colour of mangoes: yellow, green, orange, red\\n\\nqualitative data: nominal data\\n(as the different colours of mangoes cannot be ranked in a specific order)\\n\\n(iii) Height data of a class: [178.9, 179, 179.5, 176, 177.2, 178.3, 175.8,...]\\n\\nquantitative data: continuous numerical data\\n(as the heights are measured on a continuous scale)\\n\\n(iv) Number of mangoes exported by a farm: [500, 600, 478, 672, ...]\\n\\nquantitative data: discrete numerical data\\n(as the number of mangoes exported is measured in whole numbers)\\n'"
      ]
     },
     "execution_count": 28,
     "metadata": {},
     "output_type": "execute_result"
    }
   ],
   "source": [
    "# answer 4\n",
    "\"\"\"\n",
    "(i) Grading in exam: A+, A, B+, B, C+, C, D, E\n",
    "\n",
    "qualitative data: ordinal data\n",
    "(as the grades can be ranked in a specific order)\n",
    "\n",
    "(ii) Colour of mangoes: yellow, green, orange, red\n",
    "\n",
    "qualitative data: nominal data\n",
    "(as the different colours of mangoes cannot be ranked in a specific order)\n",
    "\n",
    "(iii) Height data of a class: [178.9, 179, 179.5, 176, 177.2, 178.3, 175.8,...]\n",
    "\n",
    "quantitative data: continuous numerical data\n",
    "(as the heights are measured on a continuous scale)\n",
    "\n",
    "(iv) Number of mangoes exported by a farm: [500, 600, 478, 672, ...]\n",
    "\n",
    "quantitative data: discrete numerical data\n",
    "(as the number of mangoes exported is measured in whole numbers)\n",
    "\"\"\""
   ]
  },
  {
   "cell_type": "code",
   "execution_count": 29,
   "id": "7ff95076-c7fb-4836-8174-efdd0fc94d6d",
   "metadata": {},
   "outputs": [
    {
     "data": {
      "text/plain": [
       "'\\nLevels of measurement refer to the different ways in which data can be categorized or measured. \\nThere are four levels of measurement: nominal, ordinal, interval, and ratio.\\n\\nNominal Level of Measurement:\\nNominal level of measurement is the lowest level of measurement, where data are categorized \\ninto distinct categories with no inherent order or rank. Nominal data can be represented by \\nnumbers or words, and each category is mutually exclusive.\\n\\nExample: Gender - Male or Female.\\n\\nOrdinal Level of Measurement:\\nOrdinal level of measurement is the level of measurement where data can be ranked or ordered, \\nbut the difference between the categories may not be equal.\\n\\nExample: Rank of finishers in a race - 1st, 2nd, 3rd, etc.\\n\\nInterval Level of Measurement:\\nInterval level of measurement is the level of measurement where data can be ordered,\\nand the distance between the categories is equal. There is no true zero point on the scale.\\n\\nExample: Temperature measured in Celsius or Fahrenheit.\\n\\nRatio Level of Measurement:\\nRatio level of measurement is the highest level of measurement, where data can be ordered, \\nthe distance between categories is equal, and there is a true zero point on the scale. \\nThis allows for ratios to be formed between the measurements.\\n\\nExample: Height, weight, or income.\\n'"
      ]
     },
     "execution_count": 29,
     "metadata": {},
     "output_type": "execute_result"
    }
   ],
   "source": [
    "# answer 5\n",
    "\"\"\"\n",
    "Levels of measurement refer to the different ways in which data can be categorized or measured. \n",
    "There are four levels of measurement: nominal, ordinal, interval, and ratio.\n",
    "\n",
    "Nominal Level of Measurement:\n",
    "Nominal level of measurement is the lowest level of measurement, where data are categorized \n",
    "into distinct categories with no inherent order or rank. Nominal data can be represented by \n",
    "numbers or words, and each category is mutually exclusive.\n",
    "\n",
    "Example: Gender - Male or Female.\n",
    "\n",
    "Ordinal Level of Measurement:\n",
    "Ordinal level of measurement is the level of measurement where data can be ranked or ordered, \n",
    "but the difference between the categories may not be equal.\n",
    "\n",
    "Example: Rank of finishers in a race - 1st, 2nd, 3rd, etc.\n",
    "\n",
    "Interval Level of Measurement:\n",
    "Interval level of measurement is the level of measurement where data can be ordered,\n",
    "and the distance between the categories is equal. There is no true zero point on the scale.\n",
    "\n",
    "Example: Temperature measured in Celsius or Fahrenheit.\n",
    "\n",
    "Ratio Level of Measurement:\n",
    "Ratio level of measurement is the highest level of measurement, where data can be ordered, \n",
    "the distance between categories is equal, and there is a true zero point on the scale. \n",
    "This allows for ratios to be formed between the measurements.\n",
    "\n",
    "Example: Height, weight, or income.\n",
    "\"\"\""
   ]
  },
  {
   "cell_type": "code",
   "execution_count": 30,
   "id": "7a12583b-9e0d-43b8-b0e0-65d776e61153",
   "metadata": {},
   "outputs": [
    {
     "data": {
      "text/plain": [
       "'\\nIt is important to understand the level of measurement when analyzing data because it determines\\nwhich statistical tests and methods can be used, and the types of conclusions that can be drawn from the data.\\n\\nExamples:\\n1-> consider a study that aims to determine whether there is a difference in income\\nbetween two groups of people. If income is measured on an interval level of measurement, such \\nas in dollars, then a t-test can be used to determine whether there is a statistically significant\\ndifference between the means of the two groups. However, if income is measured on a nominal level \\nof measurement, such as in income categories, then a different statistical test, such as a chi-squared test,\\nmay be required to determine whether there is a significant difference between the groups.\\n\\n2-> if the level of measurement is ordinal, such as rankings or ratings of products\\nor services. In this case, it may not be appropriate to calculate the mean or average of the data,\\nas the distance between the ranks may not be equal. Instead, other measures such as median or mode \\ncan be used to summarize the data.\\n'"
      ]
     },
     "execution_count": 30,
     "metadata": {},
     "output_type": "execute_result"
    }
   ],
   "source": [
    "# answer 6\n",
    "\"\"\"\n",
    "It is important to understand the level of measurement when analyzing data because it determines\n",
    "which statistical tests and methods can be used, and the types of conclusions that can be drawn from the data.\n",
    "\n",
    "Examples:\n",
    "1-> consider a study that aims to determine whether there is a difference in income\n",
    "between two groups of people. If income is measured on an interval level of measurement, such \n",
    "as in dollars, then a t-test can be used to determine whether there is a statistically significant\n",
    "difference between the means of the two groups. However, if income is measured on a nominal level \n",
    "of measurement, such as in income categories, then a different statistical test, such as a chi-squared test,\n",
    "may be required to determine whether there is a significant difference between the groups.\n",
    "\n",
    "2-> if the level of measurement is ordinal, such as rankings or ratings of products\n",
    "or services. In this case, it may not be appropriate to calculate the mean or average of the data,\n",
    "as the distance between the ranks may not be equal. Instead, other measures such as median or mode \n",
    "can be used to summarize the data.\n",
    "\"\"\""
   ]
  },
  {
   "cell_type": "code",
   "execution_count": 31,
   "id": "073e8cce-c755-4012-b2d5-6cc10c56ab3e",
   "metadata": {},
   "outputs": [
    {
     "data": {
      "text/plain": [
       "'\\nNominal data and ordinal data are both types of qualitative data, but they differ in the level of measurement.\\n\\nNominal data is the lowest level of measurement and consists of data that can be categorized into\\ndistinct categories with no inherent order or rank. Nominal data can be represented by numbers or \\nwords, and each category is mutually exclusive. \\n\\nExamples: gender, nationality, and favorite color.\\n\\nOrdinal data, is the level of measurement where data can be ranked or ordered,\\nbut the difference between the categories may not be equal. The categories in ordinal data have\\na specific order or ranking, but the numerical distance between them is not meaningful. \\nExample: rank of finishers in a race, level of education, and rating scales.\\n'"
      ]
     },
     "execution_count": 31,
     "metadata": {},
     "output_type": "execute_result"
    }
   ],
   "source": [
    "# answer 7\n",
    "\"\"\"\n",
    "Nominal data and ordinal data are both types of qualitative data, but they differ in the level of measurement.\n",
    "\n",
    "Nominal data is the lowest level of measurement and consists of data that can be categorized into\n",
    "distinct categories with no inherent order or rank. Nominal data can be represented by numbers or \n",
    "words, and each category is mutually exclusive. \n",
    "\n",
    "Examples: gender, nationality, and favorite color.\n",
    "\n",
    "Ordinal data, is the level of measurement where data can be ranked or ordered,\n",
    "but the difference between the categories may not be equal. The categories in ordinal data have\n",
    "a specific order or ranking, but the numerical distance between them is not meaningful. \n",
    "Example: rank of finishers in a race, level of education, and rating scales.\n",
    "\"\"\""
   ]
  },
  {
   "cell_type": "code",
   "execution_count": 32,
   "id": "a1c11b72-cfb3-4dc1-8731-5dedba1e8ad5",
   "metadata": {},
   "outputs": [
    {
     "data": {
      "image/png": "[encoded data removed]",
      "text/plain": [
       "<Figure size 640x480 with 1 Axes>"
      ]
     },
     "metadata": {},
     "output_type": "display_data"
    }
   ],
   "source": [
    "# answer 8\n",
    "\"\"\"\n",
    "A box plot, also known as a box-and-whisker plot, is commonly used to display data in terms of range. \n",
    "A box plot provides a visual representation of the distribution of a dataset by displaying the median,\n",
    "quartiles, and the range of the data.\n",
    "\n",
    "The box in the plot represents the interquartile range (IQR), which is the range between the first \n",
    "quartile (Q1) and the third quartile (Q3). The line inside the box represents the median, \n",
    "and the whiskers extend from the box to the minimum and maximum values of the dataset that are within \n",
    "1.5 times the IQR. Any data points outside the whiskers are considered outliers.\n",
    "\n",
    "Box plots are particularly useful for comparing the distribution of data between different groups or\n",
    "datasets. They allow for a quick visual comparison of the central tendency, variability, \n",
    "and skewness of the data.\n",
    "\"\"\"\n",
    "import matplotlib.pyplot as plt\n",
    "import seaborn as sns\n",
    "\n",
    "iris=sns.load_dataset('iris')\n",
    "# iris\n",
    "plt.xlabel('sepal length')\n",
    "plt.ylabel('value')\n",
    "plt.boxplot([iris['sepal_length']],patch_artist=True)\n",
    "plt.show()"
   ]
  },
  {
   "cell_type": "code",
   "execution_count": 33,
   "id": "2d177bff-46f4-48a5-b39f-249df4c4541c",
   "metadata": {},
   "outputs": [
    {
     "data": {
      "text/plain": [
       "'\\nDescriptive statistics and inferential statistics are two branches of statistics that serve\\ndifferent purposes in data analysis.\\n\\nDescriptive statistics involves summarizing and describing the main features of a dataset,\\nsuch as the mean, median, mode, standard deviation, range, and other measures of central tendency\\nand variability.\\nDescriptive statistics are used to provide a clear and concise summary\\nof the data and to describe patterns, trends, and relationships in the data. \\nExample: calculating the mean and standard deviation of the test scores of a group of students.\\n\\nInferential statistics, involves making generalizations and drawing conclusions about\\na larger population based on a sample of data. \\nInferential statistics use probability theory to determine the likelihood of obtaining the observed \\nresults by chance, and to estimate the magnitude of the difference between groups or variables.\\nExample: conducting a hypothesis test to determine whether there is a significant difference\\nin test scores between two groups of students.\\n'"
      ]
     },
     "execution_count": 33,
     "metadata": {},
     "output_type": "execute_result"
    }
   ],
   "source": [
    "# answer 9\n",
    "\"\"\"\n",
    "Descriptive statistics and inferential statistics are two branches of statistics that serve\n",
    "different purposes in data analysis.\n",
    "\n",
    "Descriptive statistics involves summarizing and describing the main features of a dataset,\n",
    "such as the mean, median, mode, standard deviation, range, and other measures of central tendency\n",
    "and variability.\n",
    "Descriptive statistics are used to provide a clear and concise summary\n",
    "of the data and to describe patterns, trends, and relationships in the data. \n",
    "Example: calculating the mean and standard deviation of the test scores of a group of students.\n",
    "\n",
    "Inferential statistics, involves making generalizations and drawing conclusions about\n",
    "a larger population based on a sample of data. \n",
    "Inferential statistics use probability theory to determine the likelihood of obtaining the observed \n",
    "results by chance, and to estimate the magnitude of the difference between groups or variables.\n",
    "Example: conducting a hypothesis test to determine whether there is a significant difference\n",
    "in test scores between two groups of students.\n",
    "\"\"\""
   ]
  },
  {
   "cell_type": "code",
   "execution_count": 34,
   "id": "dc0a4a1b-4fe8-4f54-b7c2-d666575c4ed0",
   "metadata": {},
   "outputs": [
    {
     "data": {
      "text/plain": [
       "'\\nMeasures of central tendency and variability are used to describe the main features of a dataset,\\nincluding the typical or average value, the degree of spread or dispersion of the data,\\nand the shape of the distribution:\\n\\nMeasures of central tendency:\\n\\nMean:\\n    The mean is the average value of a dataset and is calculated by summing up all the values \\nand dividing by the number of observations. The mean is sensitive to outliers, which can skew the value.\\n\\nMedian: \\n      The median is the middle value of a dataset when the values are arranged in order from\\nlowest to highest. The median is less sensitive to outliers than the mean.\\n\\nMode: \\n    The mode is the most frequently occurring value in a dataset. The mode can be used to describe\\nthe most common or typical value in the dataset.\\n\\nMeasures of variability:\\n\\nRange: \\n     The range is the difference between the maximum and minimum values in a dataset.\\nThe range provides a measure of the spread of the data, but is sensitive to outliers.\\n\\nStandard deviation: \\n                 The standard deviation measures the degree of variation or dispersion of the \\ndata around the mean. A larger standard deviation indicates that the data is more spread out.\\n\\nInterquartile range (IQR):\\n                        The IQR is the difference between the first quartile (Q1) and third quartile\\n(Q3) in a dataset. The IQR provides a measure of the spread of the data that is\\nless sensitive to outliers than the range.\\n'"
      ]
     },
     "execution_count": 34,
     "metadata": {},
     "output_type": "execute_result"
    }
   ],
   "source": [
    "# answer 10\n",
    "\"\"\"\n",
    "Measures of central tendency and variability are used to describe the main features of a dataset,\n",
    "including the typical or average value, the degree of spread or dispersion of the data,\n",
    "and the shape of the distribution:\n",
    "\n",
    "Measures of central tendency:\n",
    "\n",
    "Mean:\n",
    "    The mean is the average value of a dataset and is calculated by summing up all the values \n",
    "and dividing by the number of observations. The mean is sensitive to outliers, which can skew the value.\n",
    "\n",
    "Median: \n",
    "      The median is the middle value of a dataset when the values are arranged in order from\n",
    "lowest to highest. The median is less sensitive to outliers than the mean.\n",
    "\n",
    "Mode: \n",
    "    The mode is the most frequently occurring value in a dataset. The mode can be used to describe\n",
    "the most common or typical value in the dataset.\n",
    "\n",
    "Measures of variability:\n",
    "\n",
    "Range: \n",
    "     The range is the difference between the maximum and minimum values in a dataset.\n",
    "The range provides a measure of the spread of the data, but is sensitive to outliers.\n",
    "\n",
    "Standard deviation: \n",
    "                 The standard deviation measures the degree of variation or dispersion of the \n",
    "data around the mean. A larger standard deviation indicates that the data is more spread out.\n",
    "\n",
    "Interquartile range (IQR):\n",
    "                        The IQR is the difference between the first quartile (Q1) and third quartile\n",
    "(Q3) in a dataset. The IQR provides a measure of the spread of the data that is\n",
    "less sensitive to outliers than the range.\n",
    "\"\"\""
   ]
  }
 ],
 "metadata": {
  "kernelspec": {
   "display_name": "Python 3 (ipykernel)",
   "language": "python",
   "name": "python3"
  },
  "language_info": {
   "codemirror_mode": {
    "name": "ipython",
    "version": 3
   },
   "file_extension": ".py",
   "mimetype": "text/x-python",
   "name": "python",
   "nbconvert_exporter": "python",
   "pygments_lexer": "ipython3",
   "version": "3.10.8"
  }
 },
 "nbformat": 4,
 "nbformat_minor": 5
}
