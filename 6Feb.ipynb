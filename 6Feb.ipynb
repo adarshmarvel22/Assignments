{
 "cells": [
  {
   "cell_type": "code",
   "execution_count": 48,
   "id": "30424f0e-ffd1-4872-bd82-ad9d99c4bbb5",
   "metadata": {},
   "outputs": [
    {
     "name": "stdout",
     "output_type": "stream",
     "text": [
      "4134711838987085478833841242112000\n"
     ]
    }
   ],
   "source": [
    "# answer 1\n",
    "# using simple recursion\n",
    "def num_list(list1):\n",
    "    product=1\n",
    "    l=[]\n",
    "    for i in list1:\n",
    "        if type(i) == int or type(i) == float:\n",
    "            product*=i\n",
    "        elif type(i) ==tuple or type(i) == list or type(i) == set:\n",
    "            product*=num_list(i)\n",
    "        elif type(i) == dict:\n",
    "            product*=num_list(i.keys())\n",
    "            product*=num_list(i.values())\n",
    "    return product\n",
    "\n",
    "l1 = [1,2,3,4, [44,55,66, True], False, (34,56,78,89,34), {1,2,3,3,2,1}, {1:34, \"key2\": [55, 67, 78, 89], 4: (45, 22, 61, 34)}, [56, 'data science'], 'Machine Learning']\n",
    "\n",
    "result = num_list(l1)\n",
    "print(result)"
   ]
  },
  {
   "cell_type": "code",
   "execution_count": 47,
   "id": "5b6f8323-16e7-46fc-8320-6aea083d6f0e",
   "metadata": {},
   "outputs": [
    {
     "name": "stdout",
     "output_type": "stream",
     "text": [
      "The encrypted messsage is: r$dzmg$gl$yvxlnv$z$wzgz$hxrvmgrhg.\n"
     ]
    }
   ],
   "source": [
    "# answer 2\n",
    "# using ascii values and simple maths \n",
    "def encrypt_msg(s):\n",
    "    s=s.lower()\n",
    "    message=\"\"\n",
    "    for i in s:\n",
    "        # ord() function to convert from char to ascii value\n",
    "        _ascii=ord(i)\n",
    "        x=_ascii-97\n",
    "        if i==' ':\n",
    "            message+='$'\n",
    "        elif _ascii>=97 and _ascii<=122:\n",
    "       # chr() function is used to convert from int/ascii value to char  \n",
    "            c=122-x\n",
    "            ch=chr(c)\n",
    "            message+=ch\n",
    "        else:\n",
    "            message+=i\n",
    "    return message\n",
    "    \n",
    "msg= \"I want to become a Data Scientist.\"\n",
    "encrypted_msg=encrypt_msg(msg)\n",
    "print(\"The encrypted messsage is: \"+encrypted_msg)"
   ]
  },
  {
   "cell_type": "code",
   "execution_count": 29,
   "id": "c2c67ad9-6985-4ce9-975b-2fec2ac9f7bb",
   "metadata": {},
   "outputs": [
    {
     "name": "stdout",
     "output_type": "stream",
     "text": [
      "The Encrypted message is : r$dzmg$gl$yvxlnv$z$wzgz$hxrvmgrhg.\n"
     ]
    }
   ],
   "source": [
    "# answer 2\n",
    "# using a dictionary\n",
    "def encrypt_message(message):\n",
    "    message = message.lower() # convert message to lowercase\n",
    "    encryption_key = {'a': 'z', 'b': 'y', 'c': 'x', 'd': 'w', 'e': 'v', 'f': 'u', 'g': 't', 'h': 's', 'i': 'r', 'j': 'q',\n",
    "                      'k': 'p', 'l': 'o', 'm': 'n', 'n': 'm', 'o': 'l', 'p': 'k', 'q': 'j', 'r': 'i', 's': 'h', 't': 'g',\n",
    "                      'u': 'f', 'v': 'e', 'w': 'd', 'x': 'c', 'y': 'b', 'z': 'a', ' ': '$'}\n",
    "    encrypted_message = \"\"\n",
    "    for char in message:\n",
    "        if char in encryption_key:\n",
    "            encrypted_message += encryption_key[char]\n",
    "        else:\n",
    "            encrypted_message += char\n",
    "    return encrypted_message\n",
    "\n",
    "msg = \"I want to become a Data Scientist.\"\n",
    "encrypted_msg = encrypt_message(msg)\n",
    "print(\"The Encrypted message is :\", encrypted_msg)"
   ]
  }
 ],
 "metadata": {
  "kernelspec": {
   "display_name": "Python 3 (ipykernel)",
   "language": "python",
   "name": "python3"
  },
  "language_info": {
   "codemirror_mode": {
    "name": "ipython",
    "version": 3
   },
   "file_extension": ".py",
   "mimetype": "text/x-python",
   "name": "python",
   "nbconvert_exporter": "python",
   "pygments_lexer": "ipython3",
   "version": "3.10.8"
  }
 },
 "nbformat": 4,
 "nbformat_minor": 5
}
