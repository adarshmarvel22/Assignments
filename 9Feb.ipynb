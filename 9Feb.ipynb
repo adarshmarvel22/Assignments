{
 "cells": [
  {
   "cell_type": "code",
   "execution_count": 15,
   "id": "b7d79768-f55b-429c-a8bb-1fd66a3b6754",
   "metadata": {},
   "outputs": [
    {
     "name": "stdout",
     "output_type": "stream",
     "text": [
      "Car\n",
      "220\n",
      "10\n"
     ]
    }
   ],
   "source": [
    "# answer 1\n",
    "class vehicle:\n",
    "#     constructor\n",
    "    def __init__(self,name_of_vehicle,max_speed,average_of_vehicle):\n",
    "        self.name_of_vehicle=name_of_vehicle\n",
    "        self.max_speed=max_speed\n",
    "        self.average_of_vehicle=average_of_vehicle\n",
    "        \n",
    "#         initializing the object\n",
    "car1 = vehicle(\"Car\", 220, 10)\n",
    "print(car1.name_of_vehicle)\n",
    "print(car1.max_speed)\n",
    "print(car1.average_of_vehicle)"
   ]
  },
  {
   "cell_type": "code",
   "execution_count": 16,
   "id": "06b0a17d-55a6-4eee-83a0-7fb92fa3c6b0",
   "metadata": {},
   "outputs": [
    {
     "name": "stdout",
     "output_type": "stream",
     "text": [
      "Fortuner has a seat capacity of 7\n"
     ]
    }
   ],
   "source": [
    "# answer 2\n",
    "# inherit properties of base class \n",
    "class car(vehicle):\n",
    "    \n",
    "    def seating_capacity(self,capacity):\n",
    "        self.capacity=capacity\n",
    "        # return as a string \n",
    "        return \"{} has a seat capacity of {}\".format(self.name_of_vehicle,self.capacity)\n",
    "    \n",
    "c1=car(\"Fortuner\",240,12)\n",
    "print(c1.seating_capacity(7))"
   ]
  },
  {
   "cell_type": "code",
   "execution_count": 27,
   "id": "b95f6ec8-5b22-4770-bd66-d836d1f9725a",
   "metadata": {},
   "outputs": [
    {
     "name": "stdout",
     "output_type": "stream",
     "text": [
      "parent1 method1\n",
      "parent2 method2\n",
      "child method3\n"
     ]
    }
   ],
   "source": [
    "# answer 3\n",
    "\n",
    "# Multiple inheritance\n",
    "\"\"\"                   It is a feature of object-oriented programming (OOP)\n",
    "where a single class can inherit properties and methods from multiple parent classes. \n",
    "This means that a class can have multiple superclasses and can inherit attributes and behaviors from all of them.\n",
    "\"\"\"\n",
    "\n",
    "class parent1:\n",
    "    def method1(self):\n",
    "        print(\"parent1 method1\")\n",
    "\n",
    "class parent2:\n",
    "    def method2(self):\n",
    "        print(\"parent2 method2\")\n",
    "# inheriting multiple classes\n",
    "class child(parent1, parent2):\n",
    "    def method3(self):\n",
    "        print(\"child method3\")\n",
    "\n",
    "c = child()\n",
    "c.method1()\n",
    "c.method2()\n",
    "c.method3()"
   ]
  },
  {
   "cell_type": "code",
   "execution_count": 26,
   "id": "927198cb-2fb7-4c7f-bf71-aa7f0d553f17",
   "metadata": {},
   "outputs": [
    {
     "name": "stdout",
     "output_type": "stream",
     "text": [
      "Shivam\n",
      "Adarsh\n"
     ]
    }
   ],
   "source": [
    "# answer 4\n",
    "\"\"\"\n",
    "Getter and setter methods are used in object-oriented programming to define \n",
    "how an object's attributes can be accessed and modified.\n",
    "They are commonly used in Python to control the access to an object's attributes \n",
    "and to ensure that the attributes are in a valid state.\n",
    "\"\"\"\n",
    "\n",
    "# A getter method is a method that is used to retrieve the value of an object's attribute.\n",
    "# A setter method is a method that is used to set the value of an object's attribute.\n",
    "\n",
    "class Person:\n",
    "    def __init__(self, name):\n",
    "        self._name = name\n",
    "\n",
    "    # Getter method\n",
    "    def get_name(self):\n",
    "        return self._name\n",
    "\n",
    "    # Setter method\n",
    "    def set_name(self, name):\n",
    "        self._name = name\n",
    "\n",
    "    # Property decorator to access the getter method as an attribute\n",
    "    @property\n",
    "    def name(self):\n",
    "        return self.get_name()\n",
    "\n",
    "    # Property decorator to access the setter method as an attribute\n",
    "    @name.setter\n",
    "    def name(self, name):\n",
    "        self.set_name(name)\n",
    "\n",
    "person = Person(\"Shivam\")\n",
    "print(person.name) \n",
    "person.name = \"Adarsh\"\n",
    "print(person.name) "
   ]
  },
  {
   "cell_type": "code",
   "execution_count": 23,
   "id": "ecc369dc-4475-41a6-93b3-61ad6f1a6958",
   "metadata": {},
   "outputs": [
    {
     "name": "stdout",
     "output_type": "stream",
     "text": [
      "The dog barks\n"
     ]
    }
   ],
   "source": [
    "# answer 5\n",
    "\n",
    "# Method overriding \n",
    "\"\"\"                It is a feature in Object-Oriented Programming (OOP) \n",
    "where a subclass provides a new implementation for a method that is already defined in its superclass.\n",
    "This new implementation in the subclass is said to override the original method. \n",
    "When an object of the subclass is called to execute the overridden method, \n",
    "the new implementation in the subclass is executed instead of the original implementation in the superclass.\n",
    "\"\"\"\n",
    "\n",
    "class Animal:\n",
    "    def make_sound(self):\n",
    "        print(\"The animal makes a sound\")\n",
    "\n",
    "class Dog(Animal):\n",
    "    def make_sound(self):\n",
    "        print(\"The dog barks\")\n",
    "\n",
    "dog = Dog()\n",
    "dog.make_sound()"
   ]
  }
 ],
 "metadata": {
  "kernelspec": {
   "display_name": "Python 3 (ipykernel)",
   "language": "python",
   "name": "python3"
  },
  "language_info": {
   "codemirror_mode": {
    "name": "ipython",
    "version": 3
   },
   "file_extension": ".py",
   "mimetype": "text/x-python",
   "name": "python",
   "nbconvert_exporter": "python",
   "pygments_lexer": "ipython3",
   "version": "3.10.8"
  }
 },
 "nbformat": 4,
 "nbformat_minor": 5
}
