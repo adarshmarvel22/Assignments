{
  "nbformat": 4,
  "nbformat_minor": 0,
  "metadata": {
    "colab": {
      "provenance": []
    },
    "kernelspec": {
      "name": "python3",
      "display_name": "Python 3"
    },
    "language_info": {
      "name": "python"
    }
  },
  "cells": [
    {
      "cell_type": "code",
      "execution_count": 29,
      "metadata": {
        "id": "FWFBiVYpfwaZ"
      },
      "outputs": [],
      "source": [
        "import logging\n",
        "import pandas as pd\n",
        "import numpy as np\n",
        "\n",
        "logging.basicConfig(filename=\"26FebInfo.log\", level=logging.INFO, format=\"%(asctime)s %(name)s %(message)s\")     "
      ]
    },
    {
      "cell_type": "code",
      "source": [
        "# answer 1\n",
        "list_ = ['1', '2', '3', '4', '5']\n",
        "array_list = np.array(object=list_)\n",
        "\n",
        "print(type(list_))\n",
        "print(type(array_list))\n",
        "\n",
        "\"\"\"\n",
        "The data type of list_ is list and the data type of array_list is numpy.ndarray.\n",
        "\"\"\""
      ],
      "metadata": {
        "colab": {
          "base_uri": "https://localhost:8080/",
          "height": 70
        },
        "id": "OSlSzl6ulALg",
        "outputId": "8cfc51b7-9362-469e-c519-32bc72aa20a3"
      },
      "execution_count": 30,
      "outputs": [
        {
          "output_type": "stream",
          "name": "stdout",
          "text": [
            "<class 'list'>\n",
            "<class 'numpy.ndarray'>\n"
          ]
        },
        {
          "output_type": "execute_result",
          "data": {
            "text/plain": [
              "'\\nThe data type of list_ is list and the data type of array_list is numpy.ndarray.\\n'"
            ],
            "application/vnd.google.colaboratory.intrinsic+json": {
              "type": "string"
            }
          },
          "metadata": {},
          "execution_count": 30
        }
      ]
    },
    {
      "cell_type": "code",
      "source": [
        "# answer 2\n",
        "list_ = ['1', '2', '3', '4', '5']\n",
        "array_list = np.array(object=list_)\n",
        "\n",
        "logging.info(\"Print data type of each element in list_\")\n",
        "for element in list_:\n",
        "    print(type(element))\n",
        "\n",
        "# Print data type of each element in array_list\n",
        "for element in array_list:\n",
        "    print(type(element))"
      ],
      "metadata": {
        "colab": {
          "base_uri": "https://localhost:8080/"
        },
        "id": "bcjMYx48lBa4",
        "outputId": "a05db018-5f43-4e36-c70f-ea4929057898"
      },
      "execution_count": 31,
      "outputs": [
        {
          "output_type": "stream",
          "name": "stdout",
          "text": [
            "<class 'str'>\n",
            "<class 'str'>\n",
            "<class 'str'>\n",
            "<class 'str'>\n",
            "<class 'str'>\n",
            "<class 'numpy.str_'>\n",
            "<class 'numpy.str_'>\n",
            "<class 'numpy.str_'>\n",
            "<class 'numpy.str_'>\n",
            "<class 'numpy.str_'>\n"
          ]
        }
      ]
    },
    {
      "cell_type": "code",
      "source": [
        "# answer 3\n",
        "array_list = np.array(object=list_, dtype=int)\n",
        "\n",
        "# Yes, the dtype=int argument specifies that the elements in array_list should be cast as integers.\n",
        "list_ = ['1', '2', '3', '4', '5']\n",
        "array_list = np.array(object=list_, dtype=int)\n",
        "\n",
        "logging.info(\"Print data type of each element in list_\")\n",
        "for element in list_:\n",
        "    print(type(element))\n",
        "\n",
        "# Print data type of each element in array_list\n",
        "for element in array_list:\n",
        "    print(type(element))"
      ],
      "metadata": {
        "colab": {
          "base_uri": "https://localhost:8080/"
        },
        "id": "RPGYqqS0lD1t",
        "outputId": "f6a919ac-d09a-4a49-b828-5b8007d4c50c"
      },
      "execution_count": 32,
      "outputs": [
        {
          "output_type": "stream",
          "name": "stdout",
          "text": [
            "<class 'str'>\n",
            "<class 'str'>\n",
            "<class 'str'>\n",
            "<class 'str'>\n",
            "<class 'str'>\n",
            "<class 'numpy.int64'>\n",
            "<class 'numpy.int64'>\n",
            "<class 'numpy.int64'>\n",
            "<class 'numpy.int64'>\n",
            "<class 'numpy.int64'>\n"
          ]
        }
      ]
    },
    {
      "cell_type": "code",
      "source": [
        "# answer 4\n",
        "\"\"\"\n",
        "To find the characteristics of variable num_array, we can use the following numpy methods:\n",
        "\n",
        "shape: returns a tuple of integers representing the dimensions of the array.\n",
        "size: returns the total number of elements in the array.\n",
        "\"\"\"\n",
        "num_list = [[1, 2, 3], [4, 5, 6]]\n",
        "num_array = np.array(object=num_list)\n",
        "\n",
        "logging.info(\"finding the shape of num_array\")\n",
        "print(num_array.shape)\n",
        "\n",
        "logging.info(\"finding the size of num_array\")\n",
        "print(num_array.size)"
      ],
      "metadata": {
        "colab": {
          "base_uri": "https://localhost:8080/"
        },
        "id": "1lmxhNRElF8t",
        "outputId": "adc58855-59f4-4e2f-f8e5-de00ecb7e123"
      },
      "execution_count": 33,
      "outputs": [
        {
          "output_type": "stream",
          "name": "stdout",
          "text": [
            "(2, 3)\n",
            "6\n"
          ]
        }
      ]
    },
    {
      "cell_type": "code",
      "source": [
        "# answer 5\n",
        "logging.info(\"Create a 3x3 array of zeros\")\n",
        "zeros_array = np.zeros(shape=(3, 3))\n",
        "\n",
        "# Print the zeros_array\n",
        "print(zeros_array)"
      ],
      "metadata": {
        "colab": {
          "base_uri": "https://localhost:8080/"
        },
        "id": "zWGvgqTplG3G",
        "outputId": "5c9c7927-dac2-422d-f2ab-aab503bf7dcb"
      },
      "execution_count": 34,
      "outputs": [
        {
          "output_type": "stream",
          "name": "stdout",
          "text": [
            "[[0. 0. 0.]\n",
            " [0. 0. 0.]\n",
            " [0. 0. 0.]]\n"
          ]
        }
      ]
    },
    {
      "cell_type": "code",
      "source": [
        "# answer 6\n",
        "logging.info(\"Create a 5x5 identity matrix\")\n",
        "identity_matrix = np.eye(N=5, M=5)\n",
        "\n",
        "# Print the identity_matrix\n",
        "print(identity_matrix)"
      ],
      "metadata": {
        "colab": {
          "base_uri": "https://localhost:8080/"
        },
        "id": "2nlTGVMHlIjY",
        "outputId": "64f99cd7-aea5-4589-e932-e1bc2b303a09"
      },
      "execution_count": 35,
      "outputs": [
        {
          "output_type": "stream",
          "name": "stdout",
          "text": [
            "[[1. 0. 0. 0. 0.]\n",
            " [0. 1. 0. 0. 0.]\n",
            " [0. 0. 1. 0. 0.]\n",
            " [0. 0. 0. 1. 0.]\n",
            " [0. 0. 0. 0. 1.]]\n"
          ]
        }
      ]
    }
  ]
}