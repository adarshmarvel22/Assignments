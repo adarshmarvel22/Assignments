{
 "cells": [
  {
   "cell_type": "code",
   "execution_count": 1,
   "id": "36c623fa-ca92-4b5c-b82f-a919bed5e73d",
   "metadata": {},
   "outputs": [],
   "source": [
    "import logging\n",
    "logging.basicConfig(filename=\"19FebInfo.log\", level=logging.INFO, format=\"%(asctime)s %(name)s %(message)s\")"
   ]
  },
  {
   "cell_type": "code",
   "execution_count": 4,
   "id": "14b1319e-9e6f-4e51-b08f-7c77d05bd3cd",
   "metadata": {},
   "outputs": [
    {
     "name": "stdout",
     "output_type": "stream",
     "text": [
      "Collecting flask\n",
      "  Downloading Flask-2.2.3-py3-none-any.whl (101 kB)\n",
      "\u001b[2K     \u001b[90m━━━━━━━━━━━━━━━━━━━━━━━━━━━━━━━━━━━━━━━\u001b[0m \u001b[32m101.8/101.8 kB\u001b[0m \u001b[31m1.8 MB/s\u001b[0m eta \u001b[36m0:00:00\u001b[0ma \u001b[36m0:00:01\u001b[0m\n",
      "\u001b[?25hRequirement already satisfied: click>=8.0 in /opt/conda/lib/python3.10/site-packages (from flask) (8.1.3)\n",
      "Collecting itsdangerous>=2.0\n",
      "  Downloading itsdangerous-2.1.2-py3-none-any.whl (15 kB)\n",
      "Collecting Werkzeug>=2.2.2\n",
      "  Downloading Werkzeug-2.2.3-py3-none-any.whl (233 kB)\n",
      "\u001b[2K     \u001b[90m━━━━━━━━━━━━━━━━━━━━━━━━━━━━━━━━━━━━━━━\u001b[0m \u001b[32m233.6/233.6 kB\u001b[0m \u001b[31m7.1 MB/s\u001b[0m eta \u001b[36m0:00:00\u001b[0m\n",
      "\u001b[?25hRequirement already satisfied: Jinja2>=3.0 in /opt/conda/lib/python3.10/site-packages (from flask) (3.1.2)\n",
      "Requirement already satisfied: MarkupSafe>=2.0 in /opt/conda/lib/python3.10/site-packages (from Jinja2>=3.0->flask) (2.1.1)\n",
      "Installing collected packages: Werkzeug, itsdangerous, flask\n",
      "Successfully installed Werkzeug-2.2.3 flask-2.2.3 itsdangerous-2.1.2\n",
      "Note: you may need to restart the kernel to use updated packages.\n"
     ]
    }
   ],
   "source": [
    "pip install flask"
   ]
  },
  {
   "cell_type": "code",
   "execution_count": 2,
   "id": "1402674a-c588-4d87-8d4b-42ecc76feafe",
   "metadata": {},
   "outputs": [
    {
     "data": {
      "text/plain": [
       "'\\nLightweight: \\n    Flask is a lightweight framework with a small codebase, easy to deploy and scale web applications.\\n\\nFlexibility:\\n       It allows developers to use any ORM or database of their choice, and provides a simple API \\n       for handling requests and responses.\\n\\nEasy to Learn: \\n    Flask has a simple and intuitive syntax, making it easy to learn for beginners.\\n\\nExtensible:\\n    Flask is highly extensible and provides a wide range of extensions to add additional \\nfeatures to our application. These extensions include Flask-RESTful for building RESTful APIs, \\nFlask-Login for user authentication, and Flask-WTF for form validation.\\n\\nTestability: \\n    Flask applications are easy to test using popular testing frameworks like unittest and pytest.\\n\\nLarge Community:\\n    Flask has a large and active community of developers.\\n'"
      ]
     },
     "execution_count": 2,
     "metadata": {},
     "output_type": "execute_result"
    }
   ],
   "source": [
    "# answer 1\n",
    "\"\"\"\n",
    "Flask is a popular web application framework for Python. It is a lightweight and flexible framework \n",
    "that allows developers to quickly build web applications. Flask is considered a \"micro-framework,\" \n",
    "which means that it provides only the essential features necessary for web development and leaves\n",
    "the rest to the developer.\n",
    "\"\"\"\n",
    "# Some advantages of Flask include:\n",
    "\"\"\"\n",
    "Lightweight: \n",
    "    Flask is a lightweight framework with a small codebase, easy to deploy and scale web applications.\n",
    "\n",
    "Flexibility:\n",
    "       It allows developers to use any ORM or database of their choice, and provides a simple API \n",
    "       for handling requests and responses.\n",
    "\n",
    "Easy to Learn: \n",
    "    Flask has a simple and intuitive syntax, making it easy to learn for beginners.\n",
    "\n",
    "Extensible:\n",
    "    Flask is highly extensible and provides a wide range of extensions to add additional \n",
    "features to our application. These extensions include Flask-RESTful for building RESTful APIs, \n",
    "Flask-Login for user authentication, and Flask-WTF for form validation.\n",
    "\n",
    "Testability: \n",
    "    Flask applications are easy to test using popular testing frameworks like unittest and pytest.\n",
    "\n",
    "Large Community:\n",
    "    Flask has a large and active community of developers.\n",
    "\"\"\""
   ]
  },
  {
   "cell_type": "code",
   "execution_count": null,
   "id": "00e3280f-dd34-44a6-9bb2-25482b5e4ed7",
   "metadata": {},
   "outputs": [],
   "source": [
    "# answer 2\n",
    "from flask import Flask\n",
    "\n",
    "app = Flask(__name__)\n",
    "\n",
    "logging.info(\"routing the url\")\n",
    "@app.route('/')\n",
    "def hello_world():\n",
    "    return 'Hello World!'\n",
    "\n",
    "if __name__ == '__main__':\n",
    "    app.run()"
   ]
  },
  {
   "cell_type": "markdown",
   "id": "b9686fb9-23b3-44a4-96c5-faaaa8f8fbf9",
   "metadata": {},
   "source": [
    "<img src=\"f1.png\">"
   ]
  },
  {
   "cell_type": "code",
   "execution_count": null,
   "id": "9a1f9d63-b408-467d-91d1-531323a97098",
   "metadata": {},
   "outputs": [],
   "source": [
    "# answer 3\n",
    "\"\"\"\n",
    "An app route is created using the @app.route() decorator. It allows you to specify a URL pattern, or\n",
    "route, that will trigger the function when the URL is requested. The function should return the content\n",
    "that will be displayed in the response to the request.\n",
    "\"\"\"\n",
    "# Example code to demonstrate app routing\n",
    "from flask import Flask\n",
    "\n",
    "app = Flask(__name__)\n",
    "\n",
    "logging.info(\"routing the url\")\n",
    "@app.route('/')\n",
    "def index():\n",
    "    return 'This is the home page.'\n",
    "\n",
    "logging.info(\"routing the url /about\")\n",
    "@app.route('/about')\n",
    "def about():\n",
    "    return 'This is the about page.'\n",
    "\n",
    "if __name__ == '__main__':\n",
    "    app.run()\n",
    "\"\"\"\n",
    "When a user/client navigates to the root URL of the application, Flask will call the index()\n",
    "function and return the string \"This is the home page.\"\n",
    "\n",
    "App routing is used in Flask to create a structure and organize the URLs of the application,\n",
    "as well as to determine which function to execute in response to a particular URL. \n",
    "It allows us to create a RESTful API and handle different types of HTTP requests\n",
    "(GET, POST, PUT, DELETE, etc.) by associating different functions with different URLs.\n",
    "\"\"\""
   ]
  },
  {
   "cell_type": "code",
   "execution_count": null,
   "id": "0d8c8f7b-d6c5-48f5-b4de-db003a61c4ff",
   "metadata": {},
   "outputs": [],
   "source": [
    "# answer 4\n",
    "from flask import Flask\n",
    "\n",
    "app = Flask(__name__)\n",
    "\n",
    "logging.info(\"routing the url /welcome\")\n",
    "@app.route('/welcome')\n",
    "def welcome():\n",
    "    return 'Welcome to ABC Corporation'\n",
    "\n",
    "@app.route('/')\n",
    "def company_details():\n",
    "    return 'Company Name: ABC Corporation<br>Location: India<br>Contact Detail: 999-999-9999'\n",
    "\n",
    "if __name__ == '__main__':\n",
    "    app.run()"
   ]
  },
  {
   "cell_type": "markdown",
   "id": "8f8e81ba-2048-4211-9c39-3f4ada62f9ba",
   "metadata": {},
   "source": [
    "<img src=\"f2.png\">"
   ]
  },
  {
   "cell_type": "code",
   "execution_count": null,
   "id": "09e3997f-e18e-427f-b8e3-7d534b38b1ad",
   "metadata": {},
   "outputs": [],
   "source": [
    "# answer 5\n",
    "\"\"\"\n",
    "The url_for() function is used to build URLs for a given function name. It accepts the name of the \n",
    "function as its first argument and additional keyword arguments representing the values to be appended \n",
    "to the URL.\n",
    "\"\"\"\n",
    "\n",
    "# Example\n",
    "from flask import Flask,url_for\n",
    "from flask import request\n",
    "\n",
    "app = Flask(__name__)\n",
    "\n",
    "@app.route('/hello/<name>')\n",
    "def hello(name):\n",
    "    return f'Hello, {name}!'\n",
    "\n",
    "@app.route('/')\n",
    "def demo():\n",
    "    logging.info(\"generate a URL for the hello() function with the name parameter set to 'asad' \")\n",
    "    url = url_for('hello', name='asad')\n",
    "    return f'The URL is: {url}'\n",
    "\n",
    "if __name__==\"__main__\":\n",
    "    app.run(host=\"0.0.0.0\")\n",
    "\n",
    "\"\"\"\n",
    "In this example, we have defined three routes: show_user_profile(), show_post(), and login(). \n",
    "The index() function is associated with the root route (/) and uses the url_for() function to\n",
    "build URLs for the other functions.\n",
    "\"\"\""
   ]
  }
 ],
 "metadata": {
  "kernelspec": {
   "display_name": "Python 3 (ipykernel)",
   "language": "python",
   "name": "python3"
  },
  "language_info": {
   "codemirror_mode": {
    "name": "ipython",
    "version": 3
   },
   "file_extension": ".py",
   "mimetype": "text/x-python",
   "name": "python",
   "nbconvert_exporter": "python",
   "pygments_lexer": "ipython3",
   "version": "3.10.8"
  }
 },
 "nbformat": 4,
 "nbformat_minor": 5
}
